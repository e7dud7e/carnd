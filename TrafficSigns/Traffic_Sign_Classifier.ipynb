{
 "cells": [
  {
   "cell_type": "markdown",
   "metadata": {},
   "source": [
    "# Self-Driving Car Engineer Nanodegree\n",
    "\n",
    "## Deep Learning\n",
    "\n",
    "## Project: Build a Traffic Sign Recognition Classifier\n",
    "\n",
    "In this notebook, a template is provided for you to implement your functionality in stages, which is required to successfully complete this project. If additional code is required that cannot be included in the notebook, be sure that the Python code is successfully imported and included in your submission if necessary. \n",
    "\n",
    "> **Note**: Once you have completed all of the code implementations, you need to finalize your work by exporting the iPython Notebook as an HTML document. Before exporting the notebook to html, all of the code cells need to have been run so that reviewers can see the final implementation and output. You can then export the notebook by using the menu above and navigating to  \\n\",\n",
    "    \"**File -> Download as -> HTML (.html)**. Include the finished document along with this notebook as your submission. \n",
    "\n",
    "In addition to implementing code, there is a writeup to complete. The writeup should be completed in a separate file, which can be either a markdown file or a pdf document. There is a [write up template](https://github.com/udacity/CarND-Traffic-Sign-Classifier-Project/blob/master/writeup_template.md) that can be used to guide the writing process. Completing the code template and writeup template will cover all of the [rubric points](https://review.udacity.com/#!/rubrics/481/view) for this project.\n",
    "\n",
    "The [rubric](https://review.udacity.com/#!/rubrics/481/view) contains \"Stand Out Suggestions\" for enhancing the project beyond the minimum requirements. The stand out suggestions are optional. If you decide to pursue the \"stand out suggestions\", you can include the code in this Ipython notebook and also discuss the results in the writeup file.\n",
    "\n",
    "\n",
    ">**Note:** Code and Markdown cells can be executed using the **Shift + Enter** keyboard shortcut. In addition, Markdown cells can be edited by typically double-clicking the cell to enter edit mode."
   ]
  },
  {
   "cell_type": "markdown",
   "metadata": {},
   "source": [
    "---\n",
    "## Step 0: Load The Data"
   ]
  },
  {
   "cell_type": "code",
   "execution_count": 22,
   "metadata": {
    "collapsed": true
   },
   "outputs": [],
   "source": [
    "'''\n",
    "imports\n",
    "'''\n",
    "import tensorflow as tf\n",
    "import pandas as pd\n",
    "import numpy as np\n",
    "import cv2\n",
    "from datetime import datetime\n",
    "import pickle\n",
    "import matplotlib.pyplot as plt\n",
    "# Visualizations will be shown in the notebook.\n",
    "%matplotlib inline \n",
    "import random\n",
    "from sklearn.utils import shuffle\n",
    "from skimage.color import rgb2gray\n",
    "from skimage import data\n"
   ]
  },
  {
   "cell_type": "code",
   "execution_count": 2,
   "metadata": {
    "collapsed": false
   },
   "outputs": [],
   "source": [
    "# Load pickled data\n",
    "\n",
    "\n",
    "# TODO: Fill this in based on where you saved the training and testing data\n",
    "\n",
    "training_file = \"./train.p\"\n",
    "validation_file= \"./valid.p\"\n",
    "testing_file = \"./test.p\"\n",
    "\n",
    "with open(training_file, mode='rb') as f:\n",
    "    train = pickle.load(f)\n",
    "with open(validation_file, mode='rb') as f:\n",
    "    valid = pickle.load(f)\n",
    "with open(testing_file, mode='rb') as f:\n",
    "    test = pickle.load(f)\n",
    "    \n",
    "sign_name_file = \"./signnames.csv\"\n",
    "\n",
    "X_train, y_train = train['features'], train['labels']\n",
    "X_valid, y_valid = valid['features'], valid['labels']\n",
    "X_test, y_test = test['features'], test['labels']"
   ]
  },
  {
   "cell_type": "markdown",
   "metadata": {},
   "source": [
    "---\n",
    "\n",
    "## Step 1: Dataset Summary & Exploration\n",
    "\n",
    "The pickled data is a dictionary with 4 key/value pairs:\n",
    "\n",
    "- `'features'` is a 4D array containing raw pixel data of the traffic sign images, (num examples, width, height, channels).\n",
    "- `'labels'` is a 1D array containing the label/class id of the traffic sign. The file `signnames.csv` contains id -> name mappings for each id.\n",
    "- `'sizes'` is a list containing tuples, (width, height) representing the original width and height the image.\n",
    "- `'coords'` is a list containing tuples, (x1, y1, x2, y2) representing coordinates of a bounding box around the sign in the image. **THESE COORDINATES ASSUME THE ORIGINAL IMAGE. THE PICKLED DATA CONTAINS RESIZED VERSIONS (32 by 32) OF THESE IMAGES**\n",
    "\n",
    "Complete the basic data summary below. Use python, numpy and/or pandas methods to calculate the data summary rather than hard coding the results. For example, the [pandas shape method](http://pandas.pydata.org/pandas-docs/stable/generated/pandas.DataFrame.shape.html) might be useful for calculating some of the summary results. "
   ]
  },
  {
   "cell_type": "markdown",
   "metadata": {},
   "source": [
    "### Provide a Basic Summary of the Data Set Using Python, Numpy and/or Pandas"
   ]
  },
  {
   "cell_type": "code",
   "execution_count": 3,
   "metadata": {
    "collapsed": false
   },
   "outputs": [
    {
     "name": "stdout",
     "output_type": "stream",
     "text": [
      "Number of training examples = 34799\n",
      "Number of validation examples = 4410\n",
      "Number of testing examples = 12630\n",
      "Image data shape = (32, 32, 3)\n",
      "Number of classes = 43\n"
     ]
    }
   ],
   "source": [
    "### Replace each question mark with the appropriate value. \n",
    "### Use python, pandas or numpy methods rather than hard coding the results\n",
    "\n",
    "# TODO: Number of training examples\n",
    "n_train = X_train.shape[0]\n",
    "\n",
    "# TODO: Number of validation examples\n",
    "n_validation = X_valid.shape[0]\n",
    "\n",
    "# TODO: Number of testing examples.\n",
    "n_test = X_test.shape[0]\n",
    "\n",
    "# TODO: What's the shape of an traffic sign image?\n",
    "image_shape = X_train.shape[1:4]\n",
    "\n",
    "# TODO: How many unique classes/labels there are in the dataset.\n",
    "n_classes = len(set(train['labels']))\n",
    "\n",
    "print(\"Number of training examples =\", n_train)\n",
    "print(\"Number of validation examples =\", n_validation)\n",
    "print(\"Number of testing examples =\", n_test)\n",
    "print(\"Image data shape =\", image_shape)\n",
    "print(\"Number of classes =\", n_classes)"
   ]
  },
  {
   "cell_type": "markdown",
   "metadata": {},
   "source": [
    "### Include an exploratory visualization of the dataset"
   ]
  },
  {
   "cell_type": "markdown",
   "metadata": {},
   "source": [
    "Visualize the German Traffic Signs Dataset using the pickled file(s). This is open ended, suggestions include: plotting traffic sign images, plotting the count of each sign, etc. \n",
    "\n",
    "The [Matplotlib](http://matplotlib.org/) [examples](http://matplotlib.org/examples/index.html) and [gallery](http://matplotlib.org/gallery.html) pages are a great resource for doing visualizations in Python.\n",
    "\n",
    "**NOTE:** It's recommended you start with something simple first. If you wish to do more, come back to it after you've completed the rest of the sections. It can be interesting to look at the distribution of classes in the training, validation and test set. Is the distribution the same? Are there more examples of some classes than others?"
   ]
  },
  {
   "cell_type": "code",
   "execution_count": 4,
   "metadata": {
    "collapsed": false
   },
   "outputs": [
    {
     "name": "stdout",
     "output_type": "stream",
     "text": [
      "label 38, index 14721\n"
     ]
    },
    {
     "data": {
      "image/png": "[encoded data removed]",
      "text/plain": [
       "<matplotlib.figure.Figure at 0x7fee1d402710>"
      ]
     },
     "metadata": {},
     "output_type": "display_data"
    }
   ],
   "source": [
    "### Data exploration visualization code goes here.\n",
    "### Feel free to use as many code cells as needed.\n",
    "\n",
    "\n",
    "index = random.randint(0, len(X_train))\n",
    "image = X_train[index].squeeze()\n",
    "\n",
    "plt.figure(figsize=(1,1))\n",
    "plt.imshow(image)\n",
    "print(\"label {}, index {}\".format(y_train[index], index))\n"
   ]
  },
  {
   "cell_type": "code",
   "execution_count": 5,
   "metadata": {
    "collapsed": false
   },
   "outputs": [],
   "source": [
    "def show_images(x,y, samples_per_class=4, classes_to_show=list(range(0,7)), seed=0):\n",
    "    np.random.seed(seed)\n",
    "    plt.rcParams['figure.figsize'] = (8, 10)\n",
    "    sign_df = pd.read_csv(sign_name_file)\n",
    "    labels = sign_df['SignName'].values\n",
    "    num_classes = labels.shape[0]\n",
    "    ids = range(num_classes)\n",
    "    labels_to_show = labels[classes_to_show]\n",
    "\n",
    "    #check if class id has any images.  Plot only classes that have images\n",
    "    class_list = list()\n",
    "    for class_id in classes_to_show:\n",
    "        indexes_of_class = np.where( y == class_id)[0]\n",
    "        if len(indexes_of_class) == 0:\n",
    "            print(\"no images for class id {}\".format(class_id))\n",
    "        else:\n",
    "            class_list.append(class_id)\n",
    "    \n",
    "    for ii, class_id in enumerate(class_list):\n",
    "        #find indices for the images of the same class\n",
    "        indexes_of_class = np.where( y == class_id)[0]\n",
    "        sampled_indices = np.random.choice(indexes_of_class, samples_per_class, replace=False)\n",
    "        for i, index in enumerate(sampled_indices):\n",
    "            plot_index = ii*samples_per_class + i + 1\n",
    "            plt.subplot(len(class_list), samples_per_class, plot_index)\n",
    "            plt.imshow(x[index].astype('uint8'))\n",
    "            plt.axis('off')\n",
    "            title = labels_to_show[ii]\n",
    "            if i == 0:\n",
    "                plt.title(title)"
   ]
  },
  {
   "cell_type": "code",
   "execution_count": 6,
   "metadata": {
    "collapsed": false
   },
   "outputs": [
    {
     "data": {
      "image/png": "[encoded data removed]",
      "text/plain": [
       "<matplotlib.figure.Figure at 0x7fee1a40cc88>"
      ]
     },
     "metadata": {},
     "output_type": "display_data"
    }
   ],
   "source": [
    "show_images(x=X_train,y=y_train,samples_per_class=6,classes_to_show=list(range(0,7)))"
   ]
  },
  {
   "cell_type": "code",
   "execution_count": 42,
   "metadata": {
    "collapsed": false
   },
   "outputs": [],
   "source": [
    "def plot_sample_per_class(y,title=\"Disribution of Samples for Each Class\"):\n",
    "    sign_df = pd.read_csv(sign_name_file)\n",
    "    y_df = pd.DataFrame(y)\n",
    "    y_df = y_df.rename(index=str, columns={0:\"ClassId\"})\n",
    "    y_labeled_df = pd.merge(left=y_df,\n",
    "                                 right=sign_df)\n",
    "    y_sign_count = y_labeled_df.groupby(['SignName']).agg(['count'])\n",
    "    y_sign_count.sort_values([('ClassId','count')], ascending=True, inplace=True)\n",
    "    y_sign_count.plot.barh(figsize=(10,10));\n",
    "    plt.title(title)\n",
    "    pass"
   ]
  },
  {
   "cell_type": "code",
   "execution_count": 43,
   "metadata": {
    "collapsed": false
   },
   "outputs": [
    {
     "data": {
      "image/png": "[encoded data removed]",
      "text/plain": [
       "<matplotlib.figure.Figure at 0x7fedb7a20208>"
      ]
     },
     "metadata": {},
     "output_type": "display_data"
    }
   ],
   "source": [
    "plot_sample_per_class(y_train, \"Original Training Data Distribution of Samples for Each Class\")"
   ]
  },
  {
   "cell_type": "code",
   "execution_count": 34,
   "metadata": {
    "collapsed": false
   },
   "outputs": [
    {
     "data": {
      "text/plain": [
       "43"
      ]
     },
     "execution_count": 34,
     "metadata": {},
     "output_type": "execute_result"
    }
   ],
   "source": [
    "len(y_train_sign_count)"
   ]
  },
  {
   "cell_type": "code",
   "execution_count": 8,
   "metadata": {
    "collapsed": false
   },
   "outputs": [
    {
     "data": {
      "text/html": [
       "<div>\n",
       "<table border=\"1\" class=\"dataframe\">\n",
       "  <thead>\n",
       "    <tr>\n",
       "      <th></th>\n",
       "      <th>ClassId</th>\n",
       "    </tr>\n",
       "    <tr>\n",
       "      <th></th>\n",
       "      <th>count</th>\n",
       "    </tr>\n",
       "    <tr>\n",
       "      <th>SignName</th>\n",
       "      <th></th>\n",
       "    </tr>\n",
       "  </thead>\n",
       "  <tbody>\n",
       "    <tr>\n",
       "      <th>No passing</th>\n",
       "      <td>1320</td>\n",
       "    </tr>\n",
       "    <tr>\n",
       "      <th>Road work</th>\n",
       "      <td>1350</td>\n",
       "    </tr>\n",
       "    <tr>\n",
       "      <th>Speed limit (80km/h)</th>\n",
       "      <td>1650</td>\n",
       "    </tr>\n",
       "    <tr>\n",
       "      <th>Speed limit (70km/h)</th>\n",
       "      <td>1770</td>\n",
       "    </tr>\n",
       "    <tr>\n",
       "      <th>No passing for vehicles over 3.5 metric tons</th>\n",
       "      <td>1800</td>\n",
       "    </tr>\n",
       "    <tr>\n",
       "      <th>Keep right</th>\n",
       "      <td>1860</td>\n",
       "    </tr>\n",
       "    <tr>\n",
       "      <th>Priority road</th>\n",
       "      <td>1890</td>\n",
       "    </tr>\n",
       "    <tr>\n",
       "      <th>Yield</th>\n",
       "      <td>1920</td>\n",
       "    </tr>\n",
       "    <tr>\n",
       "      <th>Speed limit (30km/h)</th>\n",
       "      <td>1980</td>\n",
       "    </tr>\n",
       "    <tr>\n",
       "      <th>Speed limit (50km/h)</th>\n",
       "      <td>2010</td>\n",
       "    </tr>\n",
       "  </tbody>\n",
       "</table>\n",
       "</div>"
      ],
      "text/plain": [
       "                                             ClassId\n",
       "                                               count\n",
       "SignName                                            \n",
       "No passing                                      1320\n",
       "Road work                                       1350\n",
       "Speed limit (80km/h)                            1650\n",
       "Speed limit (70km/h)                            1770\n",
       "No passing for vehicles over 3.5 metric tons    1800\n",
       "Keep right                                      1860\n",
       "Priority road                                   1890\n",
       "Yield                                           1920\n",
       "Speed limit (30km/h)                            1980\n",
       "Speed limit (50km/h)                            2010"
      ]
     },
     "execution_count": 8,
     "metadata": {},
     "output_type": "execute_result"
    }
   ],
   "source": [
    "'''\n",
    "10 most common labels\n",
    "'''\n",
    "y_train_sign_count[-10:]"
   ]
  },
  {
   "cell_type": "code",
   "execution_count": 9,
   "metadata": {
    "collapsed": false
   },
   "outputs": [
    {
     "data": {
      "text/html": [
       "<div>\n",
       "<table border=\"1\" class=\"dataframe\">\n",
       "  <thead>\n",
       "    <tr>\n",
       "      <th></th>\n",
       "      <th>ClassId</th>\n",
       "    </tr>\n",
       "    <tr>\n",
       "      <th></th>\n",
       "      <th>count</th>\n",
       "    </tr>\n",
       "    <tr>\n",
       "      <th>SignName</th>\n",
       "      <th></th>\n",
       "    </tr>\n",
       "  </thead>\n",
       "  <tbody>\n",
       "    <tr>\n",
       "      <th>Go straight or left</th>\n",
       "      <td>180</td>\n",
       "    </tr>\n",
       "    <tr>\n",
       "      <th>Speed limit (20km/h)</th>\n",
       "      <td>180</td>\n",
       "    </tr>\n",
       "    <tr>\n",
       "      <th>Dangerous curve to the left</th>\n",
       "      <td>180</td>\n",
       "    </tr>\n",
       "    <tr>\n",
       "      <th>End of no passing by vehicles over 3.5 metric tons</th>\n",
       "      <td>210</td>\n",
       "    </tr>\n",
       "    <tr>\n",
       "      <th>End of no passing</th>\n",
       "      <td>210</td>\n",
       "    </tr>\n",
       "    <tr>\n",
       "      <th>End of all speed and passing limits</th>\n",
       "      <td>210</td>\n",
       "    </tr>\n",
       "    <tr>\n",
       "      <th>Pedestrians</th>\n",
       "      <td>210</td>\n",
       "    </tr>\n",
       "    <tr>\n",
       "      <th>Road narrows on the right</th>\n",
       "      <td>240</td>\n",
       "    </tr>\n",
       "    <tr>\n",
       "      <th>Bicycles crossing</th>\n",
       "      <td>240</td>\n",
       "    </tr>\n",
       "    <tr>\n",
       "      <th>Double curve</th>\n",
       "      <td>270</td>\n",
       "    </tr>\n",
       "  </tbody>\n",
       "</table>\n",
       "</div>"
      ],
      "text/plain": [
       "                                                   ClassId\n",
       "                                                     count\n",
       "SignName                                                  \n",
       "Go straight or left                                    180\n",
       "Speed limit (20km/h)                                   180\n",
       "Dangerous curve to the left                            180\n",
       "End of no passing by vehicles over 3.5 metric tons     210\n",
       "End of no passing                                      210\n",
       "End of all speed and passing limits                    210\n",
       "Pedestrians                                            210\n",
       "Road narrows on the right                              240\n",
       "Bicycles crossing                                      240\n",
       "Double curve                                           270"
      ]
     },
     "execution_count": 9,
     "metadata": {},
     "output_type": "execute_result"
    }
   ],
   "source": [
    "'''\n",
    "least common labels\n",
    "'''\n",
    "y_train_sign_count[:10]"
   ]
  },
  {
   "cell_type": "code",
   "execution_count": 10,
   "metadata": {
    "collapsed": false
   },
   "outputs": [
    {
     "data": {
      "text/html": [
       "<div>\n",
       "<table border=\"1\" class=\"dataframe\">\n",
       "  <thead>\n",
       "    <tr style=\"text-align: right;\">\n",
       "      <th></th>\n",
       "      <th>ClassId</th>\n",
       "      <th>SignName</th>\n",
       "    </tr>\n",
       "  </thead>\n",
       "  <tbody>\n",
       "    <tr>\n",
       "      <th>4830</th>\n",
       "      <td>37</td>\n",
       "      <td>Go straight or left</td>\n",
       "    </tr>\n",
       "    <tr>\n",
       "      <th>4831</th>\n",
       "      <td>37</td>\n",
       "      <td>Go straight or left</td>\n",
       "    </tr>\n",
       "    <tr>\n",
       "      <th>4832</th>\n",
       "      <td>37</td>\n",
       "      <td>Go straight or left</td>\n",
       "    </tr>\n",
       "    <tr>\n",
       "      <th>4833</th>\n",
       "      <td>37</td>\n",
       "      <td>Go straight or left</td>\n",
       "    </tr>\n",
       "    <tr>\n",
       "      <th>4834</th>\n",
       "      <td>37</td>\n",
       "      <td>Go straight or left</td>\n",
       "    </tr>\n",
       "    <tr>\n",
       "      <th>4835</th>\n",
       "      <td>37</td>\n",
       "      <td>Go straight or left</td>\n",
       "    </tr>\n",
       "    <tr>\n",
       "      <th>4836</th>\n",
       "      <td>37</td>\n",
       "      <td>Go straight or left</td>\n",
       "    </tr>\n",
       "    <tr>\n",
       "      <th>4837</th>\n",
       "      <td>37</td>\n",
       "      <td>Go straight or left</td>\n",
       "    </tr>\n",
       "    <tr>\n",
       "      <th>4838</th>\n",
       "      <td>37</td>\n",
       "      <td>Go straight or left</td>\n",
       "    </tr>\n",
       "    <tr>\n",
       "      <th>4839</th>\n",
       "      <td>37</td>\n",
       "      <td>Go straight or left</td>\n",
       "    </tr>\n",
       "    <tr>\n",
       "      <th>4840</th>\n",
       "      <td>37</td>\n",
       "      <td>Go straight or left</td>\n",
       "    </tr>\n",
       "    <tr>\n",
       "      <th>4841</th>\n",
       "      <td>37</td>\n",
       "      <td>Go straight or left</td>\n",
       "    </tr>\n",
       "    <tr>\n",
       "      <th>4842</th>\n",
       "      <td>37</td>\n",
       "      <td>Go straight or left</td>\n",
       "    </tr>\n",
       "    <tr>\n",
       "      <th>4843</th>\n",
       "      <td>37</td>\n",
       "      <td>Go straight or left</td>\n",
       "    </tr>\n",
       "    <tr>\n",
       "      <th>4844</th>\n",
       "      <td>37</td>\n",
       "      <td>Go straight or left</td>\n",
       "    </tr>\n",
       "    <tr>\n",
       "      <th>4845</th>\n",
       "      <td>37</td>\n",
       "      <td>Go straight or left</td>\n",
       "    </tr>\n",
       "    <tr>\n",
       "      <th>4846</th>\n",
       "      <td>37</td>\n",
       "      <td>Go straight or left</td>\n",
       "    </tr>\n",
       "    <tr>\n",
       "      <th>4847</th>\n",
       "      <td>37</td>\n",
       "      <td>Go straight or left</td>\n",
       "    </tr>\n",
       "    <tr>\n",
       "      <th>4848</th>\n",
       "      <td>37</td>\n",
       "      <td>Go straight or left</td>\n",
       "    </tr>\n",
       "    <tr>\n",
       "      <th>4849</th>\n",
       "      <td>37</td>\n",
       "      <td>Go straight or left</td>\n",
       "    </tr>\n",
       "    <tr>\n",
       "      <th>4850</th>\n",
       "      <td>37</td>\n",
       "      <td>Go straight or left</td>\n",
       "    </tr>\n",
       "    <tr>\n",
       "      <th>4851</th>\n",
       "      <td>37</td>\n",
       "      <td>Go straight or left</td>\n",
       "    </tr>\n",
       "    <tr>\n",
       "      <th>4852</th>\n",
       "      <td>37</td>\n",
       "      <td>Go straight or left</td>\n",
       "    </tr>\n",
       "    <tr>\n",
       "      <th>4853</th>\n",
       "      <td>37</td>\n",
       "      <td>Go straight or left</td>\n",
       "    </tr>\n",
       "    <tr>\n",
       "      <th>4854</th>\n",
       "      <td>37</td>\n",
       "      <td>Go straight or left</td>\n",
       "    </tr>\n",
       "    <tr>\n",
       "      <th>4855</th>\n",
       "      <td>37</td>\n",
       "      <td>Go straight or left</td>\n",
       "    </tr>\n",
       "    <tr>\n",
       "      <th>4856</th>\n",
       "      <td>37</td>\n",
       "      <td>Go straight or left</td>\n",
       "    </tr>\n",
       "    <tr>\n",
       "      <th>4857</th>\n",
       "      <td>37</td>\n",
       "      <td>Go straight or left</td>\n",
       "    </tr>\n",
       "    <tr>\n",
       "      <th>4858</th>\n",
       "      <td>37</td>\n",
       "      <td>Go straight or left</td>\n",
       "    </tr>\n",
       "    <tr>\n",
       "      <th>4859</th>\n",
       "      <td>37</td>\n",
       "      <td>Go straight or left</td>\n",
       "    </tr>\n",
       "    <tr>\n",
       "      <th>...</th>\n",
       "      <td>...</td>\n",
       "      <td>...</td>\n",
       "    </tr>\n",
       "    <tr>\n",
       "      <th>4980</th>\n",
       "      <td>37</td>\n",
       "      <td>Go straight or left</td>\n",
       "    </tr>\n",
       "    <tr>\n",
       "      <th>4981</th>\n",
       "      <td>37</td>\n",
       "      <td>Go straight or left</td>\n",
       "    </tr>\n",
       "    <tr>\n",
       "      <th>4982</th>\n",
       "      <td>37</td>\n",
       "      <td>Go straight or left</td>\n",
       "    </tr>\n",
       "    <tr>\n",
       "      <th>4983</th>\n",
       "      <td>37</td>\n",
       "      <td>Go straight or left</td>\n",
       "    </tr>\n",
       "    <tr>\n",
       "      <th>4984</th>\n",
       "      <td>37</td>\n",
       "      <td>Go straight or left</td>\n",
       "    </tr>\n",
       "    <tr>\n",
       "      <th>4985</th>\n",
       "      <td>37</td>\n",
       "      <td>Go straight or left</td>\n",
       "    </tr>\n",
       "    <tr>\n",
       "      <th>4986</th>\n",
       "      <td>37</td>\n",
       "      <td>Go straight or left</td>\n",
       "    </tr>\n",
       "    <tr>\n",
       "      <th>4987</th>\n",
       "      <td>37</td>\n",
       "      <td>Go straight or left</td>\n",
       "    </tr>\n",
       "    <tr>\n",
       "      <th>4988</th>\n",
       "      <td>37</td>\n",
       "      <td>Go straight or left</td>\n",
       "    </tr>\n",
       "    <tr>\n",
       "      <th>4989</th>\n",
       "      <td>37</td>\n",
       "      <td>Go straight or left</td>\n",
       "    </tr>\n",
       "    <tr>\n",
       "      <th>4990</th>\n",
       "      <td>37</td>\n",
       "      <td>Go straight or left</td>\n",
       "    </tr>\n",
       "    <tr>\n",
       "      <th>4991</th>\n",
       "      <td>37</td>\n",
       "      <td>Go straight or left</td>\n",
       "    </tr>\n",
       "    <tr>\n",
       "      <th>4992</th>\n",
       "      <td>37</td>\n",
       "      <td>Go straight or left</td>\n",
       "    </tr>\n",
       "    <tr>\n",
       "      <th>4993</th>\n",
       "      <td>37</td>\n",
       "      <td>Go straight or left</td>\n",
       "    </tr>\n",
       "    <tr>\n",
       "      <th>4994</th>\n",
       "      <td>37</td>\n",
       "      <td>Go straight or left</td>\n",
       "    </tr>\n",
       "    <tr>\n",
       "      <th>4995</th>\n",
       "      <td>37</td>\n",
       "      <td>Go straight or left</td>\n",
       "    </tr>\n",
       "    <tr>\n",
       "      <th>4996</th>\n",
       "      <td>37</td>\n",
       "      <td>Go straight or left</td>\n",
       "    </tr>\n",
       "    <tr>\n",
       "      <th>4997</th>\n",
       "      <td>37</td>\n",
       "      <td>Go straight or left</td>\n",
       "    </tr>\n",
       "    <tr>\n",
       "      <th>4998</th>\n",
       "      <td>37</td>\n",
       "      <td>Go straight or left</td>\n",
       "    </tr>\n",
       "    <tr>\n",
       "      <th>4999</th>\n",
       "      <td>37</td>\n",
       "      <td>Go straight or left</td>\n",
       "    </tr>\n",
       "    <tr>\n",
       "      <th>5000</th>\n",
       "      <td>37</td>\n",
       "      <td>Go straight or left</td>\n",
       "    </tr>\n",
       "    <tr>\n",
       "      <th>5001</th>\n",
       "      <td>37</td>\n",
       "      <td>Go straight or left</td>\n",
       "    </tr>\n",
       "    <tr>\n",
       "      <th>5002</th>\n",
       "      <td>37</td>\n",
       "      <td>Go straight or left</td>\n",
       "    </tr>\n",
       "    <tr>\n",
       "      <th>5003</th>\n",
       "      <td>37</td>\n",
       "      <td>Go straight or left</td>\n",
       "    </tr>\n",
       "    <tr>\n",
       "      <th>5004</th>\n",
       "      <td>37</td>\n",
       "      <td>Go straight or left</td>\n",
       "    </tr>\n",
       "    <tr>\n",
       "      <th>5005</th>\n",
       "      <td>37</td>\n",
       "      <td>Go straight or left</td>\n",
       "    </tr>\n",
       "    <tr>\n",
       "      <th>5006</th>\n",
       "      <td>37</td>\n",
       "      <td>Go straight or left</td>\n",
       "    </tr>\n",
       "    <tr>\n",
       "      <th>5007</th>\n",
       "      <td>37</td>\n",
       "      <td>Go straight or left</td>\n",
       "    </tr>\n",
       "    <tr>\n",
       "      <th>5008</th>\n",
       "      <td>37</td>\n",
       "      <td>Go straight or left</td>\n",
       "    </tr>\n",
       "    <tr>\n",
       "      <th>5009</th>\n",
       "      <td>37</td>\n",
       "      <td>Go straight or left</td>\n",
       "    </tr>\n",
       "  </tbody>\n",
       "</table>\n",
       "<p>180 rows × 2 columns</p>\n",
       "</div>"
      ],
      "text/plain": [
       "      ClassId             SignName\n",
       "4830       37  Go straight or left\n",
       "4831       37  Go straight or left\n",
       "4832       37  Go straight or left\n",
       "4833       37  Go straight or left\n",
       "4834       37  Go straight or left\n",
       "4835       37  Go straight or left\n",
       "4836       37  Go straight or left\n",
       "4837       37  Go straight or left\n",
       "4838       37  Go straight or left\n",
       "4839       37  Go straight or left\n",
       "4840       37  Go straight or left\n",
       "4841       37  Go straight or left\n",
       "4842       37  Go straight or left\n",
       "4843       37  Go straight or left\n",
       "4844       37  Go straight or left\n",
       "4845       37  Go straight or left\n",
       "4846       37  Go straight or left\n",
       "4847       37  Go straight or left\n",
       "4848       37  Go straight or left\n",
       "4849       37  Go straight or left\n",
       "4850       37  Go straight or left\n",
       "4851       37  Go straight or left\n",
       "4852       37  Go straight or left\n",
       "4853       37  Go straight or left\n",
       "4854       37  Go straight or left\n",
       "4855       37  Go straight or left\n",
       "4856       37  Go straight or left\n",
       "4857       37  Go straight or left\n",
       "4858       37  Go straight or left\n",
       "4859       37  Go straight or left\n",
       "...       ...                  ...\n",
       "4980       37  Go straight or left\n",
       "4981       37  Go straight or left\n",
       "4982       37  Go straight or left\n",
       "4983       37  Go straight or left\n",
       "4984       37  Go straight or left\n",
       "4985       37  Go straight or left\n",
       "4986       37  Go straight or left\n",
       "4987       37  Go straight or left\n",
       "4988       37  Go straight or left\n",
       "4989       37  Go straight or left\n",
       "4990       37  Go straight or left\n",
       "4991       37  Go straight or left\n",
       "4992       37  Go straight or left\n",
       "4993       37  Go straight or left\n",
       "4994       37  Go straight or left\n",
       "4995       37  Go straight or left\n",
       "4996       37  Go straight or left\n",
       "4997       37  Go straight or left\n",
       "4998       37  Go straight or left\n",
       "4999       37  Go straight or left\n",
       "5000       37  Go straight or left\n",
       "5001       37  Go straight or left\n",
       "5002       37  Go straight or left\n",
       "5003       37  Go straight or left\n",
       "5004       37  Go straight or left\n",
       "5005       37  Go straight or left\n",
       "5006       37  Go straight or left\n",
       "5007       37  Go straight or left\n",
       "5008       37  Go straight or left\n",
       "5009       37  Go straight or left\n",
       "\n",
       "[180 rows x 2 columns]"
      ]
     },
     "execution_count": 10,
     "metadata": {},
     "output_type": "execute_result"
    }
   ],
   "source": [
    "y_train_labeled_df[y_train_labeled_df['SignName']=='Go straight or left']"
   ]
  },
  {
   "cell_type": "code",
   "execution_count": null,
   "metadata": {
    "collapsed": true
   },
   "outputs": [],
   "source": []
  },
  {
   "cell_type": "markdown",
   "metadata": {},
   "source": [
    "----\n",
    "\n",
    "## Step 2: Design and Test a Model Architecture\n",
    "\n",
    "Design and implement a deep learning model that learns to recognize traffic signs. Train and test your model on the [German Traffic Sign Dataset](http://benchmark.ini.rub.de/?section=gtsrb&subsection=dataset).\n",
    "\n",
    "The LeNet-5 implementation shown in the [classroom](https://classroom.udacity.com/nanodegrees/nd013/parts/fbf77062-5703-404e-b60c-95b78b2f3f9e/modules/6df7ae49-c61c-4bb2-a23e-6527e69209ec/lessons/601ae704-1035-4287-8b11-e2c2716217ad/concepts/d4aca031-508f-4e0b-b493-e7b706120f81) at the end of the CNN lesson is a solid starting point. You'll have to change the number of classes and possibly the preprocessing, but aside from that it's plug and play! \n",
    "\n",
    "With the LeNet-5 solution from the lecture, you should expect a validation set accuracy of about 0.89. To meet specifications, the validation set accuracy will need to be at least 0.93. It is possible to get an even higher accuracy, but 0.93 is the minimum for a successful project submission. \n",
    "\n",
    "There are various aspects to consider when thinking about this problem:\n",
    "\n",
    "- Neural network architecture (is the network over or underfitting?)\n",
    "- Play around preprocessing techniques (normalization, rgb to grayscale, etc)\n",
    "- Number of examples per label (some have more than others).\n",
    "- Generate fake data.\n",
    "\n",
    "Here is an example of a [published baseline model on this problem](http://yann.lecun.com/exdb/publis/pdf/sermanet-ijcnn-11.pdf). It's not required to be familiar with the approach used in the paper but, it's good practice to try to read papers like these."
   ]
  },
  {
   "cell_type": "markdown",
   "metadata": {},
   "source": [
    "### Pre-process the Data Set (normalization, grayscale, etc.)"
   ]
  },
  {
   "cell_type": "markdown",
   "metadata": {},
   "source": [
    "Minimally, the image data should be normalized so that the data has mean zero and equal variance. For image data, `(pixel - 128)/ 128` is a quick way to approximately normalize the data and can be used in this project. \n",
    "\n",
    "Other pre-processing steps are optional. You can try different techniques to see if it improves performance. \n",
    "\n",
    "Use the code cell (or multiple code cells, if necessary) to implement the first step of your project."
   ]
  },
  {
   "cell_type": "code",
   "execution_count": null,
   "metadata": {
    "collapsed": true
   },
   "outputs": [],
   "source": [
    "### Preprocess the data here. It is required to normalize the data. Other preprocessing steps could include \n",
    "### converting to grayscale, etc.\n",
    "### Feel free to use as many code cells as needed."
   ]
  },
  {
   "cell_type": "code",
   "execution_count": 14,
   "metadata": {
    "collapsed": false
   },
   "outputs": [],
   "source": [
    "'''\n",
    "generate more data with rotate, shift, \n",
    "'''\n",
    "def translate_image(image, shift_x, shift_y):\n",
    "    '''\n",
    "    : image\n",
    "    '''\n",
    "    height,width = image.shape[0:2]\n",
    "    M = np.float32([[1,0,shift_x],[0,1,shift_y]])\n",
    "    new_image = cv2.warpAffine(image,M,(width,height))\n",
    "    return new_image\n",
    "\n",
    "def rotate_image(image,angle):\n",
    "    '''\n",
    "    '''\n",
    "    height, width = image.shape[0:2]\n",
    "    M = cv2.getRotationMatrix2D(center=(width/2,height/2),angle=angle,scale=1)\n",
    "    new_image = cv2.warpAffine(image,M,(width,height))\n",
    "    return new_image\n",
    "\n",
    "\"\"\"def generate_data_for_label(x, y, label,num_new):\n",
    "    '''\n",
    "    : x: set of original images (4 dimensions: batch, height, width, channel)\n",
    "    : y: labels (integers 1 to 43)\n",
    "    : label: class label to generate data for.\n",
    "    : \n",
    "    : return: tuple of new images and new labels\n",
    "    '''\n",
    "    idx_label = (y == label)\n",
    "    original_images = x[idx_label]\n",
    "    num_original = original_images.shape[0]\n",
    "    new_images = list()\n",
    "    for count in range(num_new):\n",
    "        i = np.random.uniform(low=0,high=num_original,size=1)\n",
    "        original_image = original_images[i]\n",
    "\n",
    "        shift_x = np.random.randint(low=-4, high=5)\n",
    "        shift_y = np.random.randint(low=-4, high=5)\n",
    "        translated_image = translate_image(original_image, shift_x,shift_y)\n",
    "        \n",
    "        angle = np.random.randint(low=-30, high=31)\n",
    "        rotated_translated_image = rotate_image(translated_image,angle)\n",
    "        \n",
    "        new_images.append(rotated_translated_image)\n",
    "    new_labels = np.repeat(label, repeats=num_new)\n",
    "    new_images = np.asarray(new_images)\n",
    "    return new_images, new_labels\n",
    "\"\"\"\n",
    "def count_images_for_label(y,label):\n",
    "    idx_label = (y == label)\n",
    "    count = np.sum(idx_label)\n",
    "    return count"
   ]
  },
  {
   "cell_type": "code",
   "execution_count": 13,
   "metadata": {
    "collapsed": false
   },
   "outputs": [],
   "source": [
    "def transform_image(x, idx):\n",
    "    original_image = x[idx]\n",
    "    shift_x = np.random.randint(low=-3, high=4)\n",
    "    shift_y = np.random.randint(low=-3, high=4)\n",
    "    translated_image = translate_image(original_image, shift_x,shift_y)\n",
    "\n",
    "    angle = np.random.randint(low=-15, high=16)\n",
    "    transformed_image = rotate_image(translated_image,angle)\n",
    "    return transformed_image"
   ]
  },
  {
   "cell_type": "code",
   "execution_count": null,
   "metadata": {
    "collapsed": true
   },
   "outputs": [],
   "source": [
    "def get_class_idx(y):\n",
    "    class_ids = set(y_train)\n",
    "    class_idx = dict()\n",
    "    for class_id in class_ids:\n",
    "        class_idx[class_id] = np.where( y_train == class_id)[0]\n",
    "    return class_idx"
   ]
  },
  {
   "cell_type": "code",
   "execution_count": null,
   "metadata": {
    "collapsed": true
   },
   "outputs": [],
   "source": [
    "\"\"\"\n",
    "def generate_balanced_data(x,y,target=2100):\n",
    "    '''\n",
    "    Originally, I tried to generate data so that all classes have the same number of images.\n",
    "    This appears to have led to overfitting, as validation accuracy without image generation was .95,\n",
    "    whereas accuracy with 2500 images for each class was .92.\n",
    "    \n",
    "    I will just generate images for the classes that have 1000 or fewer original images.\n",
    "    I will also cycle through each original image once, instead of random selection, to avoid\n",
    "    using the same original image more than once.\n",
    "    \n",
    "    Result of this method was slightly worse than when not generating any new data: 0.9469\n",
    "    \n",
    "    I'm going back to generating a balanced distribution and trying again.\n",
    "    \n",
    "    :x set of original images (4D: batch, heigh, width, channel)\n",
    "    :y labels\n",
    "    :target: minimum number of images desired for each class\n",
    "    '''\n",
    "    min_label = np.min(y)\n",
    "    max_label = np.max(y)\n",
    "    new_images_list = list()\n",
    "    new_labels_list = list()\n",
    "    for label in range(min_label,max_label+1):\n",
    "        num_original = count_images_for_label(y,label)\n",
    "        if original_count < target:\n",
    "            num_new = target - num_original\n",
    "            new_images, new_labels = generate_data_for_label(x,y,label,num_new)\n",
    "            new_images_list.extend(new_images)\n",
    "            new_labels_list.extend(new_labels)\n",
    "    new_x = np.asarray(new_images_list)\n",
    "    new_y = np.asarray(new_labels_list)\n",
    "    return new_x, new_y\n",
    "\"\"\""
   ]
  },
  {
   "cell_type": "code",
   "execution_count": null,
   "metadata": {
    "collapsed": true
   },
   "outputs": [],
   "source": [
    "def combine_original_new(original_x, new_x, original_y, new_y):\n",
    "    '''\n",
    "    4d arrays as input\n",
    "    '''\n",
    "    assert original_x.shape[1:] == new_x.shape[1:] and original_y.shape[1:] == new_y.shape[1:], \\\n",
    "        \"Each item in original and new should have same dimensions:\" + \\\n",
    "        \"original_x.shape {}\\t\".format(original_x.shape) + \\\n",
    "        \"new_x.shape {}\\n\".format(new_x.shape) + \\\n",
    "        \"original_y.shape {}\\t\".format(original_y.shape) + \\\n",
    "        \"new_y.shape {}\\n\".format(new_y.shape)\n",
    "    \n",
    "    combined_x = np.concatenate( (original_x, new_x), axis=0)\n",
    "    combined_y = np.concatenate( (original_y, new_y), axis=0)\n",
    "    return combined_x, combined_y"
   ]
  },
  {
   "cell_type": "code",
   "execution_count": null,
   "metadata": {
    "collapsed": true
   },
   "outputs": [],
   "source": [
    "#re-scale data from range of 0 to 255 to a desired range\n",
    "def rescale(data,in_left=0.,in_right=255.,out_left=-1.,out_right=1.):\n",
    "    '''    \n",
    "    '''\n",
    "    in_left = float(in_left)\n",
    "    in_right = float(in_right)\n",
    "    out_left = float(out_left)\n",
    "    out_right = float(out_right)\n",
    "    new_data = (data - in_left) * (out_right - out_left) / (in_right - in_left) + out_left\n",
    "    \n",
    "    return new_data\n",
    "\n",
    "def rescale_per_image(data, out_left=-1., out_right=1.):\n",
    "    '''\n",
    "    '''\n",
    "    out_left = float(out_left)\n",
    "    out_right = float(out_right)\n",
    "    new_data = np.zeros(shape=data.shape)\n",
    "    for ii in range(data.shape[0]):\n",
    "        in_left = np.min(data[ii]) #get the minimum for all pixels of one image, for all 3 channels\n",
    "        in_right = np.max(data[ii])\n",
    "        data_reshaped = np.reshape(data[ii],[1,data.shape[1],data.shape[2],data.shape[3]])\n",
    "        new_data[ii] = rescale(data_reshaped,in_left,in_right,out_left,out_right)\n",
    "    return new_data\n",
    "\n",
    "def grayscale(data):\n",
    "    \"\"\"\n",
    "    http://scikit-image.org/docs/dev/api/skimage.color.html?highlight=rgb2gray#skimage.color.rgb2gray\n",
    "    This weights green most heavily because human eyes also weight green most heavily\n",
    "    Y = 0.2125 R + 0.7154 G + 0.0721 B\n",
    "    Since the rgb2gray removes the channel dimension, I reshape it so that it has the 4th dimension\n",
    "    \"\"\"\n",
    "    data_gray = rgb2gray(data)\n",
    "    shape = data_gray.shape\n",
    "    data_gray4d = np.reshape(data_gray,[shape[0],shape[1],shape[2],1])\n",
    "    return data_gray4d\n"
   ]
  },
  {
   "cell_type": "code",
   "execution_count": null,
   "metadata": {
    "collapsed": true
   },
   "outputs": [],
   "source": []
  },
  {
   "cell_type": "code",
   "execution_count": 27,
   "metadata": {
    "collapsed": false
   },
   "outputs": [
    {
     "name": "stdout",
     "output_type": "stream",
     "text": [
      "runtime 0:00:06.596238\n"
     ]
    }
   ],
   "source": [
    "'''\n",
    "Reset the data before transform in case this cell is run multiple times\n",
    "'''\n",
    "X_train, y_train = train['features'], train['labels']\n",
    "X_valid, y_valid = valid['features'], valid['labels']\n",
    "X_test, y_test = test['features'], test['labels']\n",
    "\n",
    "# run data generation to balance out the samples per class\n",
    "\"\"\"start = datetime.now()\n",
    "new_x, new_y = generate_balanced_data(X_train,y_train,target=800)\n",
    "print(\"runtime {}\".format(datetime.now() - start))\"\"\""
   ]
  },
  {
   "cell_type": "code",
   "execution_count": null,
   "metadata": {
    "collapsed": true
   },
   "outputs": [],
   "source": [
    "'''\n",
    "Rescale each image so its min is 0 and its max is 255\n",
    "Visualize to demonstrate that the light-dark differences\n",
    "are reduced.\n",
    "'''\n",
    "\n",
    "X_train, y_train = train['features'], train['labels']\n",
    "X_valid, y_valid = valid['features'], valid['labels']\n",
    "X_test, y_test = test['features'], test['labels']\n",
    "\n",
    "X_train_tmp = rescale_per_image(X_train,0,255)\n",
    "X_valid_tmp = rescale_per_image(X_valid,0,255)\n",
    "X_test_tmp = rescale_per_image(X_test,0,255)\n",
    "\n",
    "image_shape = X_train.shape[1:4]"
   ]
  },
  {
   "cell_type": "code",
   "execution_count": 30,
   "metadata": {
    "collapsed": false
   },
   "outputs": [
    {
     "data": {
      "image/png": "[encoded data removed]",
      "text/plain": [
       "<matplotlib.figure.Figure at 0x7fee19a61eb8>"
      ]
     },
     "metadata": {},
     "output_type": "display_data"
    }
   ],
   "source": [
    "#images before rescaling\n",
    "show_images(x=X_train,y=y_train,samples_per_class=6,classes_to_show=list(range(0,7)))"
   ]
  },
  {
   "cell_type": "code",
   "execution_count": null,
   "metadata": {
    "collapsed": true
   },
   "outputs": [],
   "source": [
    "# show images after rescaling \n",
    "show_images(x=X_train_tmp,y=y_train,samples_per_class=6,classes_to_show=list(range(0,7)))"
   ]
  },
  {
   "cell_type": "code",
   "execution_count": 52,
   "metadata": {
    "collapsed": true
   },
   "outputs": [],
   "source": [
    "'''\n",
    "Rescale each image so its min is -1 and max is 1\n",
    "'''\n",
    "\n",
    "X_train, y_train = train['features'], train['labels']\n",
    "X_valid, y_valid = valid['features'], valid['labels']\n",
    "X_test, y_test = test['features'], test['labels']\n",
    "\n",
    "X_train = rescale_per_image(X_train)\n",
    "X_valid = rescale_per_image(X_valid)\n",
    "X_test = rescale_per_image(X_test)\n",
    "\n",
    "'''\n",
    "Grayscale didn't seem to make a difference\n",
    "#X_train = grayscale(X_train)\n",
    "#X_valid = grayscale(X_valid)\n",
    "#X_test = grayscale(X_test)\n",
    "'''\n",
    "\n",
    "X_train, y_train = shuffle(X_train, y_train)\n",
    "\n",
    "image_shape = X_train.shape[1:4]"
   ]
  },
  {
   "cell_type": "code",
   "execution_count": null,
   "metadata": {
    "collapsed": true
   },
   "outputs": [],
   "source": [
    "'''\n",
    "Check some images to make sure their min and max are -1 and 1\n",
    "'''\n",
    "for j in range(0,3):\n",
    "    i = np.random.randint(low=0,high=X_train.shape[0],size=1)\n",
    "    print(\"train image {} min {} max {} \".format(i, np.min(X_train[i]), np.max(X_train[i])))\n",
    "\n",
    "\n",
    "    i = np.random.randint(low=0,high=X_valid.shape[0],size=1)\n",
    "    print(\"validation image {} min {} max {} \".format(i, np.min(X_valid[i]), np.max(X_valid[i])))\n",
    "\n",
    "    i = np.random.randint(low=0,high=X_test.shape[0],size=1)\n",
    "    print(\"test image {} min {} max {} \".format(i, np.min(X_test[i]), np.max(X_test[i])))\n"
   ]
  },
  {
   "cell_type": "code",
   "execution_count": 53,
   "metadata": {
    "collapsed": true
   },
   "outputs": [],
   "source": [
    "# save transformed data\n",
    "prepared_data_file = \"traffic_sign_transformed_data.p\"\n",
    "pickle.dump( [X_train,y_train, X_valid, y_valid, X_test, y_test], open( prepared_data_file, \"wb\" ) )"
   ]
  },
  {
   "cell_type": "markdown",
   "metadata": {},
   "source": [
    "# CheckPoint: load transformed data"
   ]
  },
  {
   "cell_type": "code",
   "execution_count": 57,
   "metadata": {
    "collapsed": false
   },
   "outputs": [],
   "source": [
    "'''\n",
    "\n",
    "'''\n",
    "import tensorflow as tf\n",
    "import pandas as pd\n",
    "import numpy as np\n",
    "import cv2\n",
    "from datetime import datetime\n",
    "import pickle\n",
    "import matplotlib.pyplot as plt\n",
    "%matplotlib inline \n",
    "import random\n",
    "from sklearn.utils import shuffle\n",
    "from skimage.color import rgb2gray\n",
    "from skimage import data\n",
    "\n",
    "prepared_data_file = \"traffic_sign_transformed_data.p\"\n",
    "X_train,y_train, X_valid, y_valid, X_test, y_test = pickle.load( open(prepared_data_file, \"rb\") )"
   ]
  },
  {
   "cell_type": "markdown",
   "metadata": {},
   "source": [
    "### Model Architecture"
   ]
  },
  {
   "cell_type": "code",
   "execution_count": null,
   "metadata": {
    "collapsed": true
   },
   "outputs": [],
   "source": [
    "### Define your architecture here.\n",
    "### Feel free to use as many code cells as needed."
   ]
  },
  {
   "cell_type": "code",
   "execution_count": 60,
   "metadata": {
    "collapsed": true
   },
   "outputs": [],
   "source": [
    "'''\n",
    "Constants\n",
    "MU and SIGMA are the mean and stddev of the weights and biases\n",
    "'''\n",
    "MU = 0\n",
    "SIGMA = 0.1"
   ]
  },
  {
   "cell_type": "code",
   "execution_count": 61,
   "metadata": {
    "collapsed": true
   },
   "outputs": [],
   "source": [
    "#Define inputs to the graph\n",
    "\n",
    "def inputs_(image_shape, n_classes):\n",
    "    \"\"\"\n",
    "    Create the placeholders for inputs whose data are \n",
    "    set by feed_dict before a call to session.run()\n",
    "    : param: image_shape: a 3D tensor (height, width, channel depth)\n",
    "    : return: tuple with x, y, keep_prob, and is_training\n",
    "    \"\"\"\n",
    "    x = tf.placeholder(dtype=tf.float32,\n",
    "                       shape=(None, image_shape[0], image_shape[1], image_shape[2]),\n",
    "                       name='x')\n",
    "    y = tf.placeholder(dtype=tf.int32,\n",
    "                      shape=(None),\n",
    "                      name='y')\n",
    "    y_one_hot = tf.one_hot(y,n_classes)\n",
    "    keep_prob = tf.placeholder(dtype=tf.float32,\n",
    "                              shape=None,\n",
    "                              name='keep_prob')\n",
    "    is_training = tf.placeholder(dtype=tf.int8, shape=None, name='is_training')\n",
    "    return (x,y,y_one_hot,keep_prob,is_training)"
   ]
  },
  {
   "cell_type": "code",
   "execution_count": 62,
   "metadata": {
    "collapsed": true
   },
   "outputs": [],
   "source": [
    "def conv2d_norm(x_tensor,\n",
    "                      conv_num_outputs, \n",
    "                      conv_ksize, \n",
    "                      conv_strides,\n",
    "                      is_training=False):\n",
    "    \"\"\"\n",
    "    Apply convolution, then batch normalization, then activation on x_tensor input\n",
    "    :param x_tensor: TensorFlow Tensor; input image, batch, height, width, depth\n",
    "    :param conv_num_outputs: Number of outputs for the convolutional layer; output depth\n",
    "    :param conv_ksize: kernal size 2-D Tuple for the convolutional layer; filter dimensions\n",
    "    :param conv_strides: Stride 2-D Tuple for convolution\n",
    "    :param is_training: set to True when training, False when testing, for batch normalization\n",
    "    :return: A tensor that represents convolution and max pooling of x_tensor\n",
    "    \"\"\"\n",
    "\n",
    "    '''\n",
    "    use Tensor.get_shape().as_list() to get dimensions\n",
    "    '''\n",
    "    in_batch, in_height, in_width, in_depth = x_tensor.get_shape().as_list()\n",
    "    conv_height, conv_width = conv_ksize[0], conv_ksize[1]\n",
    "    weight = tf.Variable(tf.truncated_normal(shape=[conv_height,\n",
    "                                                    conv_width,\n",
    "                                                    in_depth,\n",
    "                                                    conv_num_outputs],\n",
    "                                             mean=MU,\n",
    "                                             stddev=SIGMA))\n",
    "    bias = tf.Variable(tf.truncated_normal(shape=[conv_num_outputs],\n",
    "                                          mean=MU,\n",
    "                                          stddev=SIGMA))\n",
    "    \n",
    "    #create convolutional layer\n",
    "    conv_strides_height, conv_strides_width = conv_strides[0], conv_strides[1]\n",
    "    conv_strides_batch = 1\n",
    "    conv_strides_channel = 1\n",
    "    conv_strides_ = [conv_strides_batch, \n",
    "                     conv_strides_height, \n",
    "                     conv_strides_width,\n",
    "                     conv_strides_channel]\n",
    "    \n",
    "    \n",
    "    #tf.nn.conv2d(input, filter, strides, padding, use_cudnn_on_gpu=None, data_format=None, name=None)\n",
    "    conv_layer = tf.nn.conv2d(input=x_tensor,\n",
    "                              filter=weight,\n",
    "                              strides=conv_strides_,\n",
    "                              padding='SAME')\n",
    "    \n",
    "    conv_layer_with_bias = tf.nn.bias_add(conv_layer, bias)\n",
    "    \n",
    "    #apply batch normalization after the linear step and before the non-linear activation\n",
    "    conv_layer_norm = tf.contrib.layers.batch_norm(conv_layer,\n",
    "                                              center=True,\n",
    "                                              scale=True,\n",
    "                                              is_training=is_training)\n",
    "    #activation\n",
    "    conv_layer_activation = tf.nn.relu(conv_layer_norm)\n",
    "    return conv_layer_activation"
   ]
  },
  {
   "cell_type": "code",
   "execution_count": 63,
   "metadata": {
    "collapsed": true
   },
   "outputs": [],
   "source": [
    "def maxpool(conv_layer_activation,pool_ksize,pool_strides=None):\n",
    "    \"\"\"\n",
    "    Apply max pooling to the convolutional layer\n",
    "    Note that it makes more sense for the stride to be the same as the ksize,\n",
    "    otherwise we end up with overlapping windows or skip parts of the image.\n",
    "    \n",
    "    :param pool_ksize: kernal size 2-D Tuple for pool\n",
    "    :param pool_strides: Stride 2-D Tuple for pool\n",
    "\n",
    "    \"\"\"\n",
    "    #tf.nn.max_pool(value, ksize, strides, padding, data_format='NHWC', name=None)\n",
    "    pool_stride_height, pool_stride_width = pool_ksize[0], pool_ksize[1]\n",
    "    pool_stride_batch, pool_stride_channel = 1, 1\n",
    "    pool_ksize_ = [pool_stride_batch,\n",
    "                   pool_stride_height,\n",
    "                   pool_stride_width,\n",
    "                   pool_stride_channel]\n",
    "    if pool_strides == None:\n",
    "        pool_strides_ = pool_ksize_\n",
    "    else:\n",
    "        pool_stride_height, pool_stride_width = pool_strides[0], pool_strides[1]\n",
    "        pool_stride_batch, pool_stride_channel = 1, 1\n",
    "        pool_strides_ = [pool_stride_batch,\n",
    "                         pool_stride_height,\n",
    "                         pool_stride_width,\n",
    "                         pool_stride_channel]\n",
    "\n",
    "    pool_layer = tf.nn.max_pool(value=conv_layer_activation,\n",
    "                               ksize=pool_ksize_,\n",
    "                               strides=pool_strides_,\n",
    "                               padding='SAME')\n",
    "    return pool_layer"
   ]
  },
  {
   "cell_type": "code",
   "execution_count": 64,
   "metadata": {
    "collapsed": true
   },
   "outputs": [],
   "source": [
    "def flatten(x_tensor):\n",
    "    \"\"\"\n",
    "    Flatten x_tensor to (Batch Size, Flattened Image Size)\n",
    "    Flatten layer prepares the convolutional output to be input for the fully connected layer.\n",
    "    Convolutional output is 4 dimensions: batch, height, width, channel.\n",
    "    The fully connected layer should take in 2D: batch, all data points (height * width * channel)\n",
    "    Note that we can also use the existing function: tf.contrib.layers.flatten to do the same thing.\n",
    "    Writing this function helps to show what it's doing.\n",
    "    \n",
    "    : x_tensor: A tensor of size (Batch Size, ...), where ... are the image dimensions.\n",
    "    : return: A tensor of size (Batch Size, Flattened Image Size).\n",
    "    \"\"\"\n",
    "    # TODO: Implement Function\n",
    "    batch, height, width, depth = x_tensor.get_shape().as_list()\n",
    "    num_inputs = height * width * depth\n",
    "    \n",
    "    '''\n",
    "    The inputs are along the columns, the num of rows are num of images for one batch.\n",
    "    Use -1 in reshape to choose number of rows based on the size of x_tensor, \n",
    "    while making sure that num of columns equals number of pixel inputs for a single image.\n",
    "    '''\n",
    "    x_flat = tf.reshape(x_tensor, [-1, num_inputs])\n",
    "    return x_flat"
   ]
  },
  {
   "cell_type": "code",
   "execution_count": 65,
   "metadata": {
    "collapsed": true
   },
   "outputs": [],
   "source": [
    "def fully_conn_norm(x_tensor, num_outputs, is_training=True):\n",
    "    \"\"\"\n",
    "    Apply a fully connected layer to x_tensor using weight and bias\n",
    "    Also apply batch normalization before adding activation.\n",
    "    : x_tensor: A 2-D tensor where the first dimension is batch size.\n",
    "      x_tensor is a flattened image, where each row contains one image.\n",
    "    : num_outputs: The number of output that the new tensor should be.\n",
    "    : is_training: set to True during training, False during testing\n",
    "    : return: A 2-D tensor where the second dimension is num_outputs.\n",
    "    \"\"\"\n",
    "    batch, num_inputs = x_tensor.get_shape().as_list()\n",
    "    weights = tf.Variable(tf.truncated_normal(shape=[num_inputs,num_outputs],\n",
    "                                              mean=MU,\n",
    "                                              stddev=SIGMA))\n",
    "    bias = tf.Variable(tf.truncated_normal(shape=[num_outputs],\n",
    "                                           mean=MU,\n",
    "                                           stddev=SIGMA))\n",
    "    fc = tf.matmul(x_tensor, weights)\n",
    "    fc = tf.nn.bias_add(fc,bias)\n",
    "    \n",
    "    #perform batch normalization before the non-linear activation\n",
    "    fc = tf.contrib.layers.batch_norm(fc, center=True, scale=True, is_training=is_training)\n",
    "    \n",
    "    #include activation\n",
    "    fc = tf.nn.relu(fc)\n",
    "    return fc"
   ]
  },
  {
   "cell_type": "code",
   "execution_count": 66,
   "metadata": {
    "collapsed": true
   },
   "outputs": [],
   "source": [
    "def output(x_tensor, num_outputs):\n",
    "    \"\"\"\n",
    "    Apply a output layer to x_tensor using weight and bias\n",
    "    : x_tensor: A 2-D tensor where the first dimension is batch size.\n",
    "    : num_outputs: The number of output that the new tensor should be.\n",
    "    : return: A 2-D tensor where the second dimension is num_outputs.\n",
    "    \"\"\"\n",
    "    # TODO: Implement Function\n",
    "    batch, num_inputs = x_tensor.get_shape().as_list()\n",
    "    weights = tf.Variable(tf.truncated_normal(shape=[num_inputs, num_outputs],\n",
    "                                              mean=MU,\n",
    "                                              stddev=SIGMA))\n",
    "    bias = tf.Variable(tf.truncated_normal(shape=[num_outputs],\n",
    "                                          mean=MU,\n",
    "                                          stddev=SIGMA))\n",
    "    logits = tf.matmul(x_tensor, weights)\n",
    "    logits = tf.nn.bias_add(logits, bias)\n",
    "    #do not include non-linear activation to output\n",
    "    return logits"
   ]
  },
  {
   "cell_type": "code",
   "execution_count": 67,
   "metadata": {
    "collapsed": true
   },
   "outputs": [],
   "source": [
    "def conv_net(x, keep_prob, is_training_flag=0):\n",
    "    \"\"\"\n",
    "    Create a convolutional neural network model\n",
    "    1x1 filter of depth 3: https://chatbotslife.com/german-sign-classification-using-deep-learning-neural-networks-98-8-solution-d05656bf51ad\n",
    "    \n",
    "    : x: Placeholder tensor that holds image data.\n",
    "    : keep_prob: Placeholder tensor that hold dropout keep probability.\n",
    "    : is_training: set to 1 during training, 0 during testing (for batch normalization in hidden layers)\n",
    "      I used an integer and translate to boolean because I had problems when passing a boolean into feed_dict\n",
    "      when running a session.\n",
    "    : return: Tensor that represents logits\n",
    "    \"\"\"\n",
    "    is_training = False if is_training_flag == 0 else True\n",
    "    \n",
    "    #apply 1x1 filter with depth 3 \n",
    "    color_map = conv2d_norm(x_tensor=x,\n",
    "                          conv_num_outputs=3,\n",
    "                          conv_ksize=(1,1),\n",
    "                          conv_strides=(1,1),\n",
    "                          is_training=is_training)\n",
    "    \n",
    "    # Apply convolutional layers with batch normalization, max pooling, and dropout\n",
    "    conv1 = conv2d_norm(x_tensor=color_map,\n",
    "                        conv_num_outputs=64, \n",
    "                        conv_ksize=(3,3), \n",
    "                        conv_strides=(1,1),\n",
    "                        is_training=is_training)\n",
    "    pool1 = maxpool(conv1,\n",
    "                    pool_ksize=(2,2))\n",
    "    drop1 = tf.nn.dropout(pool1,\n",
    "                          keep_prob)\n",
    "    \n",
    "    conv2 = conv2d_norm(x_tensor=drop1,\n",
    "                        conv_num_outputs=128,\n",
    "                        conv_ksize=(3,3), \n",
    "                        conv_strides=(1,1),\n",
    "                        is_training=is_training)\n",
    "    pool2 = maxpool(conv2,\n",
    "                    pool_ksize=(2,2))\n",
    "    drop2 = tf.nn.dropout(pool2,\n",
    "                          keep_prob)\n",
    "    \n",
    "    conv3 = conv2d_norm(x_tensor=drop2,\n",
    "                        conv_num_outputs=128, \n",
    "                        conv_ksize=(3,3), \n",
    "                        conv_strides=(1,1),\n",
    "                        is_training=is_training)\n",
    "    pool3 = maxpool(conv3,\n",
    "                    pool_ksize=(3,3))\n",
    "    drop3 = tf.nn.dropout(conv3, keep_prob)\n",
    "    \n",
    "    # Flatten Layer to prepare convolutional output as input to fully connected layer\n",
    "    flat = flatten(x_tensor=conv3)\n",
    "\n",
    "    # Fully connected layers\n",
    "    fc1 = fully_conn_norm(x_tensor=flat, num_outputs=2048, is_training=is_training)\n",
    "    fc1 = tf.nn.dropout(fc1, keep_prob)\n",
    "    \n",
    "    fc2 = fully_conn_norm(x_tensor=fc1, num_outputs=2048, is_training=is_training)\n",
    "    fc2 = tf.nn.dropout(fc2, keep_prob)\n",
    "    \n",
    "    fc3 = fully_conn_norm(x_tensor=fc2, num_outputs=2048, is_training=is_training)\n",
    "    fc3 = tf.nn.dropout(fc3, keep_prob)\n",
    "    \n",
    "    # Apply an Output Layer\n",
    "    #    Set this to the number of classes\n",
    "    logits = output(x_tensor=fc3, num_outputs=n_classes)\n",
    "    # Name logits Tensor, so that is can be loaded from disk after training\n",
    "    logits = tf.identity(logits, name='logits')\n",
    "\n",
    "    return logits"
   ]
  },
  {
   "cell_type": "markdown",
   "metadata": {},
   "source": [
    "### Train, Validate and Test the Model"
   ]
  },
  {
   "cell_type": "markdown",
   "metadata": {},
   "source": [
    "A validation set can be used to assess how well the model is performing. A low accuracy on the training and validation\n",
    "sets imply underfitting. A high accuracy on the training set but low accuracy on the validation set implies overfitting."
   ]
  },
  {
   "cell_type": "code",
   "execution_count": 262,
   "metadata": {
    "collapsed": true
   },
   "outputs": [],
   "source": [
    "### Train your model here.\n",
    "### Calculate and report the accuracy on the training and validation set.\n",
    "### Once a final model architecture is selected, \n",
    "### the accuracy on the test set should be calculated and reported as well.\n",
    "### Feel free to use as many code cells as needed."
   ]
  },
  {
   "cell_type": "markdown",
   "metadata": {},
   "source": [
    "Notes on performance\n",
    "\n",
    "Try 1\n",
    "Epochs 20, batch size 1024, color (3 channels), learning rate 0.01, keep_prob 0.50.\n",
    "Reached valid acc .85 at epoch 17, ended at epoch 20 with acc .84.\n",
    "\n",
    "Epoch 17, Batch 12:  loss 0.0017, validation accuracy 0.8537\n",
    "\n",
    "Epoch 20, Batch 34:  loss 0.0006, validation accuracy 0.8469\n",
    "\n",
    "Try 2\n",
    "Epochs 20, batch size 1024, learn rate .01, keep_prob 0.50, but grayscale (1 channel).  Valid acc improves more quickly, and reaches .84 at epoch 12.  At Epoch 20, still at .8451 accuracy.\n",
    "\n",
    "Epoch 20, Batch 34:  loss 0.0025, validation accuracy 0.8451\n",
    "\n",
    "Note that for the previous 1 cases, I found that my rescaling was incorrect, because when I pass in integers for the parameters, the scaling wasn't working; it worked if I convert them to float.\n",
    "\n",
    "Try 3\n",
    "I'm rescaling per image, so each image's min is -1 and each image's max is 1.\n",
    "Epochs 20, batch size 1024, color (3 channels), learning rate 0.01, keep_prob 0.50.  Using color (all 3 channels)\n",
    "At Epoch 12, getting valida acc .95.  It's pretty much hovering around that ever since Epoch 12.  Next time I can do tests with just 12 epochs to save time on experimenting.\n",
    "\n",
    "Epoch 12, Batch 17:  loss 0.0018, validation accuracy 0.9510\n",
    "\n",
    "Epoch 17, Batch 24:  loss 0.0004, validation accuracy 0.9535\n",
    "\n",
    "Epoch 20, Batch 34:  loss 0.0003, validation accuracy 0.9578\n",
    "\n",
    "Try 4:\n",
    "Rotate, shift, and add light to images, make number of samples equal for each label."
   ]
  },
  {
   "cell_type": "code",
   "execution_count": 72,
   "metadata": {
    "collapsed": false
   },
   "outputs": [],
   "source": [
    "\"\"\"\n",
    "Hyper parameters\n",
    "\"\"\"\n",
    "LEARNING_RATE=0.01\n",
    "\n",
    "\"\"\"\n",
    "Training pipeline:\n",
    "Build the network, define the cost, and create the optimizer that will minimize this cost.\n",
    "Also define the accuracy measures.\n",
    "\"\"\"\n",
    "\n",
    "# Remove previous weights, bias, inputs, etc..\n",
    "tf.reset_default_graph()\n",
    "\n",
    "# Inputs\n",
    "x,y,y_one_hot,keep_prob,is_training = inputs_(image_shape, n_classes)\n",
    "\n",
    "# Model and output\n",
    "logits = conv_net(x, keep_prob, is_training)\n",
    "\n",
    "cost = tf.reduce_mean(tf.nn.softmax_cross_entropy_with_logits(logits=logits, labels=y_one_hot), name='cost')\n",
    "optimizer = tf.train.AdamOptimizer(learning_rate=LEARNING_RATE, name='optimizer').minimize(cost)\n",
    "\n",
    "# Accuracy\n",
    "correct_pred = tf.equal(tf.argmax(logits, 1), tf.argmax(y_one_hot, 1))\n",
    "accuracy = tf.reduce_mean(tf.cast(correct_pred, tf.float32), name='accuracy')"
   ]
  },
  {
   "cell_type": "code",
   "execution_count": 73,
   "metadata": {
    "collapsed": false
   },
   "outputs": [],
   "source": [
    "\"\"\"\n",
    "def get_batch(x, y, batch_size):\n",
    "    num_records = len(y)\n",
    "    for ii in range(0, num_records, batch_size):\n",
    "        x_batch, y_batch = x[ii:ii+batch_size], y[ii:ii+batch_size]\n",
    "        yield x_batch, y_batch\n",
    "\"\"\""
   ]
  },
  {
   "cell_type": "code",
   "execution_count": null,
   "metadata": {
    "collapsed": true
   },
   "outputs": [],
   "source": [
    "def get_transformed_uniform_batch(x, y, fraction_transform=0.50, num_per_class=50):\n",
    "    \"\"\"\n",
    "    From the original data, get a random and equal distribution for all classes (sample without replacement).\n",
    "    Even the class with the smallest data (180) should have enough for one batch\n",
    "    \n",
    "    For a given percentage of each class, transform the image (translate/rotate).\n",
    "    \n",
    "    return the batch\n",
    "    \"\"\"\n",
    "    idx_split = int(num_per_class * fraction_transform)\n",
    "    batch_x = list()\n",
    "    batch_y = list()\n",
    "    class_idx = get_class_idx(y)\n",
    "    for class_id, class_indices in class_idx.items():\n",
    "        sample_idx = np.random.choice(class_indices, size=num_per_class, replace=False)\n",
    "        if idx_split > 0:\n",
    "            transform_idx, original_idx = sample_idx[0:idx_split], sample_idx[idx_split:]\n",
    "            original_images = x[original_idx]\n",
    "            original_labels = y[original_idx]\n",
    "            new_images = list()\n",
    "            for ii in transform_idx:\n",
    "                transformed_image = transform_image(X_train,ii)\n",
    "                new_images.append(transformed_image)\n",
    "\n",
    "            new_images = np.asarray(new_images)\n",
    "            new_labels = np.repeat(class_id, len(transform_idx))  #np.repeat(label, repeats=num_new)\n",
    "            class_images, class_labels = combine_original_new(original_images, new_images, original_labels, new_labels)\n",
    "        else:\n",
    "            class_images, class_labels = x[sample_idx], y[sample_idx]\n",
    "            \n",
    "        batch_x.extend(class_images)\n",
    "        batch_y.extend(class_labels)\n",
    "\n",
    "    #shuffle\n",
    "    batch_x, batch_y = shuffle(batch_x, batch_y)\n",
    "    batch_x = np.asarray(batch_x)\n",
    "    batch_y = np.asarray(batch_y)\n",
    "    return batch_x, batch_y\n",
    "\n",
    "\"\"\"\n",
    "num_classes = 42\n",
    "num_per_class = 50\n",
    "fraction_transform=0.90\n",
    "batch_x, batch_y = get_transformed_batch(X_train, y_train, fraction_transform, num_per_class)\n",
    "\"\"\""
   ]
  },
  {
   "cell_type": "code",
   "execution_count": null,
   "metadata": {
    "collapsed": true
   },
   "outputs": [],
   "source": [
    "def get_transformed_batch(x, y, fraction_transform=0.50, batch_size=2048):\n",
    "    \"\"\"\n",
    "    From the original data, get a random sample from the original data (don't try to equalizez the distribution)\n",
    "    \n",
    "    For a given percentage of each class, transform the image (translate/rotate).\n",
    "    \n",
    "    return the batch\n",
    "    \"\"\"\n",
    "    num_original = x.shape[0]\n",
    "    idx_split = int(fraction_transform * batch_size)\n",
    "    batch_x = list()\n",
    "    batch_y = list()\n",
    "    sample_idx = np.random.choice(range(num_original), size=batch_size, replace=False)\n",
    "    if idx_split > 0:\n",
    "        transform_idx, original_idx = sample_idx[0:idx_split], sample_idx[idx_split:]\n",
    "        original_images = x[original_idx]\n",
    "        original_labels = y[original_idx]\n",
    "        new_images = list()\n",
    "        new_labels = list()\n",
    "        for ii in transform_idx:\n",
    "            transformed_image = transform_image(X_train,ii)\n",
    "            new_images.append(transformed_image)\n",
    "            new_labels.append(y[ii])\n",
    "\n",
    "        new_images = np.asarray(new_images)\n",
    "        new_labels = np.asarray(new_labels)\n",
    "        class_images, class_labels = combine_original_new(original_images, new_images, original_labels, new_labels)\n",
    "    else:\n",
    "        class_images, class_labels = x[sample_idx], y[sample_idx]\n",
    "            \n",
    "    #shuffle\n",
    "    batch_x, batch_y = shuffle(class_images, class_labels)\n",
    "    batch_x, batch_y = np.asarray(batch_x), np.asarray(batch_y)\n",
    "    return batch_x, batch_y\n",
    "\"\"\"\n",
    "batch_size=10\n",
    "fraction_transform=0.90\n",
    "batch_x, batch_y = get_transformed_batch(X_train, y_train, fraction_transform, batch_size)\n",
    "batch_x.shape\n",
    "\"\"\""
   ]
  },
  {
   "cell_type": "code",
   "execution_count": 74,
   "metadata": {
    "collapsed": true
   },
   "outputs": [],
   "source": [
    "def train_neural_network(session, optimizer, keep_probability, feature_batch, label_batch):\n",
    "    \"\"\"\n",
    "    Optimize the session on a batch of images and labels\n",
    "    : session: Current TensorFlow session\n",
    "    : optimizer: TensorFlow optimizer function\n",
    "    : keep_probability: keep probability\n",
    "    : feature_batch: Batch of Numpy image data\n",
    "    : label_batch: Batch of Numpy label data\n",
    "    \"\"\"\n",
    "    # TODO: Implement Function\n",
    "    feed_dictionary = {x : feature_batch,\n",
    "                       y : label_batch,\n",
    "                       keep_prob : keep_probability,\n",
    "                       is_training : 1\n",
    "                      }\n",
    "    session.run(optimizer, feed_dict=feed_dictionary)"
   ]
  },
  {
   "cell_type": "code",
   "execution_count": null,
   "metadata": {
    "collapsed": true
   },
   "outputs": [],
   "source": [
    "def get_batch_loss_accuracy(session, feature_batch, label_batch, cost, accuracy):\n",
    "    \"\"\"\n",
    "    Calculate loss and accuracy.  This works for training batches and validation,\n",
    "    when the size of data isn't an issue for memory\n",
    "    \n",
    "    : session: Current TensorFlow session\n",
    "    : feature_batch: Batch of Numpy image data\n",
    "    : label_batch: Batch of Numpy label data\n",
    "    : cost: TensorFlow cost function\n",
    "    : accuracy: TensorFlow accuracy function\n",
    "    \"\"\"\n",
    "    \n",
    "    feed_dict = {x: feature_batch, \n",
    "                 y: label_batch, \n",
    "                 keep_prob: 1.}\n",
    "    batch_loss, batch_accuracy = session.run([cost,accuracy], feed_dict=feed_dict)\n",
    "    #print(\"training loss {:.4f}, accuracy {:.4f}\".format(batch_loss, batch_accuracy))\n",
    "    return batch_loss, batch_accuracy"
   ]
  },
  {
   "cell_type": "code",
   "execution_count": null,
   "metadata": {
    "collapsed": true
   },
   "outputs": [],
   "source": [
    "def print_batch_info(epoch, batch_i, batch_train_loss, batch_train_accuracy, valid_loss, valid_accuracy):\n",
    "    print('Epoch {:>2}, Batch {:>2}: '.format(epoch, batch_i), end='')\n",
    "    print(\"batch training loss {:.4f}, \".format(batch_train_loss), end='')\n",
    "    print(\"accuracy {:.4f}; \".format(batch_train_accuracy), end='')\n",
    "    print(\"validation loss {:.4f}, \".format(valid_loss), end='')\n",
    "    print(\"accuracy {:.4f}.\".format(valid_accuracy), end='\\n')"
   ]
  },
  {
   "cell_type": "code",
   "execution_count": null,
   "metadata": {
    "collapsed": true
   },
   "outputs": [],
   "source": [
    "def get_average_loss_accuracy(session, features, labels, cost, accuracy, batch_size):\n",
    "    \"\"\"\n",
    "    Calculate total loss and accuracy by first calculating in small batches, to avoid memory issues\n",
    "    \n",
    "    For each batch, scale results by number of records in each batch (the last batch may not be the full batch_size)\n",
    "    Then after all batches are calculated, divide by total num of records so that each record has the same weight\n",
    "    in the total loss and accuracy.\n",
    "    \"\"\"\n",
    "    assert features.shape[0] == labels.shape[0], \\\n",
    "        \"features {} and labels {} should have the same length\".format(features.shape[0], labels.shape[0])\n",
    "    total_accuracy = 0\n",
    "    total_loss = 0\n",
    "    num_records = features.shape[0]\n",
    "    for ii in range(0, num_records, batch_size):\n",
    "        batch_x, batch_y = features[ii:ii+batch_size], labels[ii:ii+batch_size]\n",
    "        feed_dict = {x: batch_x,\n",
    "                     y: batch_y,\n",
    "                     keep_prob: 1.}\n",
    "        batch_loss, batch_accuracy = session.run([cost, accuracy], feed_dict=feed_dict)\n",
    "        num_in_this_batch = batch_x.shape[0]\n",
    "        total_loss += batch_loss * num_in_this_batch\n",
    "        total_accuracy += batch_accuracy * num_in_this_batch\n",
    "        \n",
    "    average_loss = float(total_loss) / num_records\n",
    "    average_accuracy = float(total_accuracy) / num_records\n",
    "    return average_loss, average_accuracy"
   ]
  },
  {
   "cell_type": "code",
   "execution_count": null,
   "metadata": {
    "collapsed": true
   },
   "outputs": [],
   "source": [
    "def print_epoch_info(epoch, training_loss, training_accuracy, validation_loss, validation_accuracy):\n",
    "    print(\"\\n*********************************\\n\")\n",
    "    print(\"Average for Epoch {:>2}: \".format(epoch), end='')\n",
    "    print(\"Training loss = {:.4f}, \".format(training_loss), end='')\n",
    "    print(\"accuracy = {:.4f}; \".format(training_accuracy), end='')\n",
    "    print(\"Validation loss = {:.4f}, \".format(validation_loss), end='')\n",
    "    print(\"accuracy = {:.4f}\".format(validation_accuracy), end='\\n')\n",
    "    print(\"\\n*********************************\\n\")"
   ]
  },
  {
   "cell_type": "code",
   "execution_count": null,
   "metadata": {
    "collapsed": true
   },
   "outputs": [],
   "source": [
    "def plot_loss_accuracy(epochs, training_loss_history, training_accuracy_history, validation_loss_history, validation_accuracy_history):\n",
    "    loss_plot = plt.subplot(2,1,1)\n",
    "    loss_plot.set_title('Loss')\n",
    "    loss_plot.plot(training_loss_history, 'r', label='Training Loss')\n",
    "    loss_plot.plot(validation_loss_history, 'b', label='Validation Loss')\n",
    "    loss_plot.set_xlim([0, epochs])\n",
    "    loss_plot.legend(loc=4)\n",
    "    \n",
    "    acc_plot = plt.subplot(2,1,2)\n",
    "    acc_plot.set_title('Accuracy')\n",
    "    acc_plot.plot(training_accuracy_history,'r', label='Training Accuracy')\n",
    "    acc_plot.plot(validation_accuracy_history, 'b', label='Validation Accuracy')\n",
    "    acc_plot.set_ylim([0, 1.0])\n",
    "    acc_plot.set_xlim([0, epochs])\n",
    "    acc_plot.legend(loc=4)\n",
    "    plt.tight_layout()\n",
    "    plt.show()"
   ]
  },
  {
   "cell_type": "code",
   "execution_count": null,
   "metadata": {
    "collapsed": true
   },
   "outputs": [],
   "source": []
  },
  {
   "cell_type": "code",
   "execution_count": 86,
   "metadata": {
    "collapsed": false
   },
   "outputs": [
    {
     "name": "stdout",
     "output_type": "stream",
     "text": [
      "Training...\n"
     ]
    },
    {
     "ename": "KeyboardInterrupt",
     "evalue": "",
     "output_type": "error",
     "traceback": [
      "\u001b[0;31m---------------------------------------------------------------------------\u001b[0m",
      "\u001b[0;31mKeyboardInterrupt\u001b[0m                         Traceback (most recent call last)",
      "\u001b[0;32m<ipython-input-86-b7fc1c9dcb57>\u001b[0m in \u001b[0;36m<module>\u001b[0;34m()\u001b[0m\n\u001b[1;32m     24\u001b[0m \u001b[0;34m\u001b[0m\u001b[0m\n\u001b[1;32m     25\u001b[0m             \u001b[0;31m# Log accuracy and loss every epoch\u001b[0m\u001b[0;34m\u001b[0m\u001b[0;34m\u001b[0m\u001b[0m\n\u001b[0;32m---> 26\u001b[0;31m             \u001b[0mtraining_loss\u001b[0m\u001b[0;34m,\u001b[0m \u001b[0mtraining_accuracy\u001b[0m \u001b[0;34m=\u001b[0m \u001b[0mevaluate\u001b[0m\u001b[0;34m(\u001b[0m\u001b[0mX_train\u001b[0m\u001b[0;34m,\u001b[0m\u001b[0my_train\u001b[0m\u001b[0;34m,\u001b[0m \u001b[0msession\u001b[0m\u001b[0;34m)\u001b[0m\u001b[0;34m\u001b[0m\u001b[0m\n\u001b[0m\u001b[1;32m     27\u001b[0m             \u001b[0mtraining_loss_history\u001b[0m\u001b[0;34m.\u001b[0m\u001b[0mappend\u001b[0m\u001b[0;34m(\u001b[0m\u001b[0mtraining_loss\u001b[0m\u001b[0;34m)\u001b[0m\u001b[0;34m\u001b[0m\u001b[0m\n\u001b[1;32m     28\u001b[0m             \u001b[0mtraining_accuracy_history\u001b[0m\u001b[0;34m.\u001b[0m\u001b[0mappend\u001b[0m\u001b[0;34m(\u001b[0m\u001b[0mtraining_accuracy\u001b[0m\u001b[0;34m)\u001b[0m\u001b[0;34m\u001b[0m\u001b[0m\n",
      "\u001b[0;32m<ipython-input-82-3e0c96b25922>\u001b[0m in \u001b[0;36mevaluate\u001b[0;34m(X_data, y_data, sess)\u001b[0m\n\u001b[1;32m      8\u001b[0m                      \u001b[0my\u001b[0m\u001b[0;34m:\u001b[0m \u001b[0mbatch_y\u001b[0m\u001b[0;34m,\u001b[0m\u001b[0;34m\u001b[0m\u001b[0m\n\u001b[1;32m      9\u001b[0m                      keep_prob: 1.0}\n\u001b[0;32m---> 10\u001b[0;31m         \u001b[0mloss\u001b[0m\u001b[0;34m,\u001b[0m \u001b[0macc\u001b[0m \u001b[0;34m=\u001b[0m \u001b[0msess\u001b[0m\u001b[0;34m.\u001b[0m\u001b[0mrun\u001b[0m\u001b[0;34m(\u001b[0m\u001b[0;34m[\u001b[0m\u001b[0mcost\u001b[0m\u001b[0;34m,\u001b[0m \u001b[0maccuracy\u001b[0m\u001b[0;34m]\u001b[0m\u001b[0;34m,\u001b[0m \u001b[0mfeed_dict\u001b[0m\u001b[0;34m=\u001b[0m\u001b[0mfeed_dict\u001b[0m\u001b[0;34m)\u001b[0m\u001b[0;34m\u001b[0m\u001b[0m\n\u001b[0m\u001b[1;32m     11\u001b[0m         \u001b[0mtotal_acc\u001b[0m \u001b[0;34m+=\u001b[0m \u001b[0;34m(\u001b[0m\u001b[0macc\u001b[0m \u001b[0;34m*\u001b[0m \u001b[0mbatch_x\u001b[0m\u001b[0;34m.\u001b[0m\u001b[0mshape\u001b[0m\u001b[0;34m[\u001b[0m\u001b[0;36m0\u001b[0m\u001b[0;34m]\u001b[0m\u001b[0;34m)\u001b[0m\u001b[0;34m\u001b[0m\u001b[0m\n\u001b[1;32m     12\u001b[0m         \u001b[0mtotal_loss\u001b[0m \u001b[0;34m+=\u001b[0m \u001b[0;34m(\u001b[0m\u001b[0mloss\u001b[0m \u001b[0;34m*\u001b[0m \u001b[0mbatch_x\u001b[0m\u001b[0;34m.\u001b[0m\u001b[0mshape\u001b[0m\u001b[0;34m[\u001b[0m\u001b[0;36m0\u001b[0m\u001b[0;34m]\u001b[0m\u001b[0;34m)\u001b[0m\u001b[0;34m\u001b[0m\u001b[0m\n",
      "\u001b[0;32m/home/carnd/anaconda3/envs/carnd-term1/lib/python3.5/site-packages/tensorflow/python/client/session.py\u001b[0m in \u001b[0;36mrun\u001b[0;34m(self, fetches, feed_dict, options, run_metadata)\u001b[0m\n\u001b[1;32m    764\u001b[0m     \u001b[0;32mtry\u001b[0m\u001b[0;34m:\u001b[0m\u001b[0;34m\u001b[0m\u001b[0m\n\u001b[1;32m    765\u001b[0m       result = self._run(None, fetches, feed_dict, options_ptr,\n\u001b[0;32m--> 766\u001b[0;31m                          run_metadata_ptr)\n\u001b[0m\u001b[1;32m    767\u001b[0m       \u001b[0;32mif\u001b[0m \u001b[0mrun_metadata\u001b[0m\u001b[0;34m:\u001b[0m\u001b[0;34m\u001b[0m\u001b[0m\n\u001b[1;32m    768\u001b[0m         \u001b[0mproto_data\u001b[0m \u001b[0;34m=\u001b[0m \u001b[0mtf_session\u001b[0m\u001b[0;34m.\u001b[0m\u001b[0mTF_GetBuffer\u001b[0m\u001b[0;34m(\u001b[0m\u001b[0mrun_metadata_ptr\u001b[0m\u001b[0;34m)\u001b[0m\u001b[0;34m\u001b[0m\u001b[0m\n",
      "\u001b[0;32m/home/carnd/anaconda3/envs/carnd-term1/lib/python3.5/site-packages/tensorflow/python/client/session.py\u001b[0m in \u001b[0;36m_run\u001b[0;34m(self, handle, fetches, feed_dict, options, run_metadata)\u001b[0m\n\u001b[1;32m    962\u001b[0m     \u001b[0;32mif\u001b[0m \u001b[0mfinal_fetches\u001b[0m \u001b[0;32mor\u001b[0m \u001b[0mfinal_targets\u001b[0m\u001b[0;34m:\u001b[0m\u001b[0;34m\u001b[0m\u001b[0m\n\u001b[1;32m    963\u001b[0m       results = self._do_run(handle, final_targets, final_fetches,\n\u001b[0;32m--> 964\u001b[0;31m                              feed_dict_string, options, run_metadata)\n\u001b[0m\u001b[1;32m    965\u001b[0m     \u001b[0;32melse\u001b[0m\u001b[0;34m:\u001b[0m\u001b[0;34m\u001b[0m\u001b[0m\n\u001b[1;32m    966\u001b[0m       \u001b[0mresults\u001b[0m \u001b[0;34m=\u001b[0m \u001b[0;34m[\u001b[0m\u001b[0;34m]\u001b[0m\u001b[0;34m\u001b[0m\u001b[0m\n",
      "\u001b[0;32m/home/carnd/anaconda3/envs/carnd-term1/lib/python3.5/site-packages/tensorflow/python/client/session.py\u001b[0m in \u001b[0;36m_do_run\u001b[0;34m(self, handle, target_list, fetch_list, feed_dict, options, run_metadata)\u001b[0m\n\u001b[1;32m   1012\u001b[0m     \u001b[0;32mif\u001b[0m \u001b[0mhandle\u001b[0m \u001b[0;32mis\u001b[0m \u001b[0;32mNone\u001b[0m\u001b[0;34m:\u001b[0m\u001b[0;34m\u001b[0m\u001b[0m\n\u001b[1;32m   1013\u001b[0m       return self._do_call(_run_fn, self._session, feed_dict, fetch_list,\n\u001b[0;32m-> 1014\u001b[0;31m                            target_list, options, run_metadata)\n\u001b[0m\u001b[1;32m   1015\u001b[0m     \u001b[0;32melse\u001b[0m\u001b[0;34m:\u001b[0m\u001b[0;34m\u001b[0m\u001b[0m\n\u001b[1;32m   1016\u001b[0m       return self._do_call(_prun_fn, self._session, handle, feed_dict,\n",
      "\u001b[0;32m/home/carnd/anaconda3/envs/carnd-term1/lib/python3.5/site-packages/tensorflow/python/client/session.py\u001b[0m in \u001b[0;36m_do_call\u001b[0;34m(self, fn, *args)\u001b[0m\n\u001b[1;32m   1019\u001b[0m   \u001b[0;32mdef\u001b[0m \u001b[0m_do_call\u001b[0m\u001b[0;34m(\u001b[0m\u001b[0mself\u001b[0m\u001b[0;34m,\u001b[0m \u001b[0mfn\u001b[0m\u001b[0;34m,\u001b[0m \u001b[0;34m*\u001b[0m\u001b[0margs\u001b[0m\u001b[0;34m)\u001b[0m\u001b[0;34m:\u001b[0m\u001b[0;34m\u001b[0m\u001b[0m\n\u001b[1;32m   1020\u001b[0m     \u001b[0;32mtry\u001b[0m\u001b[0;34m:\u001b[0m\u001b[0;34m\u001b[0m\u001b[0m\n\u001b[0;32m-> 1021\u001b[0;31m       \u001b[0;32mreturn\u001b[0m \u001b[0mfn\u001b[0m\u001b[0;34m(\u001b[0m\u001b[0;34m*\u001b[0m\u001b[0margs\u001b[0m\u001b[0;34m)\u001b[0m\u001b[0;34m\u001b[0m\u001b[0m\n\u001b[0m\u001b[1;32m   1022\u001b[0m     \u001b[0;32mexcept\u001b[0m \u001b[0merrors\u001b[0m\u001b[0;34m.\u001b[0m\u001b[0mOpError\u001b[0m \u001b[0;32mas\u001b[0m \u001b[0me\u001b[0m\u001b[0;34m:\u001b[0m\u001b[0;34m\u001b[0m\u001b[0m\n\u001b[1;32m   1023\u001b[0m       \u001b[0mmessage\u001b[0m \u001b[0;34m=\u001b[0m \u001b[0mcompat\u001b[0m\u001b[0;34m.\u001b[0m\u001b[0mas_text\u001b[0m\u001b[0;34m(\u001b[0m\u001b[0me\u001b[0m\u001b[0;34m.\u001b[0m\u001b[0mmessage\u001b[0m\u001b[0;34m)\u001b[0m\u001b[0;34m\u001b[0m\u001b[0m\n",
      "\u001b[0;32m/home/carnd/anaconda3/envs/carnd-term1/lib/python3.5/site-packages/tensorflow/python/client/session.py\u001b[0m in \u001b[0;36m_run_fn\u001b[0;34m(session, feed_dict, fetch_list, target_list, options, run_metadata)\u001b[0m\n\u001b[1;32m   1001\u001b[0m         return tf_session.TF_Run(session, options,\n\u001b[1;32m   1002\u001b[0m                                  \u001b[0mfeed_dict\u001b[0m\u001b[0;34m,\u001b[0m \u001b[0mfetch_list\u001b[0m\u001b[0;34m,\u001b[0m \u001b[0mtarget_list\u001b[0m\u001b[0;34m,\u001b[0m\u001b[0;34m\u001b[0m\u001b[0m\n\u001b[0;32m-> 1003\u001b[0;31m                                  status, run_metadata)\n\u001b[0m\u001b[1;32m   1004\u001b[0m \u001b[0;34m\u001b[0m\u001b[0m\n\u001b[1;32m   1005\u001b[0m     \u001b[0;32mdef\u001b[0m \u001b[0m_prun_fn\u001b[0m\u001b[0;34m(\u001b[0m\u001b[0msession\u001b[0m\u001b[0;34m,\u001b[0m \u001b[0mhandle\u001b[0m\u001b[0;34m,\u001b[0m \u001b[0mfeed_dict\u001b[0m\u001b[0;34m,\u001b[0m \u001b[0mfetch_list\u001b[0m\u001b[0;34m)\u001b[0m\u001b[0;34m:\u001b[0m\u001b[0;34m\u001b[0m\u001b[0m\n",
      "\u001b[0;31mKeyboardInterrupt\u001b[0m: "
     ]
    }
   ],
   "source": [
    "\"\"\"\n",
    "Run training\n",
    "\"\"\"\n",
    "def train_and_evaluate(session, \n",
    "                       X_train,y_train,\n",
    "                       X_valid,y_valid, \n",
    "                       epoch_start = 1, epoch_end = 20, \n",
    "                       num_batches = 10,\n",
    "                       fraction_transform=0.50, batch_size=2048,\n",
    "                       training_loss_history=[], validation_loss_history=[], \n",
    "                       training_accuracy_history=[], validation_accuracy_history=[],\n",
    "                       save_model_path = './traffic_sign'):\n",
    "    start = datetime.now()\n",
    "    print(\"start time {}\".format(start))\n",
    "\n",
    "    print('Fraction transformed is {:.2f}, Training...'.format(fraction_transform))\n",
    "    #with tf.Session() as session:\n",
    "    #    session.run(tf.global_variables_initializer())\n",
    "\n",
    "    for epoch in range(epoch_start,epoch_end):\n",
    "        batch_i = 0\n",
    "        loss_one_epoch  = 0\n",
    "        valid_acc_one_epoch = 0\n",
    "        for batch_i in range(num_batches):\n",
    "            features_batch, labels_batch = get_transformed_batch(X_train, y_train, fraction_transform, batch_size)\n",
    "            train_neural_network(session, optimizer, TRAIN_KEEP_PROB, features_batch, labels_batch)\n",
    "            batch_i +=1\n",
    "\n",
    "            batch_train_loss, batch_train_accuracy = get_batch_loss_accuracy(session, \n",
    "                                                                 features_batch, \n",
    "                                                                 labels_batch, \n",
    "                                                                 cost, \n",
    "                                                                 accuracy)\n",
    "            valid_loss, valid_accuracy = get_batch_loss_accuracy(session,\n",
    "                                                                X_valid,\n",
    "                                                                y_valid,\n",
    "                                                                cost,\n",
    "                                                                accuracy)\n",
    "            print_batch_info(epoch, batch_i, batch_train_loss, batch_train_accuracy, valid_loss, valid_accuracy)\n",
    "            ###end for loop batches\n",
    "        # Training Loss and Accuracy over entire epoch\n",
    "        training_loss, training_accuracy = get_average_loss_accuracy(session,\n",
    "                                                                     X_train,\n",
    "                                                                     y_train,\n",
    "                                                                     cost,\n",
    "                                                                     accuracy,\n",
    "                                                                     batch_size)\n",
    "        training_loss_history.append(training_loss)\n",
    "        training_accuracy_history.append(training_accuracy)\n",
    "        #Validation set is small enough that we don't have to average over batches\n",
    "        validation_loss, validation_accuracy = get_batch_loss_accuracy(session,\n",
    "                                                                       X_valid,\n",
    "                                                                       y_valid,\n",
    "                                                                       cost,\n",
    "                                                                       accuracy)\n",
    "        validation_loss_history.append(validation_loss)\n",
    "        validation_accuracy_history.append(validation_accuracy)\n",
    "        print_epoch_info(epoch, training_loss, training_accuracy, validation_loss, validation_accuracy)\n",
    "        ###end for loop epochs\n",
    "\n",
    "    # Save Model\n",
    "    saver = tf.train.Saver()\n",
    "    save_path = saver.save(session, save_model_path)\n",
    "    print('saved graph')\n",
    "    endtime = datetime.now()\n",
    "    print(\"end time {}; runtime {}\".format(endtime, endtime - start))\n",
    "    return training_loss_history, validation_loss_history, training_accuracy_history, validation_accuracy_history"
   ]
  },
  {
   "cell_type": "code",
   "execution_count": null,
   "metadata": {
    "collapsed": true
   },
   "outputs": [],
   "source": [
    "def iterate_train_evaluate(epoch_start,epoch_end,\n",
    "                           X_train,y_train,\n",
    "                           X_valid,y_valid,\n",
    "                           batch_size=2048,\n",
    "                           fraction_transform = 0.90,\n",
    "                           num_batches=10,\n",
    "                           save_file_prefix='traffic_sign'):\n",
    "    \"\"\"\n",
    "    Train one epoch at a time and save graph after each epoch\n",
    "    \"\"\"\n",
    "    start_time = datetime.now()\n",
    "    training_loss_history, validation_loss_history = [], []\n",
    "    training_accuracy_history, validation_accuracy_history = [], []\n",
    "    with tf.Session() as session:\n",
    "        session.run(tf.global_variables_initializer())\n",
    "        for epoch in range(epoch_start,epoch_end+1):\n",
    "            save_model_path = './' + save_file_prefix + '_epoch_{0:02d}'.format(epoch_end)\n",
    "            epoch_next = epoch+1\n",
    "            training_loss_history, validation_loss_history, training_accuracy_history, validation_accuracy_history = \\\n",
    "            train_and_evaluate(session,\n",
    "                               X_train,y_train,\n",
    "                               X_valid,y_valid, \n",
    "                               epoch,epoch_next,\n",
    "                               num_batches,\n",
    "                               fraction_transform, batch_size,\n",
    "                               training_loss_history, validation_loss_history, \n",
    "                               training_accuracy_history, validation_accuracy_history,\n",
    "                               save_model_path=save_model_path)\n",
    "            fraction_transform = max(0.20, fraction_transform - 0.05)\n",
    "\n",
    "        plot_loss_accuracy(epoch_end, training_loss_history, training_accuracy_history, validation_loss_history, validation_accuracy_history)\n",
    "        end_time = datetime.now()\n",
    "        print(\"***************************************************\")\n",
    "        print(\"global start time {}, end time {} total run time {}\".format(start_time,end_time,end_time-start_time))"
   ]
  },
  {
   "cell_type": "code",
   "execution_count": 1,
   "metadata": {
    "collapsed": true
   },
   "outputs": [],
   "source": [
    "## Trial 1"
   ]
  },
  {
   "cell_type": "code",
   "execution_count": null,
   "metadata": {
    "collapsed": true
   },
   "outputs": [],
   "source": [
    "'''\n",
    "Trained using 2500 images for each class.  \n",
    "\n",
    "3 fully connected layers\n",
    "\n",
    "Probably generated too many of the same images for the classes that had very few original images.\n",
    "Looks like it's overfitting, because training accuracy reached 1.0 and validation accuracy hovered around 0.92 to 0.93.\n",
    "Average for Epoch 10: Training loss = 0.0049, accuracy = 0.9986;Validation loss = 0.3813, accuracy = 0.9259\n",
    "'''\n",
    "EPOCHS = 20\n",
    "BATCH_SIZE = 2048\n",
    "LEARNING_RATE = 0.01\n",
    "TRAIN_KEEP_PROB = 0.50\n",
    "\n",
    "train_and_evaluate(X_train,y_train,X_valid,y_valid, epochs=EPOCHS, batch_size=BATCH_SIZE)"
   ]
  },
  {
   "cell_type": "markdown",
   "metadata": {},
   "source": [
    "## Trial 2"
   ]
  },
  {
   "cell_type": "code",
   "execution_count": null,
   "metadata": {
    "collapsed": true
   },
   "outputs": [],
   "source": [
    "'''\n",
    "Train with images generated, one new image for each original image, \n",
    "only for classes that had fewer than 800 original images.\n",
    "\n",
    "3 fully connected layers\n",
    "\n",
    "Average for Epoch 20: Training loss = 0.0029, accuracy = 0.9992;Validation loss = 0.2575, accuracy = 0.9469\n",
    "'''\n",
    "EPOCHS = 20\n",
    "BATCH_SIZE = 2048\n",
    "LEARNING_RATE = 0.01\n",
    "TRAIN_KEEP_PROB = 0.50\n",
    "\n",
    "iterate_train_evaluate(epoch_start=1,epoch_end=EPOCHS,\n",
    "                       X_train=X_train,y_train=y_train,\n",
    "                       X_valid=X_valid,y_valid=y_valid,\n",
    "                       batch_size=BATCH_SIZE,\n",
    "                       save_file_prefix='traffic_sign')"
   ]
  },
  {
   "cell_type": "markdown",
   "metadata": {},
   "source": [
    "## Trial 3"
   ]
  },
  {
   "cell_type": "code",
   "execution_count": null,
   "metadata": {
    "collapsed": true
   },
   "outputs": [],
   "source": [
    "'''\n",
    "Try to learn at a slower rate, more epochs.  Too slow, and performance doesn't necessarily improve.\n",
    "\n",
    "3 fully connected layers\n",
    "\n",
    "Average for Epoch 30: Training loss = 0.0848, accuracy = 0.9735;Validation loss = 0.3746, accuracy = 0.8950\n",
    "'''\n",
    "EPOCHS = 30\n",
    "BATCH_SIZE = 2048\n",
    "LEARNING_RATE = 0.001\n",
    "TRAIN_KEEP_PROB = 0.50\n",
    "\n",
    "iterate_train_evaluate(epoch_start=1,epoch_end=EPOCHS,\n",
    "                       X_train=X_train,y_train=y_train,\n",
    "                       X_valid=X_valid,y_valid=y_valid,\n",
    "                       batch_size=BATCH_SIZE,\n",
    "                       save_file_prefix='model_learn_rate_001')"
   ]
  },
  {
   "cell_type": "markdown",
   "metadata": {},
   "source": [
    "## Trial 4"
   ]
  },
  {
   "cell_type": "code",
   "execution_count": null,
   "metadata": {
    "collapsed": true
   },
   "outputs": [],
   "source": [
    "\"\"\"\n",
    "Train using random batches where a fraction of the images are transformed,\n",
    "and there is an equal number of samples for each class\n",
    "\n",
    "2 fully connected layers\n",
    "\n",
    "\"\"\"\n",
    "EPOCHS=22\n",
    "LEARNING_RATE = 0.001\n",
    "TRAIN_KEEP_PROB = 0.50\n",
    "\n",
    "epoch_start = 1\n",
    "epoch_end = EPOCHS\n",
    "class_idx = get_class_idx(y_train)\n",
    "num_classes = len(class_idx)\n",
    "num_per_class = 50 #num of images per class to sample for each batch\n",
    "batch_size = num_per_class * num_classes\n",
    "fraction_transform = 0.90 #will decrease by 0.10 each epoch\n",
    "num_batches = 10 #number of batches to sample per epoch\n",
    "\n",
    "iterate_train_evaluate(epoch_start,epoch_end,\n",
    "                           X_train,y_train,\n",
    "                           X_valid,y_valid,\n",
    "                           batch_size,\n",
    "                           fraction_transform,  num_per_class,\n",
    "                           num_batches,\n",
    "                           save_file_prefix='model_random_transformed')"
   ]
  },
  {
   "cell_type": "markdown",
   "metadata": {},
   "source": [
    "## Trial 5"
   ]
  },
  {
   "cell_type": "code",
   "execution_count": null,
   "metadata": {
    "collapsed": true
   },
   "outputs": [],
   "source": [
    "\"\"\"\n",
    "Train using random batches where a fraction of the images are transformed,\n",
    "and there is an equal number of samples for each class\n",
    "Previous trial didn't train enough times.\n",
    "\n",
    "2 fully connected layers\n",
    "\n",
    "Increase epochs to 30, num_per_class stays 50 (else memory overflow), num_batches per epoch 20\n",
    "\"\"\"\n",
    "EPOCHS=30\n",
    "LEARNING_RATE = 0.001\n",
    "TRAIN_KEEP_PROB = 0.50\n",
    "\n",
    "epoch_start = 1\n",
    "epoch_end = EPOCHS\n",
    "num_classes = len(class_idx)\n",
    "num_per_class = 50 #num of images per class to sample for each batch\n",
    "batch_size = num_per_class * num_classes\n",
    "fraction_transformed = 0.90 #will decrease by 0.10 each epoch\n",
    "num_batches = 20 #number of batches to sample per epoch\n",
    "\n",
    "iterate_train_evaluate(epoch_start,epoch_end,\n",
    "                           X_train,y_train,\n",
    "                           X_valid,y_valid,\n",
    "                           batch_size,\n",
    "                           fraction_transform,  num_per_class,\n",
    "                           num_batches,\n",
    "                           save_file_prefix='model_random_transformed')"
   ]
  },
  {
   "cell_type": "markdown",
   "metadata": {},
   "source": [
    "## Trial 6"
   ]
  },
  {
   "cell_type": "code",
   "execution_count": null,
   "metadata": {
    "collapsed": true
   },
   "outputs": [],
   "source": [
    "\"\"\"\n",
    "Train using random batches where a fraction of the images are transformed,\n",
    "and there is an equal number of samples for each class\n",
    "Previous trial didn't train enough times.\n",
    "\n",
    "2 fully connected layers\n",
    "\n",
    "Increase epochs to 30, num_per_class stays 50 (else memory overflow), num_batches per epoch 40\n",
    "\"\"\"\n",
    "EPOCHS=30\n",
    "LEARNING_RATE = 0.001\n",
    "TRAIN_KEEP_PROB = 0.50\n",
    "\n",
    "epoch_start = 1\n",
    "epoch_end = EPOCHS\n",
    "num_classes = len(class_idx)\n",
    "num_per_class = 50 #num of images per class to sample for each batch\n",
    "batch_size = num_per_class * num_classes\n",
    "fraction_transformed = 0.90 #will decrease by 0.10 each epoch\n",
    "num_batches = 40 #number of batches to sample per epoch\n",
    "\n",
    "iterate_train_evaluate(epoch_start,epoch_end,\n",
    "                           X_train,y_train,\n",
    "                           X_valid,y_valid,\n",
    "                           batch_size,\n",
    "                           fraction_transform,  num_per_class,\n",
    "                           num_batches,\n",
    "                           save_file_prefix='model_random_transformed')"
   ]
  },
  {
   "cell_type": "markdown",
   "metadata": {},
   "source": [
    "## Trial 7"
   ]
  },
  {
   "cell_type": "code",
   "execution_count": null,
   "metadata": {
    "collapsed": true
   },
   "outputs": [],
   "source": [
    "\"\"\"\n",
    "Trial 6 still trained too slowly; 19 hours long.  I'll try increasing the learning rate to .01.\n",
    "To save time, I'll reduce to 20 batches per epoch.\n",
    "\n",
    "2 fully connected layers\n",
    "\n",
    "Train using random batches where a fraction of the images are transformed,\n",
    "and there is an equal number of samples for each class\n",
    "Previous trial didn't train enough times.\n",
    "\n",
    "Increase epochs to 30, num_per_class stays 50 (else memory overflow), num_batches per epoch 40\n",
    "\"\"\"\n",
    "EPOCHS=30\n",
    "LEARNING_RATE = 0.01\n",
    "TRAIN_KEEP_PROB = 0.50\n",
    "\n",
    "epoch_start = 1\n",
    "epoch_end = EPOCHS\n",
    "num_classes = len(class_idx)\n",
    "num_per_class = 50 #num of images per class to sample for each batch\n",
    "batch_size = num_per_class * num_classes\n",
    "fraction_transformed = 0.90 #will decrease by 0.10 each epoch\n",
    "num_batches = 20 #number of batches to sample per epoch\n",
    "\n",
    "iterate_train_evaluate(epoch_start,epoch_end,\n",
    "                           X_train,y_train,\n",
    "                           X_valid,y_valid,\n",
    "                           batch_size,\n",
    "                           fraction_transform,  num_per_class,\n",
    "                           num_batches,\n",
    "                           save_file_prefix='model_random_transformed')"
   ]
  },
  {
   "cell_type": "markdown",
   "metadata": {},
   "source": [
    "## Trial 8\n",
    "keep original distribution class"
   ]
  },
  {
   "cell_type": "code",
   "execution_count": null,
   "metadata": {
    "collapsed": true
   },
   "outputs": [],
   "source": [
    "\"\"\"\n",
    "So far, it seems like trying to get an equal distribution for each class has made things worse.\n",
    "I'll try random batches with new images translated/rotated, but will not try to keep the same\n",
    "number of samples per class.\n",
    "\n",
    "I also added back the 3rd fully connected layer\n",
    "Learning rate .005\n",
    "\"\"\"\n",
    "EPOCHS=20\n",
    "LEARNING_RATE = 0.005\n",
    "TRAIN_KEEP_PROB = 0.50\n",
    "\n",
    "epoch_start = 1\n",
    "epoch_end = EPOCHS\n",
    "batch_size = 2048\n",
    "fraction_transformed = 0.90 #will decrease by 0.10 each epoch\n",
    "num_batches = 20 #number of batches to sample per epoch\n",
    "\n",
    "iterate_train_evaluate(epoch_start,epoch_end,\n",
    "                           X_train,y_train,\n",
    "                           X_valid,y_valid,\n",
    "                           batch_size,\n",
    "                           fraction_transform,\n",
    "                           num_batches,\n",
    "                           save_file_prefix='model_random_transformed')"
   ]
  },
  {
   "cell_type": "markdown",
   "metadata": {},
   "source": [
    "## Trial 9"
   ]
  },
  {
   "cell_type": "code",
   "execution_count": null,
   "metadata": {
    "collapsed": true
   },
   "outputs": [],
   "source": [
    "\"\"\"\n",
    "The previous trial got 91% accuracy, and might have still had more room to improve.\n",
    "Runtime was 3.5 hours, so I can afford to run it a bit longer.  \n",
    "Increasing num_batches per epoch from 20 to 40\n",
    "Decreasing learning rate from .005 to .001\n",
    "Increase epochs to 30\n",
    "\n",
    "Random batches with new images translated/rotated, but will not try to keep the same\n",
    "number of samples per class.\n",
    "I also added back the 3rd fully connected layer\n",
    "Learning rate .001\n",
    "\n",
    "My internet connection was lost at epoch 27, so it never finished. \n",
    "But it looks like using learning rate of .001 is too slow; I can't use this given the time\n",
    "it takes me to train and experiment.  I'll stay with learning rate .01 for learning purposes.\n",
    "\n",
    "\"\"\"\n",
    "EPOCHS=30\n",
    "LEARNING_RATE = 0.001\n",
    "TRAIN_KEEP_PROB = 0.50\n",
    "\n",
    "epoch_start = 1\n",
    "epoch_end = EPOCHS\n",
    "batch_size = 2048\n",
    "fraction_transformed = 0.90 #will decrease by 0.10 each epoch\n",
    "num_batches = 40 #number of batches to sample per epoch\n",
    "\n",
    "iterate_train_evaluate(epoch_start,epoch_end,\n",
    "                           X_train,y_train,\n",
    "                           X_valid,y_valid,\n",
    "                           batch_size,\n",
    "                           fraction_transform,\n",
    "                           num_batches,\n",
    "                           save_file_prefix='model_random_transformed')"
   ]
  },
  {
   "cell_type": "code",
   "execution_count": 2,
   "metadata": {
    "collapsed": true
   },
   "outputs": [],
   "source": [
    "## Trial 10"
   ]
  },
  {
   "cell_type": "code",
   "execution_count": null,
   "metadata": {
    "collapsed": true
   },
   "outputs": [],
   "source": [
    "\"\"\"\n",
    "I will try to keep at least 20% of images transformed for all epochs. So start with 90%, 80%, down to 20%\n",
    "of images for each batch that are translated/transformed.\n",
    "\n",
    "Using learning rate of .001 is really slow.  For experimenting, I want to run faster just to see how results\n",
    "compare to the case when I don't transform any of the data and don't take random samples for batches. \n",
    "\n",
    "num_batches per epoch 20\n",
    "learning rate .01\n",
    "Epochs 20\n",
    "\n",
    "Rotation angles reduces from -30 to 31 to -15 to 16; \n",
    "shift reduced from -4 to 5 to -3 to 4\n",
    "\n",
    "I will also reduce the rotation angles and translation shifts, so that the images aren't so different\n",
    "from the originals.  I increasd fully connected layer size from 1024 to 2048. Increased convolution1 \n",
    "from 32 to 64; conv 2 and 3 are size 128 and 128.\n",
    "\n",
    "Random batches with new images translated/rotated, but will not try to keep the same\n",
    "number of samples per class.\n",
    "\n",
    "I will reduce the fraction transformed by .05 each epoch, instead of by .10.\n",
    "It will have at least 0.20 of each batch transformed.\n",
    "\n",
    "I also added back the 3rd fully connected layer\n",
    "\n",
    "\n",
    "\"\"\"\n",
    "EPOCHS=20\n",
    "LEARNING_RATE = 0.01\n",
    "TRAIN_KEEP_PROB = 0.50\n",
    "\n",
    "epoch_start = 1\n",
    "epoch_end = EPOCHS\n",
    "batch_size = 2048\n",
    "fraction_transformed = 0.90 #will decrease by 0.05 each epoch\n",
    "num_batches = 20 #number of batches to sample per epoch\n",
    "\n",
    "iterate_train_evaluate(epoch_start,epoch_end,\n",
    "                           X_train,y_train,\n",
    "                           X_valid,y_valid,\n",
    "                           batch_size,\n",
    "                           fraction_transform,\n",
    "                           num_batches,\n",
    "                           save_file_prefix='model_random_transformed')"
   ]
  },
  {
   "cell_type": "markdown",
   "metadata": {},
   "source": [
    "---\n",
    "\n",
    "## Step 3: Test a Model on New Images\n",
    "\n",
    "To give yourself more insight into how your model is working, download at least five pictures of German traffic signs from the web and use your model to predict the traffic sign type.\n",
    "\n",
    "You may find `signnames.csv` useful as it contains mappings from the class id (integer) to the actual sign name."
   ]
  },
  {
   "cell_type": "markdown",
   "metadata": {},
   "source": [
    "### Load and Output the Images"
   ]
  },
  {
   "cell_type": "code",
   "execution_count": null,
   "metadata": {
    "collapsed": true
   },
   "outputs": [],
   "source": [
    "### Load the images and plot them here.\n",
    "### Feel free to use as many code cells as needed."
   ]
  },
  {
   "cell_type": "markdown",
   "metadata": {},
   "source": [
    "### Predict the Sign Type for Each Image"
   ]
  },
  {
   "cell_type": "code",
   "execution_count": null,
   "metadata": {
    "collapsed": true
   },
   "outputs": [],
   "source": [
    "### Run the predictions here and use the model to output the prediction for each image.\n",
    "### Make sure to pre-process the images with the same pre-processing pipeline used earlier.\n",
    "### Feel free to use as many code cells as needed."
   ]
  },
  {
   "cell_type": "markdown",
   "metadata": {},
   "source": [
    "### Analyze Performance"
   ]
  },
  {
   "cell_type": "code",
   "execution_count": null,
   "metadata": {
    "collapsed": true
   },
   "outputs": [],
   "source": [
    "### Calculate the accuracy for these 5 new images. \n",
    "### For example, if the model predicted 1 out of 5 signs correctly, it's 20% accurate on these new images."
   ]
  },
  {
   "cell_type": "markdown",
   "metadata": {},
   "source": [
    "### Output Top 5 Softmax Probabilities For Each Image Found on the Web"
   ]
  },
  {
   "cell_type": "markdown",
   "metadata": {},
   "source": [
    "For each of the new images, print out the model's softmax probabilities to show the **certainty** of the model's predictions (limit the output to the top 5 probabilities for each image). [`tf.nn.top_k`](https://www.tensorflow.org/versions/r0.12/api_docs/python/nn.html#top_k) could prove helpful here. \n",
    "\n",
    "The example below demonstrates how tf.nn.top_k can be used to find the top k predictions for each image.\n",
    "\n",
    "`tf.nn.top_k` will return the values and indices (class ids) of the top k predictions. So if k=3, for each sign, it'll return the 3 largest probabilities (out of a possible 43) and the correspoding class ids.\n",
    "\n",
    "Take this numpy array as an example. The values in the array represent predictions. The array contains softmax probabilities for five candidate images with six possible classes. `tk.nn.top_k` is used to choose the three classes with the highest probability:\n",
    "\n",
    "```\n",
    "# (5, 6) array\n",
    "a = np.array([[ 0.24879643,  0.07032244,  0.12641572,  0.34763842,  0.07893497,\n",
    "         0.12789202],\n",
    "       [ 0.28086119,  0.27569815,  0.08594638,  0.0178669 ,  0.18063401,\n",
    "         0.15899337],\n",
    "       [ 0.26076848,  0.23664738,  0.08020603,  0.07001922,  0.1134371 ,\n",
    "         0.23892179],\n",
    "       [ 0.11943333,  0.29198961,  0.02605103,  0.26234032,  0.1351348 ,\n",
    "         0.16505091],\n",
    "       [ 0.09561176,  0.34396535,  0.0643941 ,  0.16240774,  0.24206137,\n",
    "         0.09155967]])\n",
    "```\n",
    "\n",
    "Running it through `sess.run(tf.nn.top_k(tf.constant(a), k=3))` produces:\n",
    "\n",
    "```\n",
    "TopKV2(values=array([[ 0.34763842,  0.24879643,  0.12789202],\n",
    "       [ 0.28086119,  0.27569815,  0.18063401],\n",
    "       [ 0.26076848,  0.23892179,  0.23664738],\n",
    "       [ 0.29198961,  0.26234032,  0.16505091],\n",
    "       [ 0.34396535,  0.24206137,  0.16240774]]), indices=array([[3, 0, 5],\n",
    "       [0, 1, 4],\n",
    "       [0, 5, 1],\n",
    "       [1, 3, 5],\n",
    "       [1, 4, 3]], dtype=int32))\n",
    "```\n",
    "\n",
    "Looking just at the first row we get `[ 0.34763842,  0.24879643,  0.12789202]`, you can confirm these are the 3 largest probabilities in `a`. You'll also notice `[3, 0, 5]` are the corresponding indices."
   ]
  },
  {
   "cell_type": "code",
   "execution_count": null,
   "metadata": {
    "collapsed": true
   },
   "outputs": [],
   "source": [
    "### Print out the top five softmax probabilities for the predictions on the German traffic sign images found on the web. \n",
    "### Feel free to use as many code cells as needed."
   ]
  },
  {
   "cell_type": "markdown",
   "metadata": {},
   "source": [
    "### Project Writeup\n",
    "\n",
    "Once you have completed the code implementation, document your results in a project writeup using this [template](https://github.com/udacity/CarND-Traffic-Sign-Classifier-Project/blob/master/writeup_template.md) as a guide. The writeup can be in a markdown or pdf file. "
   ]
  },
  {
   "cell_type": "markdown",
   "metadata": {},
   "source": [
    "> **Note**: Once you have completed all of the code implementations and successfully answered each question above, you may finalize your work by exporting the iPython Notebook as an HTML document. You can do this by using the menu above and navigating to  \\n\",\n",
    "    \"**File -> Download as -> HTML (.html)**. Include the finished document along with this notebook as your submission."
   ]
  },
  {
   "cell_type": "markdown",
   "metadata": {},
   "source": [
    "---\n",
    "\n",
    "## Step 4 (Optional): Visualize the Neural Network's State with Test Images\n",
    "\n",
    " This Section is not required to complete but acts as an additional excersise for understaning the output of a neural network's weights. While neural networks can be a great learning device they are often referred to as a black box. We can understand what the weights of a neural network look like better by plotting their feature maps. After successfully training your neural network you can see what it's feature maps look like by plotting the output of the network's weight layers in response to a test stimuli image. From these plotted feature maps, it's possible to see what characteristics of an image the network finds interesting. For a sign, maybe the inner network feature maps react with high activation to the sign's boundary outline or to the contrast in the sign's painted symbol.\n",
    "\n",
    " Provided for you below is the function code that allows you to get the visualization output of any tensorflow weight layer you want. The inputs to the function should be a stimuli image, one used during training or a new one you provided, and then the tensorflow variable name that represents the layer's state during the training process, for instance if you wanted to see what the [LeNet lab's](https://classroom.udacity.com/nanodegrees/nd013/parts/fbf77062-5703-404e-b60c-95b78b2f3f9e/modules/6df7ae49-c61c-4bb2-a23e-6527e69209ec/lessons/601ae704-1035-4287-8b11-e2c2716217ad/concepts/d4aca031-508f-4e0b-b493-e7b706120f81) feature maps looked like for it's second convolutional layer you could enter conv2 as the tf_activation variable.\n",
    "\n",
    "For an example of what feature map outputs look like, check out NVIDIA's results in their paper [End-to-End Deep Learning for Self-Driving Cars](https://devblogs.nvidia.com/parallelforall/deep-learning-self-driving-cars/) in the section Visualization of internal CNN State. NVIDIA was able to show that their network's inner weights had high activations to road boundary lines by comparing feature maps from an image with a clear path to one without. Try experimenting with a similar test to show that your trained network's weights are looking for interesting features, whether it's looking at differences in feature maps from images with or without a sign, or even what feature maps look like in a trained network vs a completely untrained one on the same sign image.\n",
    "\n",
    "<figure>\n",
    " <img src=\"visualize_cnn.png\" width=\"380\" alt=\"Combined Image\" />\n",
    " <figcaption>\n",
    " <p></p> \n",
    " <p style=\"text-align: center;\"> Your output should look something like this (above)</p> \n",
    " </figcaption>\n",
    "</figure>\n",
    " <p></p> \n"
   ]
  },
  {
   "cell_type": "code",
   "execution_count": null,
   "metadata": {
    "collapsed": true
   },
   "outputs": [],
   "source": [
    "### Visualize your network's feature maps here.\n",
    "### Feel free to use as many code cells as needed.\n",
    "\n",
    "# image_input: the test image being fed into the network to produce the feature maps\n",
    "# tf_activation: should be a tf variable name used during your training procedure that represents the calculated state of a specific weight layer\n",
    "# activation_min/max: can be used to view the activation contrast in more detail, by default matplot sets min and max to the actual min and max values of the output\n",
    "# plt_num: used to plot out multiple different weight feature map sets on the same block, just extend the plt number for each new feature map entry\n",
    "\n",
    "def outputFeatureMap(image_input, tf_activation, activation_min=-1, activation_max=-1 ,plt_num=1):\n",
    "    # Here make sure to preprocess your image_input in a way your network expects\n",
    "    # with size, normalization, ect if needed\n",
    "    # image_input =\n",
    "    # Note: x should be the same name as your network's tensorflow data placeholder variable\n",
    "    # If you get an error tf_activation is not defined it may be having trouble accessing the variable from inside a function\n",
    "    activation = tf_activation.eval(session=sess,feed_dict={x : image_input})\n",
    "    featuremaps = activation.shape[3]\n",
    "    plt.figure(plt_num, figsize=(15,15))\n",
    "    for featuremap in range(featuremaps):\n",
    "        plt.subplot(6,8, featuremap+1) # sets the number of feature maps to show on each row and column\n",
    "        plt.title('FeatureMap ' + str(featuremap)) # displays the feature map number\n",
    "        if activation_min != -1 & activation_max != -1:\n",
    "            plt.imshow(activation[0,:,:, featuremap], interpolation=\"nearest\", vmin =activation_min, vmax=activation_max, cmap=\"gray\")\n",
    "        elif activation_max != -1:\n",
    "            plt.imshow(activation[0,:,:, featuremap], interpolation=\"nearest\", vmax=activation_max, cmap=\"gray\")\n",
    "        elif activation_min !=-1:\n",
    "            plt.imshow(activation[0,:,:, featuremap], interpolation=\"nearest\", vmin=activation_min, cmap=\"gray\")\n",
    "        else:\n",
    "            plt.imshow(activation[0,:,:, featuremap], interpolation=\"nearest\", cmap=\"gray\")"
   ]
  }
 ],
 "metadata": {
  "anaconda-cloud": {},
  "kernelspec": {
   "display_name": "Python 3",
   "language": "python",
   "name": "python3"
  },
  "language_info": {
   "codemirror_mode": {
    "name": "ipython",
    "version": 3
   },
   "file_extension": ".py",
   "mimetype": "text/x-python",
   "name": "python",
   "nbconvert_exporter": "python",
   "pygments_lexer": "ipython3",
   "version": "3.5.2"
  },
  "widgets": {
   "state": {},
   "version": "1.1.2"
  }
 },
 "nbformat": 4,
 "nbformat_minor": 1
}
