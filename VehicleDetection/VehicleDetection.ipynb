{
 "cells": [
  {
   "cell_type": "code",
   "execution_count": 8,
   "metadata": {
    "collapsed": true
   },
   "outputs": [],
   "source": [
    "#Imports\n",
    "import matplotlib.image as mpimg\n",
    "import matplotlib.pyplot as plt\n",
    "import numpy as np\n",
    "import cv2\n",
    "import glob\n",
    "import time\n",
    "from sklearn.svm import LinearSVC\n",
    "from sklearn.preprocessing import StandardScaler\n",
    "from sklearn.model_selection import train_test_split\n",
    "from skimage.feature import hog"
   ]
  },
  {
   "cell_type": "markdown",
   "metadata": {},
   "source": [
    "## Import data, shuffle\n"
   ]
  },
  {
   "cell_type": "code",
   "execution_count": 9,
   "metadata": {},
   "outputs": [],
   "source": [
    "def read_rgb(img_file):\n",
    "    \"\"\"\n",
    "    To be consistent with reading images, I'll use cv2, which reads images\n",
    "    as BGR with scale 0 to 255.\n",
    "    \n",
    "    Since matplotlib.image scales 0 to 1 for png but 0 to 255 for jpg, as RGB,\n",
    "    I'll chooose cv2 to read the image, then convert BGR to RGB\n",
    "    I will keep the scale as 0 to 255, because if I change color spaces,\n",
    "    the scale will be 0 to 255 again.\n",
    "    \n",
    "    I'll use StandardScaler() to standardize features later in the pipeline.\n",
    "    \"\"\"\n",
    "    img = cv2.imread(img_file)\n",
    "    return cv2.cvtColor(img, cv2.COLOR_BGR2RGB)"
   ]
  },
  {
   "cell_type": "code",
   "execution_count": 30,
   "metadata": {
    "collapsed": true
   },
   "outputs": [],
   "source": [
    "def convert_color(img, color_space='RGB'):\n",
    "    \"\"\"\n",
    "    img: an RGB image\n",
    "    color_space: HSV, LUV, HLS, YUV, YCrCb\n",
    "    returns: a new image converted to the chosen color space, else a copy of the original image\n",
    "    \"\"\"\n",
    "    if color_space == 'HSV':\n",
    "        img_out = cv2.cvtColor(img, cv2.COLOR_RGB2HSV)\n",
    "    elif color_space == 'LUV':\n",
    "        img_out = cv2.cvtColor(img, cv2.COLOR_RGB2LUV)\n",
    "    elif color_space == 'HLS':\n",
    "        img_out = cv2.cvtColor(img, cv2.COLOR_RGB2HLS)\n",
    "    elif color_space == 'YUV':\n",
    "        img_out = cv2.cvtColor(img, cv2.COLOR_RGB2YUV)\n",
    "    elif color_space == 'YCrCb':\n",
    "        img_out = cv2.cvtColor(img, cv2.COLOR_RGB2YCrCb)\n",
    "    else:\n",
    "        img_out = np.copy(img)\n",
    "        \n",
    "    return img_out"
   ]
  },
  {
   "cell_type": "code",
   "execution_count": 11,
   "metadata": {
    "collapsed": true
   },
   "outputs": [],
   "source": [
    "def bin_spatial(img, size=(32, 32)):\n",
    "    \"\"\"\n",
    "    compute binned color features  \n",
    "    Use cv2.resize().ravel() to create the feature vector\n",
    "    ravel flattens the n-dim array to a 1D array\n",
    "    \"\"\"\n",
    "    features = cv2.resize(img, size).ravel() \n",
    "    return features"
   ]
  },
  {
   "cell_type": "code",
   "execution_count": 29,
   "metadata": {
    "collapsed": true
   },
   "outputs": [],
   "source": [
    "def color_hist(img, nbins=32, bins_range=(0, 256)):\n",
    "    \"\"\"\n",
    "    compute color histogram features\n",
    "    numpy.histogram returns both the histogram counts and the bins as array index 0 and 1\n",
    "    Make the list of arrays into an array, \n",
    "    then flatten as if we're concatenating each histogram one after the other\n",
    "    returns a numpy array of histogram values for all channels\n",
    "    \"\"\"\n",
    "    hists = []\n",
    "    for channel in range(img.shape[2]):\n",
    "        hist, bind_edges = np.histogram(img[:,:,channel], bins=nbins, range=bins_range)\n",
    "        hists.append(hist)\n",
    "    hist_features = np.array(hists).ravel() \n",
    "    return hist_features"
   ]
  },
  {
   "cell_type": "code",
   "execution_count": 16,
   "metadata": {},
   "outputs": [],
   "source": [
    "def get_hog_features(img, orient, pix_per_cell, cell_per_block, \n",
    "                        vis=False, feature_vec=True, hog_channel='All'):\n",
    "    \"\"\"\n",
    "    return HOG features and visualization\n",
    "    img: image from which to extract histogram of gradients,\n",
    "        will have 3 channels.\n",
    "    orient: number of gradient orientations\n",
    "    pix_per_cell: size of cell in pixels\n",
    "    cell_per_block: size of block (in cells)\n",
    "    vis: if True, returns an image representing the found histogram of gradients\n",
    "    feature_vec: if True, flattens result into 1d array using numpy.ravel()\n",
    "    hog_channel: 'All' uses all channels, else 0 to 3 representing the channel to use\n",
    "    \"\"\"\n",
    "    if hog_channel == 'ALL': #use all channels\n",
    "        hog_features = []\n",
    "        hog_images = []\n",
    "        for channel in range(img.shape[2]):\n",
    "            features, hog_image = hog(img[:,:,channel],\n",
    "                                      orientations=orient,\n",
    "                                      pixels_per_cell=(pix_per_cell, pix_per_cell),\n",
    "                                      cells_per_block=(cell_per_block, cell_per_block),\n",
    "                                      transform_sqrt=True, \n",
    "                                      visualise=vis,\n",
    "                                      feature_vector=feature_vec)\n",
    "            hog_features.append(features)\n",
    "            hog_images.append(hog_image)\n",
    "        hog_features = np.ravel(hog_features)\n",
    "    else: #use chosen channel\n",
    "        hog_features, hog_images = hog(img[:,:,hog_channel],\n",
    "                                  orientations=orient,\n",
    "                                  pixels_per_cell=(pix_per_cell, pix_per_cell),\n",
    "                                  cells_per_block=(cell_per_block, cell_per_block),\n",
    "                                  transform_sqrt=True, \n",
    "                                  visualise=vis,\n",
    "                                  feature_vector=feature_vec)\n",
    "    if vis == True:\n",
    "        return hog_features, hog_images\n",
    "    else:      \n",
    "        return hog_features"
   ]
  },
  {
   "cell_type": "code",
   "execution_count": 17,
   "metadata": {
    "collapsed": true
   },
   "outputs": [],
   "source": [
    "def extract_features(paths, color_space='RGB', spatial_size=(32, 32),\n",
    "                        hist_bins=32, hist_range=(0, 256)):\n",
    "    \"\"\"\n",
    "    paths: list of file paths for images (either vehicle or non-vehicle)\n",
    "    color_space: HSV, LUV, HLS, YUV, YCrCb, otherwise keeps as RGB.\n",
    "    \n",
    "    \"\"\"\n",
    "    features = []\n",
    "    for file in paths:\n",
    "        image = read_rgb(file)\n",
    "        feature_image = convert_color(image, color_space)\n",
    "        spatial_features = bin_spatial(feature_image, size=spatial_size)\n",
    "        hist_features = color_hist(feature_image, nbins=hist_bins, bins_range=hist_range)\n",
    "        hog_features = get_hog_features(feature_image, orient, pix_per_cell, cell_per_block, \n",
    "                                        vis=False, feature_vec=True)\n",
    "        features.append(np.concatenate((spatial_features, hist_features, hog_features)))\n",
    "    return features"
   ]
  },
  {
   "cell_type": "code",
   "execution_count": null,
   "metadata": {
    "collapsed": true
   },
   "outputs": [],
   "source": []
  },
  {
   "cell_type": "code",
   "execution_count": null,
   "metadata": {
    "collapsed": true
   },
   "outputs": [],
   "source": []
  },
  {
   "cell_type": "code",
   "execution_count": null,
   "metadata": {
    "collapsed": true
   },
   "outputs": [],
   "source": [
    "#def get_data():\n",
    "cars_paths = glob.glob('./vehicles/*/*.png') #8792 \n",
    "other_paths = glob.glob('./non-vehicles/*/*.png') #8968\n"
   ]
  }
 ],
 "metadata": {
  "kernelspec": {
   "display_name": "Python 3",
   "language": "python",
   "name": "python3"
  },
  "language_info": {
   "codemirror_mode": {
    "name": "ipython",
    "version": 3
   },
   "file_extension": ".py",
   "mimetype": "text/x-python",
   "name": "python",
   "nbconvert_exporter": "python",
   "pygments_lexer": "ipython3",
   "version": "3.5.2"
  },
  "widgets": {
   "state": {},
   "version": "1.1.2"
  }
 },
 "nbformat": 4,
 "nbformat_minor": 2
}
