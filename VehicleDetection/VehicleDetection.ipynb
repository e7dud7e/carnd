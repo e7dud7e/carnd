{
 "cells": [
  {
   "cell_type": "code",
   "execution_count": 54,
   "metadata": {
    "collapsed": true
   },
   "outputs": [],
   "source": [
    "#Imports\n",
    "import matplotlib.image as mpimg\n",
    "import matplotlib.pyplot as plt\n",
    "import numpy as np\n",
    "import cv2\n",
    "import glob\n",
    "import time\n",
    "from sklearn.tree import DecisionTreeClassifier\n",
    "from sklearn.svm import LinearSVC\n",
    "from sklearn.svm import SVC\n",
    "from sklearn.preprocessing import StandardScaler\n",
    "from sklearn.model_selection import train_test_split\n",
    "from sklearn.model_selection import GridSearchCV\n",
    "from skimage.feature import hog\n",
    "import time\n",
    "import pickle\n",
    "%matplotlib inline"
   ]
  },
  {
   "cell_type": "markdown",
   "metadata": {},
   "source": [
    "## Import data, shuffle\n"
   ]
  },
  {
   "cell_type": "code",
   "execution_count": 158,
   "metadata": {
    "collapsed": true
   },
   "outputs": [],
   "source": [
    "def read_rgb(img_file):\n",
    "    \"\"\"\n",
    "    To be consistent with reading images, I'll use cv2, which reads images\n",
    "    as BGR with scale 0 to 255.\n",
    "    \n",
    "    Since matplotlib.image scales 0 to 1 for png but 0 to 255 for jpg, as RGB,\n",
    "    I'll chooose cv2 to read the image, then convert BGR to RGB.\n",
    "    cv2.imread uses scale 0 to 255 for both png and jpg files\n",
    "    \"\"\"\n",
    "    img = cv2.imread(img_file)\n",
    "    return cv2.cvtColor(img, cv2.COLOR_BGR2RGB)"
   ]
  },
  {
   "cell_type": "code",
   "execution_count": 187,
   "metadata": {
    "collapsed": true
   },
   "outputs": [],
   "source": [
    "def convert_color(img, color_space='YCrCb'):\n",
    "    \"\"\"\n",
    "    img: an RGB image\n",
    "    color_space: HSV, LUV, HLS, YUV, YCrCb\n",
    "    returns: a new image converted to the chosen color space, else a copy of the original image\n",
    "    \"\"\"\n",
    "    if color_space == 'HSV':\n",
    "        img_out = cv2.cvtColor(img, cv2.COLOR_RGB2HSV)\n",
    "    elif color_space == 'LUV':\n",
    "        img_out = cv2.cvtColor(img, cv2.COLOR_RGB2LUV)\n",
    "    elif color_space == 'HLS':\n",
    "        img_out = cv2.cvtColor(img, cv2.COLOR_RGB2HLS)\n",
    "    elif color_space == 'YUV':\n",
    "        img_out = cv2.cvtColor(img, cv2.COLOR_RGB2YUV)\n",
    "    elif color_space == 'YCrCb':\n",
    "        img_out = cv2.cvtColor(img, cv2.COLOR_RGB2YCrCb)\n",
    "    else:\n",
    "        print(\"color space not recognized, returning a copy of original image\")\n",
    "        img_out = np.copy(img)\n",
    "        \n",
    "    return img_out"
   ]
  },
  {
   "cell_type": "code",
   "execution_count": 160,
   "metadata": {
    "collapsed": true
   },
   "outputs": [],
   "source": [
    "def bin_spatial(img, size=(32, 32)):\n",
    "    \"\"\"\n",
    "    compute binned color features  \n",
    "    Use cv2.resize().ravel() to create the feature vector\n",
    "    ravel flattens the n-dim array to a 1D array\n",
    "    \"\"\"\n",
    "    features = cv2.resize(img, size).ravel()\n",
    "    return features"
   ]
  },
  {
   "cell_type": "code",
   "execution_count": 161,
   "metadata": {
    "collapsed": true
   },
   "outputs": [],
   "source": [
    "def color_hist(img, nbins=32, bins_range=(0, 256)):\n",
    "    \"\"\"\n",
    "    compute color histogram features\n",
    "    numpy.histogram returns both the histogram counts and the bins as array index 0 and 1\n",
    "    Make the list of arrays into an array, \n",
    "    then flatten as if we're concatenating each histogram one after the other\n",
    "    returns a numpy array of histogram values for all channels\n",
    "    \"\"\"\n",
    "    hists = []\n",
    "    for channel in range(img.shape[2]):\n",
    "        hist, bind_edges = np.histogram(img[:,:,channel], bins=nbins, range=bins_range)\n",
    "        hists.append(hist)\n",
    "    hist_features = np.array(hists).ravel() \n",
    "    return hist_features"
   ]
  },
  {
   "cell_type": "code",
   "execution_count": 162,
   "metadata": {
    "collapsed": true
   },
   "outputs": [],
   "source": [
    "def get_hog_features(img, orient=9, pix_per_cell=8, cell_per_block=2, \n",
    "                     feature_vec=False, hog_channel='ALL'):\n",
    "    \"\"\"\n",
    "    return HOG features and visualization\n",
    "    img: image from which to extract histogram of gradients,\n",
    "        will have 3 channels.\n",
    "    orient: number of gradient orientations\n",
    "    pix_per_cell: size of cell in pixels\n",
    "    cell_per_block: size of block (in cells)\n",
    "    vis: if True, returns an image representing the found histogram of gradients\n",
    "    feature_vec: if True, flattens result into 1d array using numpy.ravel()\n",
    "    hog_channel: 'ALL' uses all channels, else 0 to 3 representing the channel to use\n",
    "    \"\"\"\n",
    "    if hog_channel == 'ALL': #use all channels\n",
    "        hog_features = []\n",
    "        for channel in range(img.shape[2]):\n",
    "            features = hog(img[:,:,channel],\n",
    "                           orientations=orient,\n",
    "                           pixels_per_cell=(pix_per_cell, pix_per_cell),\n",
    "                           cells_per_block=(cell_per_block, cell_per_block),\n",
    "                           transform_sqrt=False, \n",
    "                           visualise=False,\n",
    "                           feature_vector=feature_vec)\n",
    "            hog_features.append(features)\n",
    "        hog_features = np.ravel(hog_features)\n",
    "    else: #use chosen channel\n",
    "        hog_features = hog(img[:,:,hog_channel],\n",
    "                           orientations=orient,\n",
    "                           pixels_per_cell=(pix_per_cell, pix_per_cell),\n",
    "                           cells_per_block=(cell_per_block, cell_per_block),\n",
    "                           transform_sqrt=False, \n",
    "                           visualise=False,\n",
    "                           feature_vector=feature_vec)\n",
    "    return hog_features"
   ]
  },
  {
   "cell_type": "code",
   "execution_count": 167,
   "metadata": {
    "collapsed": true
   },
   "outputs": [],
   "source": [
    "def extract_features(paths, color_space='YCrCb', spatial_size=(32, 32),\n",
    "                     hist_bins=32, hist_range=(0, 256), \n",
    "                     orient=9, pix_per_cell=8, cell_per_block=2, feature_vec=True, hog_channel='ALL'):\n",
    "    \"\"\"\n",
    "    paths: list of file paths for images (either vehicle or non-vehicle)\n",
    "    color_space: HSV, LUV, HLS, YUV, YCrCb, otherwise don't change color space.\n",
    "    \n",
    "    I'll choose HLS color space and HOG will use all 3 channels.\n",
    "    \n",
    "    feature vectors are a concatenation of spatial, histogram, and hog vectors.\n",
    "    \n",
    "    features is a list of feature vectors.  These will be stacked as rows,\n",
    "    so that one row is for each image, and each column represents a particular feature.\n",
    "    \n",
    "    With default parameters, spatial_feature is 3072, hist is 96, and hog is 5292. \n",
    "    Total length of features is 8460\n",
    "    \n",
    "    To reduce feature size, I'll use saturation for spatial and hog features,\n",
    "    to reduce channels from 3 to 1\n",
    "    \"\"\"\n",
    "    features = []\n",
    "    for file in paths:\n",
    "        image = read_rgb(file)\n",
    "        image = image.astype(np.float32)/255 #scale 0 to 1\n",
    "        feature_image = convert_color(image, color_space)\n",
    "        spatial_features = bin_spatial(feature_image, size=spatial_size)\n",
    "        hist_features = color_hist(feature_image, nbins=hist_bins, bins_range=hist_range)\n",
    "        hog_features = get_hog_features(feature_image, orient, pix_per_cell, cell_per_block, \n",
    "                                        feature_vec=feature_vec, hog_channel=hog_channel)\n",
    "        feature_vector = np.concatenate((spatial_features, hist_features, hog_features))\n",
    "        features.append(feature_vector)\n",
    "    return features"
   ]
  },
  {
   "cell_type": "markdown",
   "metadata": {},
   "source": [
    "## Getting data (run once).  See below for loading extracted features"
   ]
  },
  {
   "cell_type": "code",
   "execution_count": 164,
   "metadata": {
    "collapsed": true
   },
   "outputs": [],
   "source": [
    "#def get_data():\n",
    "cars_paths = glob.glob('./vehicles/*/*.png') #8792 \n",
    "other_paths = glob.glob('./non-vehicles/*/*.png') #8968\n"
   ]
  },
  {
   "cell_type": "code",
   "execution_count": 188,
   "metadata": {},
   "outputs": [
    {
     "name": "stderr",
     "output_type": "stream",
     "text": [
      "/Users/edude/anaconda/envs/carnd-term1/lib/python3.5/site-packages/skimage/feature/_hog.py:119: skimage_deprecation: Default value of `block_norm`==`L1` is deprecated and will be changed to `L2-Hys` in v0.15\n",
      "  'be changed to `L2-Hys` in v0.15', skimage_deprecation)\n"
     ]
    },
    {
     "name": "stdout",
     "output_type": "stream",
     "text": [
      "time to extract features 338.5\n"
     ]
    }
   ],
   "source": [
    "\"\"\"\n",
    "\n",
    "Using these features for better accuracy:\n",
    "color space: YCrCb\n",
    "use all 3 channels for each feature set\n",
    "spatial: 32 x 32 x 3\n",
    "hist: 32 x 3\n",
    "hog: 7x7x2x2x9x3 = 5292 \n",
    "\n",
    "\n",
    "So, the actual number of features in your final feature vector will be the total number of block positions \n",
    "multiplied by the number of cells per block, \n",
    "times the number of orientations, or in the case shown above: 7×7×2×2×9=1764 (also x3 for 3 channels)\n",
    "\"\"\"\n",
    "spatial_size=32\n",
    "hist_bins=32\n",
    "orient=9\n",
    "pix_per_cell=8\n",
    "cell_per_block=2\n",
    "\n",
    "t0 = time.time()\n",
    "car_features = extract_features(cars_paths, color_space='HLS', \n",
    "                                spatial_size=(spatial_size, spatial_size),\n",
    "                                hist_bins=hist_bins, hist_range=(0, 256))\n",
    "\n",
    "other_features = extract_features(other_paths, color_space='HLS', \n",
    "                                spatial_size=(spatial_size, spatial_size),\n",
    "                                hist_bins=hist_bins, hist_range=(0, 256))\n",
    "t1 = time.time()\n",
    "print(\"time to extract features {:.1f}\".format(t1 - t0))"
   ]
  },
  {
   "cell_type": "code",
   "execution_count": 191,
   "metadata": {},
   "outputs": [
    {
     "name": "stdout",
     "output_type": "stream",
     "text": [
      "time to standardize and split training and test sets 374.2 seconds\n"
     ]
    }
   ],
   "source": [
    "t0 = time.time()\n",
    "# Create an array stack of feature vectors\n",
    "X = np.vstack((car_features, other_features)).astype(np.float64)                        \n",
    "# Fit a per-column scaler (each column represents a feature, and is normalized)\n",
    "X_scaler = StandardScaler().fit(X)\n",
    "# Apply the scaler to X\n",
    "scaled_X = X_scaler.transform(X)\n",
    "\n",
    "# Define the labels vector\n",
    "y = np.hstack((np.ones(len(car_features)), np.zeros(len(other_features))))\n",
    "\n",
    "#training and test sets\n",
    "X_train, X_test, y_train, y_test = train_test_split(\n",
    "    scaled_X, y, test_size=0.2, random_state=14)\n",
    "\n",
    "t1 = time.time()\n",
    "print(\"time to standardize and split training and test sets {:.1f} seconds\".format(t1 - t0))"
   ]
  },
  {
   "cell_type": "code",
   "execution_count": 192,
   "metadata": {},
   "outputs": [
    {
     "name": "stdout",
     "output_type": "stream",
     "text": [
      "time to save train and test data_dict to file 186.6 seconds\n"
     ]
    }
   ],
   "source": [
    "\"\"\"\n",
    "Saving to pickle with these params\n",
    "3rd try reducing channels\n",
    "for spatial and hog, use saturation channel only\n",
    "spatial: 32 x 32 x 3 = 3840\n",
    "hist: 32 x 3 = 96\n",
    "hog: 7x7x2x2x9x3 = 5292 \n",
    "\n",
    "svc = dist_pickle[\"svc\"]\n",
    "X_scaler = dist_pickle[\"scaler\"]\n",
    "orient = dist_pickle[\"orient\"]\n",
    "pix_per_cell = dist_pickle[\"pix_per_cell\"]\n",
    "cell_per_block = dist_pickle[\"cell_per_block\"]\n",
    "spatial_size = dist_pickle[\"spatial_size\"]\n",
    "hist_bins = dist_pickle[\"hist_bins\"]\n",
    "\"\"\"\n",
    "\n",
    "\n",
    "t0 = time.time()\n",
    "# use pickle to save train and test sets\n",
    "pickle_path = 'data_dict_pickle_HLS.p'\n",
    "data_dict = {}\n",
    "data_dict['X_train'] = X_train\n",
    "data_dict['X_test'] = X_test\n",
    "data_dict['y_train'] = y_train\n",
    "data_dict['y_test'] = y_test\n",
    "data_dict['X_scaler'] = X_scaler\n",
    "pickle.dump( data_dict, open( pickle_path, \"wb\" ) )\n",
    "t1 = time.time()\n",
    "print(\"time to save train and test data_dict to file {:.1f} seconds\".format(t1 - t0))"
   ]
  },
  {
   "cell_type": "markdown",
   "metadata": {},
   "source": [
    "## Load train and test data from disk"
   ]
  },
  {
   "cell_type": "code",
   "execution_count": 131,
   "metadata": {
    "collapsed": true
   },
   "outputs": [],
   "source": [
    "\"\"\"\n",
    "feature set is 8460 long\n",
    "spatial: 32 x 32 x 3 channels\n",
    "histogram of colors: 32 bins 3 channels\n",
    "histogram of gradients: pix_per_cell 8; cell_per_block 2; 3 channels\n",
    "\"\"\"\n",
    "pickle_path = 'data_dict_pickle.p'\n",
    "data_dict = pickle.load( open(pickle_path, 'rb')) \n",
    "X_train, X_test, y_train, y_test, X_scaler = data_dict['X_train'],data_dict['X_test'], data_dict['y_train'], data_dict['y_test'], data_dict['X_scaler']"
   ]
  },
  {
   "cell_type": "markdown",
   "metadata": {},
   "source": [
    "## Use decision tree to get feature importance, narrow down feature set"
   ]
  },
  {
   "cell_type": "code",
   "execution_count": 72,
   "metadata": {
    "scrolled": true
   },
   "outputs": [
    {
     "name": "stdout",
     "output_type": "stream",
     "text": [
      "time to train decision tree 416.1 seconds\n"
     ]
    }
   ],
   "source": [
    "t0 = time.time()\n",
    "tree_clf = DecisionTreeClassifier(min_samples_split=500)\n",
    "tree_clf = tree_clf.fit(X_train, y_train)\n",
    "t1 = time.time()\n",
    "print(\"time to train decision tree {:.1f} seconds\".format(t1 - t0))"
   ]
  },
  {
   "cell_type": "code",
   "execution_count": 73,
   "metadata": {},
   "outputs": [
    {
     "data": {
      "image/png": "[encoded data removed]",
      "text/plain": [
       "<matplotlib.figure.Figure at 0x107c8cf28>"
      ]
     },
     "metadata": {},
     "output_type": "display_data"
    }
   ],
   "source": [
    "\"\"\"\n",
    "plot feature importances\n",
    "spatial_feature is length 3072, hist is 96, and hog is 5292. \n",
    "when concatenated,\n",
    "spatial is from 0 to 3071, \n",
    "hist is from 3072 to 3167\n",
    "hog is from 3168 to 8459 \n",
    "  within hog, the first 1764 are for hue, second is for light, 3rd for saturation\n",
    "  tick marks are 3168 to 4931, 4932 to 6695, 6696 to 8459\n",
    "\n",
    "By plotting the feature importances, looks like the histogram of colors in HLS\n",
    "has the highest feature importance.\n",
    "\"\"\"\n",
    "plt.plot(tree_clf.feature_importances_)\n",
    "x_tick_labels = [0, 3072, 3168, 8459] #labels x axis tick marks at specific indices\n",
    "plt.xticks(x_tick_labels);\n",
    "plt.axis([0, 8460, 0, 0.6]); #min/max range of x axis, then min/max range of y axis\n",
    "plt.title(\"spatial, hist, then hog features\");\n",
    "plt.show();"
   ]
  },
  {
   "cell_type": "code",
   "execution_count": 70,
   "metadata": {},
   "outputs": [
    {
     "data": {
      "text/plain": [
       "1296"
      ]
     },
     "execution_count": 70,
     "metadata": {},
     "output_type": "execute_result"
    }
   ],
   "source": [
    "len(tree_clf.feature_importances_)"
   ]
  },
  {
   "cell_type": "code",
   "execution_count": 71,
   "metadata": {},
   "outputs": [
    {
     "data": {
      "image/png": "[encoded data removed]",
      "text/plain": [
       "<matplotlib.figure.Figure at 0x1fac67588>"
      ]
     },
     "metadata": {},
     "output_type": "display_data"
    }
   ],
   "source": [
    "#with new params: \n",
    "\"\"\"\n",
    "feature sizes:\n",
    "spatial: 16x16x3 = 768\n",
    "hist: 32 x 3 = 96\n",
    "hog: 432: 1 x 1 x 4 x 4 x 9 x 3\n",
    "plot feature importances\n",
    "spatial_feature is length 3072, hist is 96, and hog is 5292. \n",
    "when concatenated,\n",
    "spatial is from 0 to 767, \n",
    "hist is from 768 to 863\n",
    "hog is from 864 to 1295\n",
    "  within hog, the first 1764 are for hue, second is for light, 3rd for saturation\n",
    "  tick marks are 3168 to 4931, 4932 to 6695, 6696 to 8459\n",
    "\n",
    "By plotting the feature importances, looks like the histogram of colors in HLS\n",
    "has the highest feature importance.\n",
    "\"\"\"\n",
    "plt.plot(tree_clf.feature_importances_)\n",
    "x_tick_labels = [0, 768, 864, 1295] #labels x axis tick marks at specific indices\n",
    "plt.xticks(x_tick_labels);\n",
    "plt.axis([0, 1295, 0, 0.6]); #min/max range of x axis, then min/max range of y axis\n",
    "plt.title(\"spatial, hist, then hog features\");\n",
    "plt.show();"
   ]
  },
  {
   "cell_type": "code",
   "execution_count": 49,
   "metadata": {},
   "outputs": [
    {
     "data": {
      "image/png": "[encoded data removed]",
      "text/plain": [
       "<matplotlib.figure.Figure at 0x1fa675b00>"
      ]
     },
     "metadata": {},
     "output_type": "display_data"
    }
   ],
   "source": [
    "#spatial is from 0 to 3071, \n",
    "plt.plot(tree_clf.feature_importances_)\n",
    "x_tick_labels = [0, 500, 1000, 1500, 2000, 3000] #labels x axis tick marks at specific indices\n",
    "plt.xticks(x_tick_labels);\n",
    "plt.axis([0, 3071, 0, 0.6]); #min/max range of x axis, then min/max range of y axis\n",
    "plt.title(\"spatial features\");\n",
    "plt.show();"
   ]
  },
  {
   "cell_type": "code",
   "execution_count": 58,
   "metadata": {},
   "outputs": [
    {
     "data": {
      "image/png": "[encoded data removed]",
      "text/plain": [
       "<matplotlib.figure.Figure at 0x1fa9f8e80>"
      ]
     },
     "metadata": {},
     "output_type": "display_data"
    }
   ],
   "source": [
    "#hist is from 3072 to 3167\n",
    "plt.plot(tree_clf.feature_importances_)\n",
    "x_tick_labels = [3072, 3103, 3135, 3167] #labels x axis tick marks at specific indices\n",
    "plt.xticks(x_tick_labels);\n",
    "plt.axis([3072, 3167, 0, 0.6]); #min/max range of x axis, then min/max range of y axis\n",
    "plt.title(\"histogram of colors (HSV)\");\n",
    "plt.show();"
   ]
  },
  {
   "cell_type": "code",
   "execution_count": 59,
   "metadata": {},
   "outputs": [
    {
     "data": {
      "image/png": "[encoded data removed]",
      "text/plain": [
       "<matplotlib.figure.Figure at 0x1fae80b38>"
      ]
     },
     "metadata": {},
     "output_type": "display_data"
    }
   ],
   "source": [
    "\"\"\"\n",
    "hog is from 3168 to 8459 \n",
    "  within hog, the first 1764 are for hue, second is for light, 3rd for saturation\n",
    "  tick marks are 3168 to 4931, 4932 to 6695, 6696 to 8459\n",
    "  only light has some significance, hue and saturation less so.\n",
    "\"\"\"\n",
    "plt.plot(tree_clf.feature_importances_)\n",
    "x_tick_labels = [3168, 4932, 6696, 8459] #labels x axis tick marks at specific indices\n",
    "plt.xticks(x_tick_labels);\n",
    "plt.axis([3168, 8459, 0, 0.6]); #min/max range of x axis, then min/max range of y axis\n",
    "plt.title(\"hog\");\n",
    "plt.show();"
   ]
  },
  {
   "cell_type": "markdown",
   "metadata": {},
   "source": [
    "## SVC"
   ]
  },
  {
   "cell_type": "code",
   "execution_count": 9,
   "metadata": {
    "scrolled": true
   },
   "outputs": [
    {
     "name": "stdout",
     "output_type": "stream",
     "text": [
      "10.32 Seconds to train SVC...\n",
      "Test Accuracy of SVC =  0.9794\n",
      "My SVC predicts:  [ 1.  0.  0.  0.  0.  1.  0.  1.  1.  1.]\n",
      "For these 10 labels:  [ 1.  0.  0.  0.  0.  1.  0.  1.  1.  1.]\n",
      "0.00505 Seconds to predict 10 labels with SVC\n"
     ]
    }
   ],
   "source": [
    "# Use a linear SVC on spatial, hist, and hog features\n",
    "\"\"\"\n",
    "Got these results with these parameters:\n",
    "\n",
    "spatial: 32 by 32\n",
    "hist: 32 bins\n",
    "hog: 8 pix by 8 pix, cells per block 2\n",
    "\n",
    "155.38 Seconds to train SVC...\n",
    "Test Accuracy of SVC =  0.9842\n",
    "My SVC predicts:  [ 1.  0.  0.  0.  0.  1.  0.  1.  1.  1.]\n",
    "For these 10 labels:  [ 1.  0.  0.  0.  0.  1.  0.  1.  1.  1.]\n",
    "0.01815 Seconds to predict 10 labels with SVC\n",
    "\"\"\"\n",
    "svc = LinearSVC()\n",
    "# Check the training time for the SVC\n",
    "t=time.time()\n",
    "svc.fit(X_train, y_train)\n",
    "t2 = time.time()\n",
    "print(round(t2-t, 2), 'Seconds to train SVC...')\n",
    "# Check the score of the SVC\n",
    "print('Test Accuracy of SVC = ', round(svc.score(X_test, y_test), 4))\n",
    "# Check the prediction time for a single sample\n",
    "t=time.time()\n",
    "n_predict = 10\n",
    "print('My SVC predicts: ', svc.predict(X_test[0:n_predict]))\n",
    "print('For these',n_predict, 'labels: ', y_test[0:n_predict])\n",
    "t2 = time.time()\n",
    "print(round(t2-t, 5), 'Seconds to predict', n_predict,'labels with SVC')\n"
   ]
  },
  {
   "cell_type": "code",
   "execution_count": 72,
   "metadata": {},
   "outputs": [
    {
     "name": "stdout",
     "output_type": "stream",
     "text": [
      "5.6 Seconds to train SVC...\n",
      "Test Accuracy of SVC =  0.9778\n",
      "My SVC predicts:  [ 1.  0.  0.  0.  0.  1.  0.  1.  1.  1.]\n",
      "For these 10 labels:  [ 1.  0.  0.  0.  0.  1.  0.  1.  1.  1.]\n",
      "0.00506 Seconds to predict 10 labels with SVC\n"
     ]
    }
   ],
   "source": [
    "# Use a linear SVC on spatial, hist, and hog features\n",
    "\"\"\"\n",
    "Got these results with new smaller parameters:\n",
    "\n",
    "spatial: 16 by 16\n",
    "hist: 32 bins\n",
    "hog: 16 pix by 16 pix, cells per block 4\n",
    "\n",
    "5.6 Seconds to train SVC...\n",
    "Test Accuracy of SVC =  0.9778\n",
    "My SVC predicts:  [ 1.  0.  0.  0.  0.  1.  0.  1.  1.  1.]\n",
    "For these 10 labels:  [ 1.  0.  0.  0.  0.  1.  0.  1.  1.  1.]\n",
    "0.00506 Seconds to predict 10 labels with SVC\n",
    "\n",
    "\n",
    "It's much faster with a smaller hog feature set.\n",
    "test accuracy is a little less than when using the default parameters\n",
    "\"\"\"\n",
    "svc = LinearSVC() # C=1\n",
    "# Check the training time for the SVC\n",
    "t=time.time()\n",
    "svc.fit(X_train, y_train)\n",
    "t2 = time.time()\n",
    "print(round(t2-t, 2), 'Seconds to train SVC...')\n",
    "# Check the score of the SVC\n",
    "print('Test Accuracy of SVC = ', round(svc.score(X_test, y_test), 4))\n",
    "# Check the prediction time for a single sample\n",
    "t=time.time()\n",
    "n_predict = 10\n",
    "print('My SVC predicts: ', svc.predict(X_test[0:n_predict]))\n",
    "print('For these',n_predict, 'labels: ', y_test[0:n_predict])\n",
    "t2 = time.time()\n",
    "print(round(t2-t, 5), 'Seconds to predict', n_predict,'labels with SVC')\n"
   ]
  },
  {
   "cell_type": "code",
   "execution_count": null,
   "metadata": {
    "collapsed": true
   },
   "outputs": [],
   "source": [
    "\"\"\"\n",
    "LinearSVC with C=0.1\n",
    "\"\"\""
   ]
  },
  {
   "cell_type": "code",
   "execution_count": 82,
   "metadata": {},
   "outputs": [
    {
     "data": {
      "text/plain": [
       "1696"
      ]
     },
     "execution_count": 82,
     "metadata": {},
     "output_type": "execute_result"
    }
   ],
   "source": [
    "len(X_train[0])"
   ]
  },
  {
   "cell_type": "markdown",
   "metadata": {},
   "source": [
    "### Chosen feature set"
   ]
  },
  {
   "cell_type": "code",
   "execution_count": 80,
   "metadata": {},
   "outputs": [
    {
     "name": "stdout",
     "output_type": "stream",
     "text": [
      "11.93 Seconds to train SVC...\n",
      "Test Accuracy of SVC =  0.9794\n",
      "My SVC predicts:  [ 1.  0.  0.  0.  0.  1.  0.  1.  1.  1.]\n",
      "For these 10 labels:  [ 1.  0.  0.  0.  0.  1.  0.  1.  1.  1.]\n",
      "0.01061 Seconds to predict 10 labels with SVC\n"
     ]
    }
   ],
   "source": [
    "# Use a linear SVC on spatial, hist, and hog features\n",
    "\"\"\"\n",
    "Got these results w/ 3rd set of params.\n",
    "I will use these going forward, because accuracy is good enough\n",
    "while I reduced the feature set from 8 thousand to 1.6 thousand\n",
    "\n",
    "spatial: 32 by 32: 32x32x1 = 1024\n",
    "hist: 32 bins: 96\n",
    "hog: 8 pix by 8 pix, cells per block 8: 8x8x1x1x9x1 = 576\n",
    "feature set is 1696 long\n",
    "\n",
    "11.93 Seconds to train SVC...\n",
    "Test Accuracy of SVC =  0.9794\n",
    "My SVC predicts:  [ 1.  0.  0.  0.  0.  1.  0.  1.  1.  1.]\n",
    "For these 10 labels:  [ 1.  0.  0.  0.  0.  1.  0.  1.  1.  1.]\n",
    "0.01061 Seconds to predict 10 labels with SVC\n",
    "\n",
    "\n",
    "test accuracy is a little less than when using the default parameters\n",
    "\"\"\"\n",
    "svc = LinearSVC()\n",
    "# Check the training time for the SVC\n",
    "t=time.time()\n",
    "svc.fit(X_train, y_train)\n",
    "t2 = time.time()\n",
    "print(round(t2-t, 2), 'Seconds to train SVC...')\n",
    "# Check the score of the SVC\n",
    "print('Test Accuracy of SVC = ', round(svc.score(X_test, y_test), 4))\n",
    "\n",
    "# Check the prediction time for a single sample\n",
    "t=time.time()\n",
    "n_predict = 10\n",
    "print('My SVC predicts: ', svc.predict(X_test[0:n_predict]))\n",
    "print('For these',n_predict, 'labels: ', y_test[0:n_predict])\n",
    "t2 = time.time()\n",
    "print(round(t2-t, 5), 'Seconds to predict', n_predict,'labels with SVC')\n"
   ]
  },
  {
   "cell_type": "code",
   "execution_count": 60,
   "metadata": {},
   "outputs": [
    {
     "name": "stdout",
     "output_type": "stream",
     "text": [
      "train linear SVC on histogram of colors 96 features\n",
      "0.22 Seconds to train SVC...\n",
      "Test Accuracy of SVC =  0.9147\n",
      "My SVC predicts:  [ 1.  0.  0.  0.  0.  1.  0.  1.  1.  1.]\n",
      "For these 10 labels:  [ 1.  0.  0.  0.  0.  1.  0.  1.  1.  1.]\n",
      "0.009 Seconds to predict 10 labels with SVC\n"
     ]
    }
   ],
   "source": [
    "#try using svc on only 96 histogram features only 3072 to 3167 \n",
    "# Use a linear SVC on spatial, hist, and hog features\n",
    "\"\"\"\n",
    "Not final feature set.  This just shows that histogram of colors\n",
    "gets good accuracy, but it's still better to use other features.\n",
    "\n",
    "train linear SVC on histogram of colors 96 features\n",
    "0.22 Seconds to train SVC...\n",
    "Test Accuracy of SVC =  0.9147\n",
    "My SVC predicts:  [ 1.  0.  0.  0.  0.  1.  0.  1.  1.  1.]\n",
    "For these 10 labels:  [ 1.  0.  0.  0.  0.  1.  0.  1.  1.  1.]\n",
    "0.009 Seconds to predict 10 labels with SVC\n",
    "\"\"\"\n",
    "svc = LinearSVC()\n",
    "# Check the training time for the SVC\n",
    "t=time.time()\n",
    "print(\"train linear SVC on histogram of colors 96 features\")\n",
    "svc.fit(X_train[3072:3167], y_train[3072:3167])\n",
    "t2 = time.time()\n",
    "print(round(t2-t, 2), 'Seconds to train SVC...')\n",
    "# Check the score of the SVC\n",
    "print('Test Accuracy of SVC = ', round(svc.score(X_test, y_test), 4))\n",
    "# Check the prediction time for a single sample\n",
    "t=time.time()\n",
    "n_predict = 10\n",
    "print('My SVC predicts: ', svc.predict(X_test[0:n_predict]))\n",
    "print('For these',n_predict, 'labels: ', y_test[0:n_predict])\n",
    "t2 = time.time()\n",
    "print(round(t2-t, 5), 'Seconds to predict', n_predict,'labels with SVC')\n"
   ]
  },
  {
   "cell_type": "code",
   "execution_count": 61,
   "metadata": {},
   "outputs": [
    {
     "name": "stdout",
     "output_type": "stream",
     "text": [
      "train linear SVC on spatial plus histogram of colors 3168 features\n",
      "8.63 Seconds to train SVC...\n",
      "Test Accuracy of SVC =  0.9755\n",
      "My SVC predicts:  [ 1.  0.  0.  0.  0.  1.  0.  1.  1.  1.]\n",
      "For these 10 labels:  [ 1.  0.  0.  0.  0.  1.  0.  1.  1.  1.]\n",
      "0.00586 Seconds to predict 10 labels with SVC\n"
     ]
    }
   ],
   "source": [
    "#try using svc on spatial and hist features only 0 to 3167 \n",
    "# Use a linear SVC on spatial, hist, and hog features\n",
    "\"\"\"\n",
    "This is not the final feature set.\n",
    "train linear SVC on spatial plus histogram of colors 3168 features\n",
    "This shows that excluding histogram of gradients reduces accuracy\n",
    "by just a little bit.\n",
    "\n",
    "8.63 Seconds to train SVC...\n",
    "Test Accuracy of SVC =  0.9755\n",
    "My SVC predicts:  [ 1.  0.  0.  0.  0.  1.  0.  1.  1.  1.]\n",
    "For these 10 labels:  [ 1.  0.  0.  0.  0.  1.  0.  1.  1.  1.]\n",
    "0.00586 Seconds to predict 10 labels with SVC\n",
    "\"\"\"\n",
    "svc = LinearSVC()\n",
    "# Check the training time for the SVC\n",
    "t=time.time()\n",
    "print(\"train linear SVC on spatial plus histogram of colors 3168 features\")\n",
    "svc.fit(X_train[0:3167], y_train[0:3167])\n",
    "t2 = time.time()\n",
    "print(round(t2-t, 2), 'Seconds to train SVC...')\n",
    "# Check the score of the SVC\n",
    "print('Test Accuracy of SVC = ', round(svc.score(X_test, y_test), 4))\n",
    "# Check the prediction time for a single sample\n",
    "t=time.time()\n",
    "n_predict = 10\n",
    "print('My SVC predicts: ', svc.predict(X_test[0:n_predict]))\n",
    "print('For these',n_predict, 'labels: ', y_test[0:n_predict])\n",
    "t2 = time.time()\n",
    "print(round(t2-t, 5), 'Seconds to predict', n_predict,'labels with SVC')\n"
   ]
  },
  {
   "cell_type": "code",
   "execution_count": 73,
   "metadata": {},
   "outputs": [
    {
     "name": "stdout",
     "output_type": "stream",
     "text": [
      "train linear SVC on spatial plus histogram of colors 3168 features\n",
      "0.31 Seconds to train SVC...\n",
      "Test Accuracy of SVC =  0.9581\n",
      "My SVC predicts:  [ 1.  0.  0.  0.  0.  1.  0.  1.  1.  1.]\n",
      "For these 10 labels:  [ 1.  0.  0.  0.  0.  1.  0.  1.  1.  1.]\n",
      "0.00292 Seconds to predict 10 labels with SVC\n"
     ]
    }
   ],
   "source": [
    "#with new params (smaller featuer set)\n",
    "\"\"\"\n",
    "Not final feature set used. \n",
    "This just shows that reducing the spatial set reduced the accuracy \n",
    "by enough that I don't want to use the 16x16 spatial set (32x32 is better)\n",
    "use spatial and hist of colors only (index 0 to 863)\n",
    "spatial is from 0 to 767, \n",
    "hist is from 768 to 863\n",
    "hog is from 864 to 1295\n",
    "\n",
    "train linear SVC on spatial plus histogram of colors 3168 features\n",
    "0.31 Seconds to train SVC...\n",
    "Test Accuracy of SVC =  0.9581\n",
    "My SVC predicts:  [ 1.  0.  0.  0.  0.  1.  0.  1.  1.  1.]\n",
    "For these 10 labels:  [ 1.  0.  0.  0.  0.  1.  0.  1.  1.  1.]\n",
    "0.00292 Seconds to predict 10 labels with SVC\n",
    "\n",
    "\"\"\"\n",
    "svc = LinearSVC()\n",
    "# Check the training time for the SVC\n",
    "t=time.time()\n",
    "print(\"train linear SVC on spatial plus histogram of colors 3168 features\")\n",
    "svc.fit(X_train[0:863], y_train[0:863])\n",
    "t2 = time.time()\n",
    "print(round(t2-t, 2), 'Seconds to train SVC...')\n",
    "# Check the score of the SVC\n",
    "print('Test Accuracy of SVC = ', round(svc.score(X_test, y_test), 4))\n",
    "# Check the prediction time for a single sample\n",
    "t=time.time()\n",
    "n_predict = 10\n",
    "print('My SVC predicts: ', svc.predict(X_test[0:n_predict]))\n",
    "print('For these',n_predict, 'labels: ', y_test[0:n_predict])\n",
    "t2 = time.time()\n",
    "print(round(t2-t, 5), 'Seconds to predict', n_predict,'labels with SVC')\n"
   ]
  },
  {
   "cell_type": "markdown",
   "metadata": {},
   "source": [
    "## Parameter tuning of SVC"
   ]
  },
  {
   "cell_type": "code",
   "execution_count": null,
   "metadata": {
    "collapsed": true
   },
   "outputs": [],
   "source": [
    "\"\"\"\n",
    "\n",
    "large C fits training data better at the cost of overfitting\n",
    "gamm param applies for rbf kernel, but not linear kernel\n",
    "large gamma places more emphasis on points close to decision boundary, and less on far away points.\n",
    "A larger gamma may be less smooth compared to a low gamma, which accounts for more points.\n",
    "\n",
    "For grid search, use 10-fold stratified cross validation\n",
    "\n",
    "\"\"\"\n",
    "t0 = time.time()\n",
    "#parameters = {'kernel':('linear', 'rbf'), 'C':[0.1, 1, 10], 'gamma':[0.1, 1, 10]}\n",
    "parameters = {'kernel':('rbf',), 'C':[1, 10], 'gamma':[1]}\n",
    "svr = SVC()\n",
    "gs = GridSearchCV(svr, parameters, cv=3)\n",
    "gs.fit(X_train,y_train)\n",
    "t1 = time.time()\n",
    "print(\"time to run grid search on SVC {:.1f}\".format(t1 - t2))"
   ]
  },
  {
   "cell_type": "code",
   "execution_count": null,
   "metadata": {
    "collapsed": true
   },
   "outputs": [],
   "source": [
    "print(\"best params: {}\".format(gs.best_params_))"
   ]
  },
  {
   "cell_type": "code",
   "execution_count": 16,
   "metadata": {},
   "outputs": [
    {
     "name": "stdout",
     "output_type": "stream",
     "text": [
      "5.48 Seconds to train SVC...\n",
      "Test Accuracy of SVC =  0.9831\n",
      "My SVC predicts:  [ 1.  0.  0.  0.  0.  1.  0.  1.  1.  1.]\n",
      "For these 10 labels:  [ 1.  0.  0.  0.  0.  1.  0.  1.  1.  1.]\n",
      "0.0052 Seconds to predict 10 labels with SVC\n"
     ]
    }
   ],
   "source": [
    "\"\"\"\n",
    "LinearSVC, C = 0.001\n",
    "\n",
    "5.81 Seconds to train SVC...\n",
    "Test Accuracy of SVC =  0.9831\n",
    "My SVC predicts:  [ 1.  0.  0.  0.  0.  1.  0.  1.  1.  1.]\n",
    "For these 10 labels:  [ 1.  0.  0.  0.  0.  1.  0.  1.  1.  1.]\n",
    "0.00537 Seconds to predict 10 labels with SVC\n",
    "\"\"\"\n",
    "\n",
    "svc = LinearSVC(C=0.001)\n",
    "# Check the training time for the SVC\n",
    "t=time.time()\n",
    "svc.fit(X_train, y_train)\n",
    "t2 = time.time()\n",
    "print(round(t2-t, 2), 'Seconds to train SVC...')\n",
    "# Check the score of the SVC\n",
    "print('Test Accuracy of SVC = ', round(svc.score(X_test, y_test), 4))\n",
    "\n",
    "# Check the prediction time for a single sample\n",
    "t=time.time()\n",
    "n_predict = 10\n",
    "print('My SVC predicts: ', svc.predict(X_test[0:n_predict]))\n",
    "print('For these',n_predict, 'labels: ', y_test[0:n_predict])\n",
    "t2 = time.time()\n",
    "print(round(t2-t, 5), 'Seconds to predict', n_predict,'labels with SVC')"
   ]
  },
  {
   "cell_type": "markdown",
   "metadata": {},
   "source": [
    "## Best C is 0.01"
   ]
  },
  {
   "cell_type": "code",
   "execution_count": 13,
   "metadata": {},
   "outputs": [
    {
     "name": "stdout",
     "output_type": "stream",
     "text": [
      "7.95 Seconds to train SVC...\n",
      "Test Accuracy of SVC =  0.9837\n",
      "My SVC predicts:  [ 1.  0.  0.  0.  0.  1.  0.  1.  1.  1.]\n",
      "For these 10 labels:  [ 1.  0.  0.  0.  0.  1.  0.  1.  1.  1.]\n",
      "0.00626 Seconds to predict 10 labels with SVC\n"
     ]
    }
   ],
   "source": [
    "\"\"\"\n",
    "LinearSVC, C = 0.01\n",
    "\n",
    "7.95 Seconds to train SVC...\n",
    "Test Accuracy of SVC =  0.9837\n",
    "My SVC predicts:  [ 1.  0.  0.  0.  0.  1.  0.  1.  1.  1.]\n",
    "For these 10 labels:  [ 1.  0.  0.  0.  0.  1.  0.  1.  1.  1.]\n",
    "0.00626 Seconds to predict 10 labels with SVC\n",
    "\"\"\"\n",
    "\n",
    "svc = LinearSVC(C=0.01)\n",
    "# Check the training time for the SVC\n",
    "t=time.time()\n",
    "svc.fit(X_train, y_train)\n",
    "t2 = time.time()\n",
    "print(round(t2-t, 2), 'Seconds to train SVC...')\n",
    "# Check the score of the SVC\n",
    "print('Test Accuracy of SVC = ', round(svc.score(X_test, y_test), 4))\n",
    "\n",
    "# Check the prediction time for a single sample\n",
    "t=time.time()\n",
    "n_predict = 10\n",
    "print('My SVC predicts: ', svc.predict(X_test[0:n_predict]))\n",
    "print('For these',n_predict, 'labels: ', y_test[0:n_predict])\n",
    "t2 = time.time()\n",
    "print(round(t2-t, 5), 'Seconds to predict', n_predict,'labels with SVC')"
   ]
  },
  {
   "cell_type": "code",
   "execution_count": 10,
   "metadata": {},
   "outputs": [
    {
     "name": "stdout",
     "output_type": "stream",
     "text": [
      "10.23 Seconds to train SVC...\n",
      "Test Accuracy of SVC =  0.9811\n",
      "My SVC predicts:  [ 1.  0.  0.  0.  0.  1.  0.  1.  1.  1.]\n",
      "For these 10 labels:  [ 1.  0.  0.  0.  0.  1.  0.  1.  1.  1.]\n",
      "0.00455 Seconds to predict 10 labels with SVC\n"
     ]
    }
   ],
   "source": [
    "\"\"\"\n",
    "LinearSVC, C = 0.1\n",
    "\n",
    "10.23 Seconds to train SVC...\n",
    "Test Accuracy of SVC =  0.9811\n",
    "My SVC predicts:  [ 1.  0.  0.  0.  0.  1.  0.  1.  1.  1.]\n",
    "For these 10 labels:  [ 1.  0.  0.  0.  0.  1.  0.  1.  1.  1.]\n",
    "0.00455 Seconds to predict 10 labels with SVC\n",
    "\"\"\"\n",
    "\n",
    "svc = LinearSVC(C=0.1)\n",
    "# Check the training time for the SVC\n",
    "t=time.time()\n",
    "svc.fit(X_train, y_train)\n",
    "t2 = time.time()\n",
    "print(round(t2-t, 2), 'Seconds to train SVC...')\n",
    "# Check the score of the SVC\n",
    "print('Test Accuracy of SVC = ', round(svc.score(X_test, y_test), 4))\n",
    "\n",
    "# Check the prediction time for a single sample\n",
    "t=time.time()\n",
    "n_predict = 10\n",
    "print('My SVC predicts: ', svc.predict(X_test[0:n_predict]))\n",
    "print('For these',n_predict, 'labels: ', y_test[0:n_predict])\n",
    "t2 = time.time()\n",
    "print(round(t2-t, 5), 'Seconds to predict', n_predict,'labels with SVC')"
   ]
  },
  {
   "cell_type": "code",
   "execution_count": 12,
   "metadata": {},
   "outputs": [
    {
     "name": "stdout",
     "output_type": "stream",
     "text": [
      "9.42 Seconds to train SVC...\n",
      "Test Accuracy of SVC =  0.9797\n",
      "My SVC predicts:  [ 1.  0.  0.  0.  0.  1.  0.  1.  1.  1.]\n",
      "For these 10 labels:  [ 1.  0.  0.  0.  0.  1.  0.  1.  1.  1.]\n",
      "0.00439 Seconds to predict 10 labels with SVC\n"
     ]
    }
   ],
   "source": [
    "\"\"\"\n",
    "LinearSVC, C = 1\n",
    "\n",
    "9.42 Seconds to train SVC...\n",
    "Test Accuracy of SVC =  0.9797\n",
    "My SVC predicts:  [ 1.  0.  0.  0.  0.  1.  0.  1.  1.  1.]\n",
    "For these 10 labels:  [ 1.  0.  0.  0.  0.  1.  0.  1.  1.  1.]\n",
    "0.00439 Seconds to predict 10 labels with SVC\n",
    "\"\"\"\n",
    "\n",
    "svc = LinearSVC(C=1)\n",
    "# Check the training time for the SVC\n",
    "t=time.time()\n",
    "svc.fit(X_train, y_train)\n",
    "t2 = time.time()\n",
    "print(round(t2-t, 2), 'Seconds to train SVC...')\n",
    "# Check the score of the SVC\n",
    "print('Test Accuracy of SVC = ', round(svc.score(X_test, y_test), 4))\n",
    "\n",
    "# Check the prediction time for a single sample\n",
    "t=time.time()\n",
    "n_predict = 10\n",
    "print('My SVC predicts: ', svc.predict(X_test[0:n_predict]))\n",
    "print('For these',n_predict, 'labels: ', y_test[0:n_predict])\n",
    "t2 = time.time()\n",
    "print(round(t2-t, 5), 'Seconds to predict', n_predict,'labels with SVC')"
   ]
  },
  {
   "cell_type": "code",
   "execution_count": 11,
   "metadata": {},
   "outputs": [
    {
     "name": "stdout",
     "output_type": "stream",
     "text": [
      "9.2 Seconds to train SVC...\n",
      "Test Accuracy of SVC =  0.9792\n",
      "My SVC predicts:  [ 1.  0.  0.  0.  0.  1.  0.  1.  1.  1.]\n",
      "For these 10 labels:  [ 1.  0.  0.  0.  0.  1.  0.  1.  1.  1.]\n",
      "0.00407 Seconds to predict 10 labels with SVC\n"
     ]
    }
   ],
   "source": [
    "\"\"\"\n",
    "LinearSVC, C = 10.\n",
    "Does worse than C= 1 or 0.1.\n",
    "It's probably over-fitting\n",
    "\n",
    "9.2 Seconds to train SVC...\n",
    "Test Accuracy of SVC =  0.9792\n",
    "My SVC predicts:  [ 1.  0.  0.  0.  0.  1.  0.  1.  1.  1.]\n",
    "For these 10 labels:  [ 1.  0.  0.  0.  0.  1.  0.  1.  1.  1.]\n",
    "0.00407 Seconds to predict 10 labels with SVC\n",
    "\"\"\"\n",
    "\n",
    "svc = LinearSVC(C=10)\n",
    "# Check the training time for the SVC\n",
    "t=time.time()\n",
    "svc.fit(X_train, y_train)\n",
    "t2 = time.time()\n",
    "print(round(t2-t, 2), 'Seconds to train SVC...')\n",
    "# Check the score of the SVC\n",
    "print('Test Accuracy of SVC = ', round(svc.score(X_test, y_test), 4))\n",
    "\n",
    "# Check the prediction time for a single sample\n",
    "t=time.time()\n",
    "n_predict = 10\n",
    "print('My SVC predicts: ', svc.predict(X_test[0:n_predict]))\n",
    "print('For these',n_predict, 'labels: ', y_test[0:n_predict])\n",
    "t2 = time.time()\n",
    "print(round(t2-t, 5), 'Seconds to predict', n_predict,'labels with SVC')"
   ]
  },
  {
   "cell_type": "markdown",
   "metadata": {},
   "source": [
    "## Tune rbr kernel with C = 0.01, adjust gamma"
   ]
  },
  {
   "cell_type": "code",
   "execution_count": 17,
   "metadata": {},
   "outputs": [
    {
     "name": "stdout",
     "output_type": "stream",
     "text": [
      "616.62 Seconds to train SVC...\n",
      "Test Accuracy of SVC =  0.4975\n",
      "My SVC predicts:  [ 0.  0.  0.  0.  0.  0.  0.  0.  0.  0.]\n",
      "For these 10 labels:  [ 1.  0.  0.  0.  0.  1.  0.  1.  1.  1.]\n",
      "0.38444 Seconds to predict 10 labels with SVC\n"
     ]
    }
   ],
   "source": [
    "\n",
    "\"\"\"\n",
    "rbf kernel takes longer than linear kernel\n",
    "and performs much worse. I'll stay with LinearSVC\n",
    "SVC kernel rbf, C = 0.01, gamma = 1\n",
    "\n",
    "616.62 Seconds to train SVC...\n",
    "Test Accuracy of SVC =  0.4975\n",
    "My SVC predicts:  [ 0.  0.  0.  0.  0.  0.  0.  0.  0.  0.]\n",
    "For these 10 labels:  [ 1.  0.  0.  0.  0.  1.  0.  1.  1.  1.]\n",
    "0.38444 Seconds to predict 10 labels with SVC\n",
    "\n",
    "\"\"\"\n",
    "\n",
    "svc = SVC(kernel='rbf', C=0.01, gamma=1)\n",
    "# Check the training time for the SVC\n",
    "t=time.time()\n",
    "svc.fit(X_train, y_train)\n",
    "t2 = time.time()\n",
    "print(round(t2-t, 2), 'Seconds to train SVC...')\n",
    "# Check the score of the SVC\n",
    "print('Test Accuracy of SVC = ', round(svc.score(X_test, y_test), 4))\n",
    "\n",
    "# Check the prediction time for a single sample\n",
    "t=time.time()\n",
    "n_predict = 10\n",
    "print('My SVC predicts: ', svc.predict(X_test[0:n_predict]))\n",
    "print('For these',n_predict, 'labels: ', y_test[0:n_predict])\n",
    "t2 = time.time()\n",
    "print(round(t2-t, 5), 'Seconds to predict', n_predict,'labels with SVC')"
   ]
  },
  {
   "cell_type": "markdown",
   "metadata": {},
   "source": [
    "## Save chosen SVC"
   ]
  },
  {
   "cell_type": "code",
   "execution_count": 193,
   "metadata": {},
   "outputs": [
    {
     "name": "stdout",
     "output_type": "stream",
     "text": [
      "115.54 Seconds to train SVC...\n",
      "Test Accuracy of SVC =  0.9879\n",
      "My SVC predicts:  [ 1.  0.  0.  0.  0.  1.  0.  1.  1.  1.]\n",
      "For these 10 labels:  [ 1.  0.  0.  0.  0.  1.  0.  1.  1.  1.]\n",
      "0.08528 Seconds to predict 10 labels with SVC\n"
     ]
    }
   ],
   "source": [
    "\"\"\"\n",
    "Ycrcb color\n",
    "C=1\n",
    "141.99 Seconds to train SVC...\n",
    "Test Accuracy of SVC =  0.9885\n",
    "My SVC predicts:  [ 1.  0.  0.  0.  0.  1.  0.  1.  1.  1.]\n",
    "For these 10 labels:  [ 1.  0.  0.  0.  0.  1.  0.  1.  1.  1.]\n",
    "0.07644 Seconds to predict 10 labels with SVC\n",
    "\n",
    "Ycrcb color\n",
    "C=0.01\n",
    "205.76 Seconds to train SVC...\n",
    "Test Accuracy of SVC =  0.9887\n",
    "My SVC predicts:  [ 1.  0.  0.  0.  0.  1.  0.  1.  1.  1.]\n",
    "For these 10 labels:  [ 1.  0.  0.  0.  0.  1.  0.  1.  1.  1.]\n",
    "0.03037 Seconds to predict 10 labels with SVC\n",
    "\n",
    "HLS Color\n",
    "C=0.01\n",
    "115.54 Seconds to train SVC...\n",
    "Test Accuracy of SVC =  0.9879\n",
    "My SVC predicts:  [ 1.  0.  0.  0.  0.  1.  0.  1.  1.  1.]\n",
    "For these 10 labels:  [ 1.  0.  0.  0.  0.  1.  0.  1.  1.  1.]\n",
    "0.08528 Seconds to predict 10 labels with SVC\n",
    "\"\"\"\n",
    "svc = LinearSVC(C=0.01)\n",
    "# Check the training time for the SVC\n",
    "t=time.time()\n",
    "svc.fit(X_train, y_train)\n",
    "t2 = time.time()\n",
    "print(round(t2-t, 2), 'Seconds to train SVC...')\n",
    "# Check the score of the SVC\n",
    "print('Test Accuracy of SVC = ', round(svc.score(X_test, y_test), 4))\n",
    "\n",
    "# Check the prediction time for a single sample\n",
    "t=time.time()\n",
    "n_predict = 10\n",
    "print('My SVC predicts: ', svc.predict(X_test[0:n_predict]))\n",
    "print('For these',n_predict, 'labels: ', y_test[0:n_predict])\n",
    "t2 = time.time()\n",
    "print(round(t2-t, 5), 'Seconds to predict', n_predict,'labels with SVC')"
   ]
  },
  {
   "cell_type": "code",
   "execution_count": 194,
   "metadata": {
    "collapsed": true
   },
   "outputs": [],
   "source": [
    "path_svc = 'svc_HLS_c_0_01.p'\n",
    "pickle.dump( svc, open( path_svc, \"wb\" ) )"
   ]
  },
  {
   "cell_type": "markdown",
   "metadata": {},
   "source": [
    "# Window search"
   ]
  },
  {
   "cell_type": "code",
   "execution_count": 204,
   "metadata": {
    "collapsed": true
   },
   "outputs": [],
   "source": [
    "\"\"\"\n",
    "Load pre-saved data\n",
    "\"\"\"\n",
    "pickle_path = 'data_dict_pickle.p'\n",
    "data_dict = pickle.load( open(pickle_path, 'rb')) \n",
    "X_train, X_test, y_train, y_test, X_scaler = data_dict['X_train'],data_dict['X_test'], data_dict['y_train'], data_dict['y_test'], data_dict['X_scaler']"
   ]
  },
  {
   "cell_type": "code",
   "execution_count": 205,
   "metadata": {
    "collapsed": true
   },
   "outputs": [],
   "source": [
    "\"\"\"\n",
    "Load trained SVC\n",
    "\"\"\"\n",
    "path_svc = 'svc_c_0_01.p'\n",
    "svc = pickle.load(open(path_svc,'rb'))"
   ]
  },
  {
   "cell_type": "code",
   "execution_count": 238,
   "metadata": {},
   "outputs": [],
   "source": [
    "# Define a single function that can extract features using hog sub-sampling and make predictions\n",
    "def find_cars(img, color_space, ystart_l, ystop_l, scale_l, box_color_l, svc, X_scaler, \n",
    "              orient, pix_per_cell, cell_per_block, spatial_size, hist_bins):\n",
    "    \"\"\"\n",
    "    img: original image to search.  Assume image is in RGB color space and ranges 0 to 255\n",
    "    color_space: e.g. 'YCrCb' or 'HLS'.\n",
    "    ystart_l: list top bounds for regions of image to search (top boundary, ystart < ystop)\n",
    "    ystop_l: list of lower bounds for regions to search (bottom boundary, ystart < ystop)\n",
    "    scale_l: list of scales (e.g. 0.5, 1, 1.5).  Length of ystart, ystop, and scale should be equal\n",
    "    box_color_l: list of colors for each search region's found boxes, in RGB\n",
    "    \n",
    "    Example, assume height is 960 and width is 1280.\n",
    "    Assume ystart and ystop crop the image height down to 480.\n",
    "    pix_per_cell = 8 in width, 8 in height\n",
    "    cell_per_block = 2\n",
    "    \n",
    "    \"\"\"\n",
    "    assert len(ystart_l) == len(ystop_l), \"ystart_l and ystop_l should have same num of points\"\n",
    "    assert len(ystart_l) == len(scale_l), \"scale_l should have same length as ystart_l\"\n",
    "    assert len(ystart_l) == len(box_color_l), \"box_color_l should have same length as ystart_l\"\n",
    "    \n",
    "    draw_img = np.copy(img)\n",
    "    #normalize to 0 and 1, so that it's in the same format that the classifier trained on\n",
    "    img = img.astype(np.float32)/255\n",
    "    \n",
    "    \"\"\"\n",
    "    Loop through all the sub-regions\n",
    "    \"\"\"\n",
    "    n_regions = len(ystart_l)\n",
    "    for ii in range(n_regions):\n",
    "        ystart = ystart_l[ii]\n",
    "        ystop = ystop_l[ii]\n",
    "        scale = scale_l[ii]\n",
    "        box_color = box_color_l[ii]\n",
    "        \n",
    "        #crop image to just the area that might have cars\n",
    "        img_tosearch = img[ystart:ystop,:,:]\n",
    "        ctrans_tosearch = convert_color(img_tosearch, color_space=color_space)\n",
    "\n",
    "        #resize image using chosen scale (e.g. scale of 2 cuts the size in half)\n",
    "        \"\"\"\n",
    "        Scale > 1 is like zooming in; it resizes the image smaller, so that a 64x64\n",
    "        search window will effectively search a bigger part of the original image.\n",
    "\n",
    "        Scale < 1 is like zooming out; it makes the image bigger, so that a 64x64 \n",
    "        search window effectively searches a smaller part of the original image\n",
    "        \"\"\"\n",
    "        if scale != 1:\n",
    "            imshape = ctrans_tosearch.shape\n",
    "            ctrans_tosearch = cv2.resize(ctrans_tosearch, (np.int(imshape[1]/scale), np.int(imshape[0]/scale)))\n",
    "\n",
    "        ch1 = ctrans_tosearch[:,:,0] #\n",
    "        ch2 = ctrans_tosearch[:,:,1] #\n",
    "        ch3 = ctrans_tosearch[:,:,2] #\n",
    "\n",
    "        # Define blocks and steps as above\n",
    "        \"\"\"\n",
    "        number of cells along width is num of pixels divided by pixels per cell\n",
    "        likewise for cells along height (y dir)\n",
    "\n",
    "        nxcells = 1280 // 8 = 160\n",
    "        nycells = 480 // 8 = 60\n",
    "\n",
    "        nxblocks: number of blocks (blocks of cells) in x direction is based on sliding the block\n",
    "        one cell at a time, so the left edge of the block stops once the right edge of the block reaches\n",
    "        the end of the image. Unit of measure is cells; we step one cell at a time.\n",
    "\n",
    "        nxblocks = 160 - 2 + 1 = 159\n",
    "        nyblocks = 60 - 2 + 1 = 59\n",
    "        nfeat_per_block = 9 * (2^2) = 36\n",
    "\n",
    "        number of gradient features per block is number of gradient orientations for each cell (such as 9\n",
    "        distinct directions) times the number of cells in a block (the block is a square, and cell_per_block\n",
    "        refers to the width or height of the block).\n",
    "        \"\"\"\n",
    "        img_height, img_width = ch1.shape[0:2]\n",
    "        nxcells = img_width // pix_per_cell\n",
    "        nycells = img_height // pix_per_cell\n",
    "        nxblocks = nxcells - cell_per_block + 1\n",
    "        nyblocks = nycells - cell_per_block + 1 \n",
    "        nfeat_per_block = orient*cell_per_block**2\n",
    "\n",
    "        # 64 was the orginal sampling rate, with 8 cells and 8 pix per cell\n",
    "        \"\"\"\n",
    "        window is number of pixels along width or heigh (it's a square window)\n",
    "        To sample and determine if the window contains a car or non-car.\n",
    "\n",
    "        Number of cells in window is window width // pixels per cell = 64 // 8 = 8 cells across and 8 cells down\n",
    "        number of blocks per window is (num of cells in window) - cells per block + 1 = 8 - 2 +1 = 7\n",
    "\n",
    "        We step 2 cells at a time, so\n",
    "        nxsteps is number of steps we can slide the window across the image.  \n",
    "        nxsteps = (159 blocks in image - 7 blocks in window) // 2 cells per step = 152 // 2 = 76\n",
    "        nysteps = (59 - 7) // 2 = 52 // 2 = 26\n",
    "\n",
    "        \"\"\"\n",
    "        #64x64 is the windows size of training data, so we want to keep this at 64\n",
    "        window = 64 \n",
    "        nblocks_per_window = (window // pix_per_cell) - cell_per_block + 1\n",
    "        cells_per_step = 2  # Instead of overlap, define how many cells to step\n",
    "        nxsteps = (nxblocks - nblocks_per_window) // cells_per_step\n",
    "        nysteps = (nyblocks - nblocks_per_window) // cells_per_step\n",
    "\n",
    "        \"\"\"\n",
    "        In the hog matrix, unit of measure is a cell\n",
    "        \"\"\"\n",
    "        # Compute individual channel HOG features for the entire image\n",
    "        hog1 = get_hog_features(ctrans_tosearch, orient, pix_per_cell, cell_per_block, feature_vec=False, hog_channel=0)\n",
    "        hog2 = get_hog_features(ctrans_tosearch, orient, pix_per_cell, cell_per_block, feature_vec=False, hog_channel=1)\n",
    "        hog3 = get_hog_features(ctrans_tosearch, orient, pix_per_cell, cell_per_block, feature_vec=False, hog_channel=2)\n",
    "\n",
    "        \"\"\"\n",
    "        xb = 0 to 75 and yb = 0 to 25 are the step indices. \n",
    "        Multiply by cells per step (2) to get the \n",
    "        xpos, ypos, which are positions in terms of cells.\n",
    "        when grabbing a set of features, start at ypos and take a chunk of cells that is nblocks_per_window (7) high.\n",
    "        So there are 8 cells per window but 7 blocks (2x2) per window.\n",
    "\n",
    "        For each subset of features, flatten each channel to a 1D array using ravel().\n",
    "        Stack (concatenate) the 3 1D arrays horizontally.\n",
    "\n",
    "        HOG is in cell units (xpos, ypos).\n",
    "        For the other features, we use pixels as units, so we can convert\n",
    "        xpos to xleft, and ypos to ytop as the top left corner of a cell, in pixel units.\n",
    "\n",
    "        XScaler is a sklearn.preprocessing.StandardScaler, which takes each row and standardizes the mean and variance.\n",
    "        \"\"\"\n",
    "        for xb in range(nxsteps):\n",
    "            for yb in range(nysteps):\n",
    "                ypos = yb*cells_per_step\n",
    "                xpos = xb*cells_per_step\n",
    "                # Extract HOG for this patch\n",
    "                hog_feat1 = hog1[ypos:ypos+nblocks_per_window, xpos:xpos+nblocks_per_window].ravel() \n",
    "                hog_feat2 = hog2[ypos:ypos+nblocks_per_window, xpos:xpos+nblocks_per_window].ravel() \n",
    "                hog_feat3 = hog3[ypos:ypos+nblocks_per_window, xpos:xpos+nblocks_per_window].ravel() \n",
    "                hog_features = np.hstack((hog_feat1, hog_feat2, hog_feat3)).ravel()\n",
    "                \"\"\"\n",
    "                print(\"hog feat 1 {}\".format(hog_feat1.shape))\n",
    "                print(\"hog feat 2 {}\".format(hog_feat2.shape))\n",
    "                print(\"hog feat 3 {}\".format(hog_feat3.shape))\n",
    "                print(\"hog features {}\".format(hog_features.shape))\n",
    "                \"\"\"\n",
    "                xleft = xpos*pix_per_cell\n",
    "                ytop = ypos*pix_per_cell\n",
    "\n",
    "                # Extract the image patch\n",
    "                subimg = cv2.resize(ctrans_tosearch[ytop:ytop+window, xleft:xleft+window], (64,64))\n",
    "                # Get color features\n",
    "                spatial_features = bin_spatial(subimg, size=spatial_size)\n",
    "                hist_features = color_hist(subimg, nbins=hist_bins)\n",
    "\n",
    "                # Scale features and make a prediction\n",
    "                \"\"\"\n",
    "                For standard scaler, it expects a 2D array, which is why we need to call\n",
    "                .reshape(1,-1) to make a 1D array into a 2D array of 1 row and many columns\n",
    "                \"\"\"\n",
    "                feature_vector = np.concatenate((spatial_features, hist_features, hog_features)).reshape(1, -1) \n",
    "                \"\"\"\n",
    "                print(\"spatial features {}\".format(spatial_features.shape))\n",
    "                print(\"hist features {}\".format(hist_features.shape))\n",
    "                print(\"hog features {}\".format(hog_features.shape))\n",
    "                print(\"feature_vector {}\".format(feature_vector.shape))\n",
    "                \"\"\"\n",
    "                test_features = X_scaler.transform(feature_vector)\n",
    "                test_prediction = svc.predict(test_features)\n",
    "\n",
    "                \"\"\"\n",
    "                Recall that we divided by scale to resize the image.\n",
    "                To map back to the original image, multiply the coordinates by scale\n",
    "                \"\"\"\n",
    "                if test_prediction == 1:\n",
    "                    xbox_left = np.int(xleft*scale)\n",
    "                    ytop_draw = np.int(ytop*scale)\n",
    "                    win_draw = np.int(window*scale)\n",
    "                    cv2.rectangle(draw_img,(xbox_left, ytop_draw+ystart),(xbox_left+win_draw,ytop_draw+win_draw+ystart),box_color,6) \n",
    "            #end: for yb in range(nysteps):\n",
    "        #end: for xb in range(nxsteps):\n",
    "        #also draw the sub-region that was being search\n",
    "        #top left corner: (x,y): (0, ystart)\n",
    "        #bottom right corner: (x,y): (1280,ystop)\n",
    "        #make the box_color a bit lighter\n",
    "        box_color_lighter = tuple([np.int(x*0.7) for x in box_color])\n",
    "        cv2.rectangle(draw_img,(0,ystart),(draw_img.shape[1],ystop),box_color_lighter,6)\n",
    "    #end: for ii in range(n_regions):\n",
    "    \n",
    "    return draw_img"
   ]
  },
  {
   "cell_type": "code",
   "execution_count": 260,
   "metadata": {
    "scrolled": false
   },
   "outputs": [
    {
     "name": "stderr",
     "output_type": "stream",
     "text": [
      "/Users/edude/anaconda/envs/carnd-term1/lib/python3.5/site-packages/skimage/feature/_hog.py:119: skimage_deprecation: Default value of `block_norm`==`L1` is deprecated and will be changed to `L2-Hys` in v0.15\n",
      "  'be changed to `L2-Hys` in v0.15', skimage_deprecation)\n"
     ]
    },
    {
     "data": {
      "image/png": "[encoded data removed]",
      "text/plain": [
       "<matplotlib.figure.Figure at 0x1208f9cc0>"
      ]
     },
     "metadata": {},
     "output_type": "display_data"
    }
   ],
   "source": [
    "\n",
    "\"\"\"\n",
    "Search regions start from the middle of image, where cars are most far away and smaller\n",
    "Search regions closer to bottom of image are for cars closer to the camera.\n",
    "Scale < 1 is like zooming in for far-away images.\n",
    "Scale > 1 is like zooming out, for closer images.\n",
    "\"\"\"\n",
    "ystart = [375, 450, 525]\n",
    "ystop = [525, 600, 650]\n",
    "scale = [1.5, 1.6, 1.7]\n",
    "box_color = [(255,0,0),(0,255,0),(0,0,255)]\n",
    "\n",
    "\"\"\"\n",
    "Use the same parameters for testing \n",
    "as for training, else the X_scaler won't recognize \n",
    "the features that it's supposed to standardize.\n",
    "\"\"\"\n",
    "spatial_size=32\n",
    "hist_bins=32\n",
    "orient=9\n",
    "pix_per_cell=8\n",
    "cell_per_block=2\n",
    "color_space='YCrCb'\n",
    "\n",
    "#img = read_rgb('test_images/test1.jpg')\n",
    "img = mpimg.imread('test_images/test1.jpg')\n",
    "\n",
    "out_img = find_cars(img, color_space, ystart, ystop, scale, box_color, svc, X_scaler, orient, pix_per_cell, cell_per_block, \n",
    "                    (spatial_size,spatial_size), hist_bins)\n",
    "\n",
    "plt.imshow(out_img);"
   ]
  },
  {
   "cell_type": "code",
   "execution_count": 208,
   "metadata": {},
   "outputs": [
    {
     "data": {
      "text/plain": [
       "(720, 1280, 3)"
      ]
     },
     "execution_count": 208,
     "metadata": {},
     "output_type": "execute_result"
    }
   ],
   "source": [
    "img.shape"
   ]
  },
  {
   "cell_type": "code",
   "execution_count": 154,
   "metadata": {
    "collapsed": true
   },
   "outputs": [],
   "source": []
  },
  {
   "cell_type": "code",
   "execution_count": null,
   "metadata": {
    "collapsed": true
   },
   "outputs": [],
   "source": []
  }
 ],
 "metadata": {
  "kernelspec": {
   "display_name": "Python 3",
   "language": "python",
   "name": "python3"
  },
  "language_info": {
   "codemirror_mode": {
    "name": "ipython",
    "version": 3
   },
   "file_extension": ".py",
   "mimetype": "text/x-python",
   "name": "python",
   "nbconvert_exporter": "python",
   "pygments_lexer": "ipython3",
   "version": "3.5.2"
  },
  "widgets": {
   "state": {},
   "version": "1.1.2"
  }
 },
 "nbformat": 4,
 "nbformat_minor": 2
}
